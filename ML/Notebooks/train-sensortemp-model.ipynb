{
    "metadata": {
        "kernelspec": {
            "name": "python3",
            "display_name": "Python 3 (ipykernel)",
            "language": "python"
        },
        "language_info": {
            "name": "python",
            "version": "3.8.10",
            "mimetype": "text/x-python",
            "codemirror_mode": {
                "name": "ipython",
                "version": 3
            },
            "pygments_lexer": "ipython3",
            "nbconvert_exporter": "python",
            "file_extension": ".py"
        }
    },
    "nbformat_minor": 2,
    "nbformat": 4,
    "cells": [
        {
            "cell_type": "code",
            "source": [
                "import pyodbc\r\n",
                "import numpy as np\r\n",
                "import onnxmltools\r\n",
                "import onnxruntime as rt\r\n",
                "import pandas as pd\r\n",
                "import skl2onnx\r\n",
                "import sklearn\r\n",
                "import sklearn.datasets\r\n",
                "\r\n",
                "conn = pyodbc.connect('Driver={SQL Server};'\r\n",
                "                      'Server=iotedgevm-be9601db-be9601db.eastus.cloudapp.azure.com;'\r\n",
                "                      'Database=IoTEdgeDB;'\r\n",
                "                      'UID=sa;'\r\n",
                "                      'PWD=SuperSecretP@ssw0rd!;')\r\n",
                "\r\n",
                "query = 'SELECT top 100 * FROM dbo.SensorTemperature ORDER BY timeCreated DESC'\r\n",
                "cursor = conn.cursor()\r\n",
                "df = pd.read_sql(query, conn)\r\n",
                "\r\n",
                "target_column = 'ambientHumidity'\r\n",
                "x_train = pd.DataFrame(df.drop(['timeCreated', target_column], axis = 1))\r\n",
                "y_train = pd.DataFrame(df.iloc[:, df.columns.tolist().index(target_column)])\r\n",
                "\r\n",
                "print(\"\\n Training dataset x\\n\")\r\n",
                "print(x_train.head())\r\n",
                "\r\n",
                "print(\"\\n Training dataset y\\n\")\r\n",
                "print(y_train.head())"
            ],
            "metadata": {
                "azdata_cell_guid": "a107d897-1aa8-4048-80ce-3e1ae359189c",
                "tags": []
            },
            "outputs": [],
            "execution_count": null
        },
        {
            "cell_type": "code",
            "source": [
                "from sklearn.compose import ColumnTransformer\r\n",
                "from sklearn.linear_model import LinearRegression\r\n",
                "from sklearn.pipeline import Pipeline\r\n",
                "from sklearn.preprocessing import RobustScaler\r\n",
                "\r\n",
                "continuous_transformer = Pipeline(steps=[('scaler', RobustScaler())])\r\n",
                "\r\n",
                "# All columns are numeric - normalize them\r\n",
                "preprocessor = ColumnTransformer(\r\n",
                "    transformers=[\r\n",
                "        ('continuous', continuous_transformer, [i for i in range(len(x_train.columns))])\r\n",
                "    ]\r\n",
                ")\r\n",
                "\r\n",
                "model = Pipeline(\r\n",
                "    steps=[\r\n",
                "        ('preprocessor', preprocessor),\r\n",
                "        ('regressor', LinearRegression())\r\n",
                "    ]\r\n",
                ")\r\n",
                "\r\n",
                "model.fit(x_train, y_train)"
            ],
            "metadata": {
                "azdata_cell_guid": "8ee63aea-ba3c-451a-8446-81c8f8b18842",
                "tags": [
                    "hide_input"
                ]
            },
            "outputs": [],
            "execution_count": null
        },
        {
            "cell_type": "code",
            "source": [
                "# Score the model\r\n",
                "from sklearn.metrics import r2_score, mean_squared_error\r\n",
                "y_pred = model.predict(x_train)\r\n",
                "sklearn_r2_score = r2_score(y_train, y_pred)\r\n",
                "sklearn_mse = mean_squared_error(y_train, y_pred)\r\n",
                "print('*** Scikit-learn r2 score: {}'.format(sklearn_r2_score))\r\n",
                "print('*** Scikit-learn MSE: {}'.format(sklearn_mse))"
            ],
            "metadata": {
                "azdata_cell_guid": "1772cc5b-95bf-4a8f-a715-acce48709a6f",
                "tags": [
                    "hide_input"
                ]
            },
            "outputs": [
                {
                    "name": "stdout",
                    "text": "*** Scikit-learn r2 score: 0.02572781185295059\n*** Scikit-learn MSE: 0.6414608086760171\n",
                    "output_type": "stream"
                }
            ],
            "execution_count": 21
        },
        {
            "cell_type": "code",
            "source": [
                "from skl2onnx.common.data_types import FloatTensorType, Int64TensorType, DoubleTensorType\r\n",
                "\r\n",
                "def convert_dataframe_schema(df, drop=None, batch_axis=False):\r\n",
                "    inputs = []\r\n",
                "    nrows = None if batch_axis else 1\r\n",
                "    for k, v in zip(df.columns, df.dtypes):\r\n",
                "        if drop is not None and k in drop:\r\n",
                "            continue\r\n",
                "        if v == 'int64':\r\n",
                "            t = Int64TensorType([nrows, 1])\r\n",
                "        elif v == 'float32':\r\n",
                "            t = FloatTensorType([nrows, 1])\r\n",
                "        elif v == 'float64':\r\n",
                "            t = DoubleTensorType([nrows, 1])\r\n",
                "        else:\r\n",
                "            raise Exception(\"Bad type\")\r\n",
                "        inputs.append((k, t))\r\n",
                "    return inputs"
            ],
            "metadata": {
                "azdata_cell_guid": "cd2f436f-04f7-4bb3-b4fa-8b251cb9746c",
                "tags": [
                    "hide_input"
                ]
            },
            "outputs": [],
            "execution_count": 27
        },
        {
            "cell_type": "code",
            "source": [
                "# Convert the scikit model to onnx format\r\n",
                "onnx_model = skl2onnx.convert_sklearn(model, 'Sensor Temperature', convert_dataframe_schema(x_train), final_types=[('variable1',FloatTensorType([1,1]))])\r\n",
                "# Save the onnx model locally\r\n",
                "onnx_model_path = 'sensortemp.model.onnx'\r\n",
                "onnxmltools.utils.save_model(onnx_model, onnx_model_path)"
            ],
            "metadata": {
                "azdata_cell_guid": "e2816850-5c50-4605-baef-062418315094"
            },
            "outputs": [],
            "execution_count": 28
        },
        {
            "cell_type": "code",
            "source": [
                "import onnxruntime as rt\r\n",
                "sess = rt.InferenceSession(onnx_model_path)\r\n",
                "\r\n",
                "y_pred = np.full(shape=(len(x_train)), fill_value=np.nan)\r\n",
                "\r\n",
                "for i in range(len(x_train)):\r\n",
                "    inputs = {}\r\n",
                "    for j in range(len(x_train.columns)):\r\n",
                "        inputs[x_train.columns[j]] = np.full(shape=(1,1), fill_value=x_train.iloc[i,j])\r\n",
                "\r\n",
                "    sess_pred = sess.run(None, inputs)\r\n",
                "    y_pred[i] = sess_pred[0][0][0]\r\n",
                "\r\n",
                "onnx_r2_score = r2_score(y_train, y_pred)\r\n",
                "onnx_mse = mean_squared_error(y_train, y_pred)\r\n",
                "\r\n",
                "print()\r\n",
                "print('*** Onnx r2 score: {}'.format(onnx_r2_score))\r\n",
                "print('*** Onnx MSE: {}\\n'.format(onnx_mse))\r\n",
                "print('R2 Scores are equal' if sklearn_r2_score == onnx_r2_score else 'Difference in R2 scores: {}'.format(abs(sklearn_r2_score - onnx_r2_score)))\r\n",
                "print('MSE are equal' if sklearn_mse == onnx_mse else 'Difference in MSE scores: {}'.format(abs(sklearn_mse - onnx_mse)))\r\n",
                "print()"
            ],
            "metadata": {
                "azdata_cell_guid": "5db3aa1f-27e5-4e76-b39c-e05019e8bb27"
            },
            "outputs": [
                {
                    "name": "stdout",
                    "text": "\n*** Onnx r2 score: 0.025739706887990432\n*** Onnx MSE: 0.6414529769849469\n\nDifference in R2 scores: 1.1895035039843904e-05\nDifference in MSE scores: 7.831691070214752e-06\n\n",
                    "output_type": "stream"
                }
            ],
            "execution_count": 29
        },
        {
            "cell_type": "code",
            "source": [
                "# Create the model table\r\n",
                "table_name = 'Models'\r\n",
                "\r\n",
                "query = f'create table {table_name} ( ' \\\r\n",
                "    f'[id] [int] IDENTITY(1,1) NOT NULL, ' \\\r\n",
                "    f'[data] [varbinary](max) NULL, ' \\\r\n",
                "    f'[description] varchar(1000))'\r\n",
                "cursor.execute(query)\r\n",
                "conn.commit()\r\n",
                "\r\n",
                "# Insert the ONNX model into the models table\r\n",
                "query = f\"insert into {table_name} ([description], [data]) values ('Onnx Model',?)\"\r\n",
                "\r\n",
                "model_bits = onnx_model.SerializeToString()\r\n",
                "\r\n",
                "insert_params  = (pyodbc.Binary(model_bits))\r\n",
                "cursor.execute(query, insert_params)\r\n",
                "conn.commit()"
            ],
            "metadata": {
                "azdata_cell_guid": "1bb5b103-da60-439b-affd-924fdf337cca"
            },
            "outputs": [],
            "execution_count": 31
        }
    ]
}