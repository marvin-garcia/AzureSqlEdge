{
    "metadata": {
        "kernelspec": {
            "name": "SQL",
            "display_name": "SQL",
            "language": "sql"
        },
        "language_info": {
            "name": "sql",
            "version": ""
        }
    },
    "nbformat_minor": 2,
    "nbformat": 4,
    "cells": [
        {
            "cell_type": "markdown",
            "source": [
                "INSTALL DEPENDENCIES"
            ],
            "metadata": {
                "azdata_cell_guid": "b2c71178-6846-423d-a1fa-f864fab7c58b"
            },
            "attachments": {}
        },
        {
            "cell_type": "code",
            "source": [
                "!pip install pandas\r\n",
                "!pip install scikit-learn\r\n",
                "!pip install numpy\r\n",
                "!pip install onnxmltools\r\n",
                "!pip install onnxruntime\r\n",
                "!pip install pyodbc\r\n",
                "!pip install setuptools\r\n",
                "!pip install skl2onnx\r\n",
                "!pip install sqlalchemy"
            ],
            "metadata": {
                "azdata_cell_guid": "a6b17618-9951-4cf0-aca9-39e39f3020bf"
            },
            "outputs": [],
            "execution_count": null
        },
        {
            "cell_type": "markdown",
            "source": [
                "SET VALUES"
            ],
            "metadata": {
                "azdata_cell_guid": "c455a0cb-048b-405d-ae6d-0095fae75161"
            },
            "attachments": {}
        },
        {
            "cell_type": "code",
            "source": [
                "server = 'iotedgevm-be9601db-be9601db.eastus.cloudapp.azure.com' # SQL Server IP address\r\n",
                "username = 'sa' # SQL Server username\r\n",
                "password = 'SuperSecretP@ssw0rd!' # SQL Server password\r\n",
                "database = 'IoTEdgeDB'\r\n",
                "data_table = 'OpcNodes'\r\n",
                "models_table = 'Models'\r\n",
                "features_table = 'Features'\r\n",
                "target_table = 'Target'\r\n",
                "\r\n",
                "master_connection_string = \"Driver={ODBC Driver 17 for SQL Server};Server=\" + server + \";Database=master;UID=\" + username + \";PWD=\" + password + \";\"\r\n",
                "db_connection_string = \"Driver={ODBC Driver 17 for SQL Server};Server=\" + server + \";Database=\" + database + \";UID=\" + username + \";PWD=\" + password + \";\""
            ],
            "metadata": {
                "azdata_cell_guid": "7c6e9aa7-c080-4e58-95bc-e846aab39984"
            },
            "outputs": [],
            "execution_count": 40
        },
        {
            "cell_type": "markdown",
            "source": [
                "CREATE X TRAIN DATASET"
            ],
            "metadata": {
                "azdata_cell_guid": "bf2ef7fe-a9f0-479b-8e03-e34fed0a75df"
            },
            "attachments": {}
        },
        {
            "cell_type": "code",
            "source": [
                "import numpy as np\r\n",
                "import onnxmltools\r\n",
                "import onnxruntime as rt\r\n",
                "import pandas as pd\r\n",
                "import skl2onnx\r\n",
                "import sklearn\r\n",
                "import sklearn.datasets\r\n",
                "import pyodbc\r\n",
                "\r\n",
                "conn = pyodbc.connect(db_connection_string, autocommit=True)\r\n",
                "\r\n",
                "query = 'SELECT ApplicationUri, DipData, SpikeData, RandomSignedInt32 FROM OpcNodes WHERE DipData IS NOT NULL AND SpikeData IS NOT NULL AND RandomSignedInt32 IS NOT NULL'\r\n",
                "sql_query = pd.read_sql_query(query, conn)\r\n",
                "x_train = pd.DataFrame(sql_query, columns=['DipData', 'SpikeData', 'RandomSignedInt32'])\r\n",
                "\r\n",
                "print(\"\\n*** Training dataset x\\n\")\r\n",
                "print(x_train.head())"
            ],
            "metadata": {
                "azdata_cell_guid": "f52cbb89-8ac4-408d-b74c-2160b5691dc0"
            },
            "outputs": [
                {
                    "name": "stdout",
                    "text": "\n*** Training dataset x\n\n          ApplicationUri    DipData  SpikeData  RandomSignedInt32\n0  urn:OpcPlc:opcserver1  99.802673  99.802673       -164858984.0\n1  urn:OpcPlc:opcserver1  99.802673  99.802673       -164858984.0\n2  urn:OpcPlc:opcserver3 -90.482705 -90.482705       -153755509.0\n3  urn:OpcPlc:opcserver3 -84.432793 -90.482705       -153755509.0\n4  urn:OpcPlc:opcserver1  99.802673  99.802673       -164858984.0\n",
                    "output_type": "stream"
                }
            ],
            "execution_count": 6
        },
        {
            "cell_type": "markdown",
            "source": [
                "CREATE Y TRAIN DATASET"
            ],
            "metadata": {
                "azdata_cell_guid": "7f2af60d-bccd-494f-951a-1cc1e24f9c6a"
            },
            "attachments": {}
        },
        {
            "cell_type": "code",
            "source": [
                "target_column = 'MEDV'\r\n",
                "y_train = pd.DataFrame()\r\n",
                "\r\n",
                "y_train[target_column] = np.random.randint(100, size=(len(x_train)))\r\n",
                "\r\n",
                "print(\"\\n*** Training dataset y\\n\")\r\n",
                "print(y_train.head())"
            ],
            "metadata": {
                "azdata_cell_guid": "297d66f3-8f21-409d-8068-b285c9425efe"
            },
            "outputs": [
                {
                    "name": "stdout",
                    "text": "\n*** Training dataset y\n\n   MEDV\n0    46\n1    43\n2    96\n3    61\n4    39\n",
                    "output_type": "stream"
                }
            ],
            "execution_count": 22
        },
        {
            "cell_type": "markdown",
            "source": [
                "CREATE PIPELINE TO TRAIN THE LINEAR REGRESSION MODEL"
            ],
            "metadata": {
                "azdata_cell_guid": "593b8da3-a05e-40d8-85b6-cc8ee56d2d95"
            },
            "attachments": {}
        },
        {
            "cell_type": "code",
            "source": [
                "from sklearn.compose import ColumnTransformer\r\n",
                "from sklearn.linear_model import LinearRegression\r\n",
                "from sklearn.pipeline import Pipeline\r\n",
                "from sklearn.preprocessing import RobustScaler\r\n",
                "\r\n",
                "continuous_transformer = Pipeline(steps=[('scaler', RobustScaler())])\r\n",
                "\r\n",
                "# All columns are numeric - normalize them\r\n",
                "preprocessor = ColumnTransformer(\r\n",
                "    transformers=[\r\n",
                "        ('continuous', continuous_transformer, [i for i in range(len(x_train.columns))])])\r\n",
                "\r\n",
                "model = Pipeline(\r\n",
                "    steps=[\r\n",
                "        ('preprocessor', preprocessor),\r\n",
                "        ('regressor', LinearRegression())])\r\n",
                "\r\n",
                "# Train the model\r\n",
                "model.fit(x_train, y_train)"
            ],
            "metadata": {
                "azdata_cell_guid": "1220be84-0b79-4993-a151-b8a045ef2cfe"
            },
            "outputs": [
                {
                    "data": {
                        "text/plain": "Pipeline(steps=[('preprocessor',\n                 ColumnTransformer(transformers=[('continuous',\n                                                  Pipeline(steps=[('scaler',\n                                                                   RobustScaler())]),\n                                                  [0, 1, 2])])),\n                ('regressor', LinearRegression())])"
                    },
                    "metadata": {},
                    "execution_count": 31,
                    "output_type": "execute_result"
                }
            ],
            "execution_count": 31
        },
        {
            "cell_type": "markdown",
            "source": [
                "CHECK MODEL ACCURACY"
            ],
            "metadata": {
                "azdata_cell_guid": "380624de-b936-4ecf-bee7-d5ba1d4d9659"
            },
            "attachments": {}
        },
        {
            "cell_type": "code",
            "source": [
                "# Score the model\r\n",
                "from sklearn.metrics import r2_score, mean_squared_error\r\n",
                "y_pred = model.predict(x_train)\r\n",
                "sklearn_r2_score = r2_score(y_train, y_pred)\r\n",
                "sklearn_mse = mean_squared_error(y_train, y_pred)\r\n",
                "print('*** Scikit-learn r2 score: {}'.format(sklearn_r2_score))\r\n",
                "print('*** Scikit-learn MSE: {}'.format(sklearn_mse))"
            ],
            "metadata": {
                "azdata_cell_guid": "a628102e-fd8f-43d4-9723-444caa09cedf"
            },
            "outputs": [
                {
                    "name": "stdout",
                    "text": "*** Scikit-learn r2 score: 0.0009219027813874847\n*** Scikit-learn MSE: 823.7350351654205\n",
                    "output_type": "stream"
                }
            ],
            "execution_count": 33
        },
        {
            "cell_type": "markdown",
            "source": [
                "DEFINE FUNCTION TO CONVERT MODEL TO ONNX"
            ],
            "metadata": {
                "azdata_cell_guid": "b83c76fe-ad20-43ca-af38-163c3750965d"
            },
            "attachments": {}
        },
        {
            "cell_type": "code",
            "source": [
                "from skl2onnx.common.data_types import FloatTensorType, Int64TensorType, DoubleTensorType\r\n",
                "\r\n",
                "def convert_dataframe_schema(df, drop=None, batch_axis=False):\r\n",
                "    inputs = []\r\n",
                "    nrows = None if batch_axis else 1\r\n",
                "    for k, v in zip(df.columns, df.dtypes):\r\n",
                "        if drop is not None and k in drop:\r\n",
                "            continue\r\n",
                "        if v == 'int64':\r\n",
                "            t = Int64TensorType([nrows, 1])\r\n",
                "        elif v == 'float32':\r\n",
                "            t = FloatTensorType([nrows, 1])\r\n",
                "        elif v == 'float64':\r\n",
                "            t = DoubleTensorType([nrows, 1])\r\n",
                "        else:\r\n",
                "            raise Exception(\"Bad type\")\r\n",
                "        inputs.append((k, t))\r\n",
                "    return inputs"
            ],
            "metadata": {
                "azdata_cell_guid": "66d907db-56bf-4dcd-b742-cf2c9105d313"
            },
            "outputs": [],
            "execution_count": 34
        },
        {
            "cell_type": "markdown",
            "source": [
                "SAVE MODEL IN ONNX FORMAT"
            ],
            "metadata": {
                "azdata_cell_guid": "2a9fc89a-b24d-47e1-8379-4aefd83b0397"
            },
            "attachments": {}
        },
        {
            "cell_type": "code",
            "source": [
                "# Convert the scikit model to onnx format\r\n",
                "onnx_model = skl2onnx.convert_sklearn(model, 'OPC tags data', convert_dataframe_schema(x_train), final_types=[('variable1',FloatTensorType([1,1]))], target_opset=11)\r\n",
                "# Save the onnx model locally\r\n",
                "onnx_model_path = 'opcnodes.model.onnx'\r\n",
                "onnxmltools.utils.save_model(onnx_model, onnx_model_path)"
            ],
            "metadata": {
                "azdata_cell_guid": "95a37d5d-4fca-44b5-ab4a-757debe1a414"
            },
            "outputs": [],
            "execution_count": 48
        },
        {
            "cell_type": "markdown",
            "source": [
                "TEST ONNX MODEL"
            ],
            "metadata": {
                "azdata_cell_guid": "e7b75cf7-8a94-42b9-b012-beb0666fbe55"
            },
            "attachments": {}
        },
        {
            "cell_type": "code",
            "source": [
                "import onnxruntime as rt\r\n",
                "sess = rt.InferenceSession(onnx_model_path)\r\n",
                "\r\n",
                "y_pred = np.full(shape=(len(x_train)), fill_value=np.nan)\r\n",
                "\r\n",
                "for i in range(len(x_train)):\r\n",
                "    inputs = {}\r\n",
                "    for j in range(len(x_train.columns)):\r\n",
                "        inputs[x_train.columns[j]] = np.full(shape=(1,1), fill_value=x_train.iloc[i,j])\r\n",
                "\r\n",
                "    sess_pred = sess.run(None, inputs)\r\n",
                "    y_pred[i] = sess_pred[0][0][0]\r\n",
                "\r\n",
                "onnx_r2_score = r2_score(y_train, y_pred)\r\n",
                "onnx_mse = mean_squared_error(y_train, y_pred)\r\n",
                "\r\n",
                "print()\r\n",
                "print('*** Onnx r2 score: {}'.format(onnx_r2_score))\r\n",
                "print('*** Onnx MSE: {}\\n'.format(onnx_mse))\r\n",
                "print('R2 Scores are equal' if sklearn_r2_score == onnx_r2_score else 'Difference in R2 scores: {}'.format(abs(sklearn_r2_score - onnx_r2_score)))\r\n",
                "print('MSE are equal' if sklearn_mse == onnx_mse else 'Difference in MSE scores: {}'.format(abs(sklearn_mse - onnx_mse)))\r\n",
                "print()"
            ],
            "metadata": {
                "azdata_cell_guid": "1ba02875-cb66-489c-9341-502e853be0f5"
            },
            "outputs": [
                {
                    "name": "stdout",
                    "text": "\n*** Onnx r2 score: 0.0009219022185058545\n*** Onnx MSE: 823.7350356295136\n\nDifference in R2 scores: 5.628816301950224e-10\nDifference in MSE scores: 4.640930910682073e-07\n\n",
                    "output_type": "stream"
                }
            ],
            "execution_count": 49
        },
        {
            "cell_type": "markdown",
            "source": [
                "<u>INSERT MODEL IN DATABASE</u>"
            ],
            "metadata": {
                "azdata_cell_guid": "f1afba4f-18ea-4cfa-98c7-50cac1aad6f0"
            },
            "attachments": {}
        },
        {
            "cell_type": "code",
            "source": [
                "import pyodbc\r\n",
                "\r\n",
                "# Insert the ONNX model into the models table for each value of ApplicationUri\r\n",
                "query = f'SELECT DISTINCT ApplicationUri FROM {data_table}'\r\n",
                "cursor = conn.cursor()\r\n",
                "cursor.execute(query)\r\n",
                "application_uris = cursor.fetchall()\r\n",
                "\r\n",
                "for app in application_uris:\r\n",
                "    query = f\"insert into {models_table} ([applicationUri], [description], [data]) values ('{app[0]}', 'Onnx Model', ?)\"\r\n",
                "    model_bits = onnx_model.SerializeToString()\r\n",
                "    insert_params  = (pyodbc.Binary(model_bits))\r\n",
                "    cursor.execute(query, insert_params)\r\n",
                "    conn.commit()"
            ],
            "metadata": {
                "azdata_cell_guid": "7903a3ec-b5c7-45e8-8d2b-3d4a93d0385a"
            },
            "outputs": [],
            "execution_count": 57
        },
        {
            "cell_type": "markdown",
            "source": [
                "ENSURE MODEL HAS BEEN STORED IN TABLE"
            ],
            "metadata": {
                "azdata_cell_guid": "2beb33c4-1ab6-482e-91af-9e1e2ba331ff"
            },
            "attachments": {}
        },
        {
            "cell_type": "code",
            "source": [
                "conn = pyodbc.connect(db_connection_string, autocommit=True)\r\n",
                "cursor = conn.cursor()\r\n",
                "query = f'SELECT * FROM {models_table}'\r\n",
                "cursor.execute(query)\r\n",
                "\r\n",
                "for row in cursor.fetchall():\r\n",
                "    print(row)\r\n",
                ""
            ],
            "metadata": {
                "azdata_cell_guid": "061a59f9-69b2-499b-8131-4d355766e9f8"
            },
            "outputs": [
                {
                    "name": "stdout",
                    "text": "(3, b'\\x08\\x06\\x12\\x08skl2onnx\\x1a\\x051.9.0\"\\x07ai.onnx(\\x002\\x00:\\xfc\\x06\\nE\\n\\x11RandomSignedInt32\\x12\\x16RandomSignedInt32_cast\\x1a\\x05Cast2\"\\x04Cast*\\t\\n\\x02to\\x18\\x0b\\xa0\\x01\\x02:\\x00\\n0\\n\\x07DipData\\x12\\x0cDipData_cast\\x1a\\x04Cast\"\\x04Cast*\\t\\n\\x02to\\x18\\x0b\\xa0\\x01\\x02:\\x00\\n5\\n\\tSpikeData\\x12\\x0eSpikeData_cast\\x1a\\x05Cast1\"\\x04Cast*\\t\\n\\x02to\\x18\\x0b\\xa0\\x01\\x02:\\x00\\ne\\n\\x0cDipData_cast\\n\\x0eSpikeData_cast\\n\\x16RandomSignedInt32_cast\\x12\\x0emerged_columns\\x1a\\x06Concat\"\\x06Concat*\\x0b\\n\\x04axis\\x18\\x01\\xa0\\x01\\x02:\\x00\\n1\\n\\x0emerged_columns\\n\\tSu_Subcst\\x12\\x05Su_C0\\x1a\\x06Su_Sub\"\\x03Sub:\\x00\\n+\\n\\x05Su_C0\\n\\tDi_Divcst\\x12\\x08variable\\x1a\\x06Di_Div\"\\x03Div:\\x00\\n.\\n\\x08variable\\n\\x04coef\\x12\\nmultiplied\\x1a\\x06MatMul\"\\x06MatMul:\\x00\\n)\\n\\nmultiplied\\n\\tintercept\\x12\\x04resh\\x1a\\x03Add\"\\x03Add:\\x00\\n3\\n\\x04resh\\n\\x0cshape_tensor\\x12\\tvariable2\\x1a\\x07Reshape\"\\x07Reshape:\\x00\\n0\\n\\tvariable2\\x12\\tvariable1\\x1a\\x05Cast3\"\\x04Cast*\\t\\n\\x02to\\x18\\x01\\xa0\\x01\\x02:\\x00\\x12\\rOPC tags data*)\\x08\\x03\\x10\\x0bB\\tSu_SubcstR\\x18\\x0e\\x0c\\x0c\\x14\\x19\\x1b2=\\x0e\\x0c\\x0c\\x14\\x19\\x1b2=\\x00\\x00\\x00\\x00\\xfb?X\\xc1*)\\x08\\x03\\x10\\x0bB\\tDi_DivcstR\\x18\\xbbL\\xb8\\xee\\x88\\x07g@\\xbbL\\xb8\\xee\\x88\\x07g@\\x00\\x00\\xa0O\\xd4I\\xdeA*&\\x08\\x03\\x08\\x01\\x10\\x0bB\\x04coefR\\x18\\xf81\\x8c\\x94@\\x9a\\xdc\\xbf\"\\x0f\\xdc\\xc8\\x00\\xde\\xc3?\\x89\\xa7S\\xf9<\\x8e\\xf5\\xbf*\\x19\\x08\\x01\\x10\\x0bB\\tinterceptR\\x08\\xa3K!d\\xcd\\x99H@*\\x1f\\x08\\x02\\x10\\x07:\\x0b\\xff\\xff\\xff\\xff\\xff\\xff\\xff\\xff\\xff\\x01\\x01B\\x0cshape_tensorZ\\x19\\n\\x07DipData\\x12\\x0e\\n\\x0c\\x08\\x0b\\x12\\x08\\n\\x02\\x08\\x01\\n\\x02\\x08\\x01Z\\x1b\\n\\tSpikeData\\x12\\x0e\\n\\x0c\\x08\\x0b\\x12\\x08\\n\\x02\\x08\\x01\\n\\x02\\x08\\x01Z#\\n\\x11RandomSignedInt32\\x12\\x0e\\n\\x0c\\x08\\x0b\\x12\\x08\\n\\x02\\x08\\x01\\n\\x02\\x08\\x01b\\x1b\\n\\tvariable1\\x12\\x0e\\n\\x0c\\x08\\x01\\x12\\x08\\n\\x02\\x08\\x01\\n\\x02\\x08\\x01B\\x04\\n\\x00\\x10\\x0b', 'Onnx Model', 'urn:OpcPlc:opcserver1')\n(4, b'\\x08\\x06\\x12\\x08skl2onnx\\x1a\\x051.9.0\"\\x07ai.onnx(\\x002\\x00:\\xfc\\x06\\nE\\n\\x11RandomSignedInt32\\x12\\x16RandomSignedInt32_cast\\x1a\\x05Cast2\"\\x04Cast*\\t\\n\\x02to\\x18\\x0b\\xa0\\x01\\x02:\\x00\\n0\\n\\x07DipData\\x12\\x0cDipData_cast\\x1a\\x04Cast\"\\x04Cast*\\t\\n\\x02to\\x18\\x0b\\xa0\\x01\\x02:\\x00\\n5\\n\\tSpikeData\\x12\\x0eSpikeData_cast\\x1a\\x05Cast1\"\\x04Cast*\\t\\n\\x02to\\x18\\x0b\\xa0\\x01\\x02:\\x00\\ne\\n\\x0cDipData_cast\\n\\x0eSpikeData_cast\\n\\x16RandomSignedInt32_cast\\x12\\x0emerged_columns\\x1a\\x06Concat\"\\x06Concat*\\x0b\\n\\x04axis\\x18\\x01\\xa0\\x01\\x02:\\x00\\n1\\n\\x0emerged_columns\\n\\tSu_Subcst\\x12\\x05Su_C0\\x1a\\x06Su_Sub\"\\x03Sub:\\x00\\n+\\n\\x05Su_C0\\n\\tDi_Divcst\\x12\\x08variable\\x1a\\x06Di_Div\"\\x03Div:\\x00\\n.\\n\\x08variable\\n\\x04coef\\x12\\nmultiplied\\x1a\\x06MatMul\"\\x06MatMul:\\x00\\n)\\n\\nmultiplied\\n\\tintercept\\x12\\x04resh\\x1a\\x03Add\"\\x03Add:\\x00\\n3\\n\\x04resh\\n\\x0cshape_tensor\\x12\\tvariable2\\x1a\\x07Reshape\"\\x07Reshape:\\x00\\n0\\n\\tvariable2\\x12\\tvariable1\\x1a\\x05Cast3\"\\x04Cast*\\t\\n\\x02to\\x18\\x01\\xa0\\x01\\x02:\\x00\\x12\\rOPC tags data*)\\x08\\x03\\x10\\x0bB\\tSu_SubcstR\\x18\\x0e\\x0c\\x0c\\x14\\x19\\x1b2=\\x0e\\x0c\\x0c\\x14\\x19\\x1b2=\\x00\\x00\\x00\\x00\\xfb?X\\xc1*)\\x08\\x03\\x10\\x0bB\\tDi_DivcstR\\x18\\xbbL\\xb8\\xee\\x88\\x07g@\\xbbL\\xb8\\xee\\x88\\x07g@\\x00\\x00\\xa0O\\xd4I\\xdeA*&\\x08\\x03\\x08\\x01\\x10\\x0bB\\x04coefR\\x18\\xf81\\x8c\\x94@\\x9a\\xdc\\xbf\"\\x0f\\xdc\\xc8\\x00\\xde\\xc3?\\x89\\xa7S\\xf9<\\x8e\\xf5\\xbf*\\x19\\x08\\x01\\x10\\x0bB\\tinterceptR\\x08\\xa3K!d\\xcd\\x99H@*\\x1f\\x08\\x02\\x10\\x07:\\x0b\\xff\\xff\\xff\\xff\\xff\\xff\\xff\\xff\\xff\\x01\\x01B\\x0cshape_tensorZ\\x19\\n\\x07DipData\\x12\\x0e\\n\\x0c\\x08\\x0b\\x12\\x08\\n\\x02\\x08\\x01\\n\\x02\\x08\\x01Z\\x1b\\n\\tSpikeData\\x12\\x0e\\n\\x0c\\x08\\x0b\\x12\\x08\\n\\x02\\x08\\x01\\n\\x02\\x08\\x01Z#\\n\\x11RandomSignedInt32\\x12\\x0e\\n\\x0c\\x08\\x0b\\x12\\x08\\n\\x02\\x08\\x01\\n\\x02\\x08\\x01b\\x1b\\n\\tvariable1\\x12\\x0e\\n\\x0c\\x08\\x01\\x12\\x08\\n\\x02\\x08\\x01\\n\\x02\\x08\\x01B\\x04\\n\\x00\\x10\\x0b', 'Onnx Model', 'urn:OpcPlc:opcserver3')\n(5, b'\\x08\\x06\\x12\\x08skl2onnx\\x1a\\x051.9.0\"\\x07ai.onnx(\\x002\\x00:\\xfc\\x06\\nE\\n\\x11RandomSignedInt32\\x12\\x16RandomSignedInt32_cast\\x1a\\x05Cast2\"\\x04Cast*\\t\\n\\x02to\\x18\\x0b\\xa0\\x01\\x02:\\x00\\n0\\n\\x07DipData\\x12\\x0cDipData_cast\\x1a\\x04Cast\"\\x04Cast*\\t\\n\\x02to\\x18\\x0b\\xa0\\x01\\x02:\\x00\\n5\\n\\tSpikeData\\x12\\x0eSpikeData_cast\\x1a\\x05Cast1\"\\x04Cast*\\t\\n\\x02to\\x18\\x0b\\xa0\\x01\\x02:\\x00\\ne\\n\\x0cDipData_cast\\n\\x0eSpikeData_cast\\n\\x16RandomSignedInt32_cast\\x12\\x0emerged_columns\\x1a\\x06Concat\"\\x06Concat*\\x0b\\n\\x04axis\\x18\\x01\\xa0\\x01\\x02:\\x00\\n1\\n\\x0emerged_columns\\n\\tSu_Subcst\\x12\\x05Su_C0\\x1a\\x06Su_Sub\"\\x03Sub:\\x00\\n+\\n\\x05Su_C0\\n\\tDi_Divcst\\x12\\x08variable\\x1a\\x06Di_Div\"\\x03Div:\\x00\\n.\\n\\x08variable\\n\\x04coef\\x12\\nmultiplied\\x1a\\x06MatMul\"\\x06MatMul:\\x00\\n)\\n\\nmultiplied\\n\\tintercept\\x12\\x04resh\\x1a\\x03Add\"\\x03Add:\\x00\\n3\\n\\x04resh\\n\\x0cshape_tensor\\x12\\tvariable2\\x1a\\x07Reshape\"\\x07Reshape:\\x00\\n0\\n\\tvariable2\\x12\\tvariable1\\x1a\\x05Cast3\"\\x04Cast*\\t\\n\\x02to\\x18\\x01\\xa0\\x01\\x02:\\x00\\x12\\rOPC tags data*)\\x08\\x03\\x10\\x0bB\\tSu_SubcstR\\x18\\x0e\\x0c\\x0c\\x14\\x19\\x1b2=\\x0e\\x0c\\x0c\\x14\\x19\\x1b2=\\x00\\x00\\x00\\x00\\xfb?X\\xc1*)\\x08\\x03\\x10\\x0bB\\tDi_DivcstR\\x18\\xbbL\\xb8\\xee\\x88\\x07g@\\xbbL\\xb8\\xee\\x88\\x07g@\\x00\\x00\\xa0O\\xd4I\\xdeA*&\\x08\\x03\\x08\\x01\\x10\\x0bB\\x04coefR\\x18\\xf81\\x8c\\x94@\\x9a\\xdc\\xbf\"\\x0f\\xdc\\xc8\\x00\\xde\\xc3?\\x89\\xa7S\\xf9<\\x8e\\xf5\\xbf*\\x19\\x08\\x01\\x10\\x0bB\\tinterceptR\\x08\\xa3K!d\\xcd\\x99H@*\\x1f\\x08\\x02\\x10\\x07:\\x0b\\xff\\xff\\xff\\xff\\xff\\xff\\xff\\xff\\xff\\x01\\x01B\\x0cshape_tensorZ\\x19\\n\\x07DipData\\x12\\x0e\\n\\x0c\\x08\\x0b\\x12\\x08\\n\\x02\\x08\\x01\\n\\x02\\x08\\x01Z\\x1b\\n\\tSpikeData\\x12\\x0e\\n\\x0c\\x08\\x0b\\x12\\x08\\n\\x02\\x08\\x01\\n\\x02\\x08\\x01Z#\\n\\x11RandomSignedInt32\\x12\\x0e\\n\\x0c\\x08\\x0b\\x12\\x08\\n\\x02\\x08\\x01\\n\\x02\\x08\\x01b\\x1b\\n\\tvariable1\\x12\\x0e\\n\\x0c\\x08\\x01\\x12\\x08\\n\\x02\\x08\\x01\\n\\x02\\x08\\x01B\\x04\\n\\x00\\x10\\x0b', 'Onnx Model', 'urn:OpcPlc:opcserver2')\n",
                    "output_type": "stream"
                }
            ],
            "execution_count": 58
        },
        {
            "cell_type": "markdown",
            "source": [
                "CREATE FEATURES AND TARGET TABLES"
            ],
            "metadata": {
                "azdata_cell_guid": "38e9f5f6-2b9b-490e-8177-fe5b654c5211"
            },
            "attachments": {}
        },
        {
            "cell_type": "code",
            "source": [
                "import sqlalchemy\r\n",
                "from sqlalchemy import create_engine\r\n",
                "import urllib\r\n",
                "\r\n",
                "conn = pyodbc.connect(db_connection_string)\r\n",
                "cursor = conn.cursor()\r\n",
                "\r\n",
                "features_table_name = 'features'\r\n",
                "\r\n",
                "# Drop the table if it exists\r\n",
                "query = f'drop table if exists {features_table_name}'\r\n",
                "cursor.execute(query)\r\n",
                "conn.commit()\r\n",
                "\r\n",
                "# Create the features table\r\n",
                "query = \\\r\n",
                "    f'create table {features_table_name} ( ' \\\r\n",
                "    f'    [CRIM] float, ' \\\r\n",
                "    f'    [ZN] float, ' \\\r\n",
                "    f'    [INDUS] float, ' \\\r\n",
                "    f'    [CHAS] float, ' \\\r\n",
                "    f'    [NOX] float, ' \\\r\n",
                "    f'    [RM] float, ' \\\r\n",
                "    f'    [AGE] float, ' \\\r\n",
                "    f'    [DIS] float, ' \\\r\n",
                "    f'    [RAD] float, ' \\\r\n",
                "    f'    [TAX] float, ' \\\r\n",
                "    f'    [PTRATIO] float, ' \\\r\n",
                "    f'    [B] float, ' \\\r\n",
                "    f'    [LSTAT] float, ' \\\r\n",
                "    f'    [id] int)'\r\n",
                "\r\n",
                "cursor.execute(query)\r\n",
                "conn.commit()\r\n",
                "\r\n",
                "target_table_name = 'target'\r\n",
                "\r\n",
                "query = f'drop table if exists {target_table_name}'\r\n",
                "cursor.execute(query)\r\n",
                "conn.commit()\r\n",
                "\r\n",
                "# Create the target table\r\n",
                "query = \\\r\n",
                "    f'create table {target_table_name} ( ' \\\r\n",
                "    f'    [MEDV] float, ' \\\r\n",
                "    f'    [id] int)'\r\n",
                "\r\n",
                "cursor.execute(query)\r\n",
                "conn.commit()\r\n",
                "\r\n",
                "x_train['id'] = range(1, len(x_train)+1)\r\n",
                "y_train['id'] = range(1, len(y_train)+1)\r\n",
                "\r\n",
                "print(x_train.head())\r\n",
                "print(y_train.head())"
            ],
            "metadata": {
                "azdata_cell_guid": "3fe85731-6acf-48a7-9b7a-23961c76482c"
            },
            "outputs": [
                {
                    "output_type": "stream",
                    "name": "stdout",
                    "text": "      CRIM    ZN  INDUS  CHAS    NOX     RM   AGE     DIS  RAD    TAX  \\\n0  0.00632  18.0   2.31   0.0  0.538  6.575  65.2  4.0900  1.0  296.0   \n1  0.02731   0.0   7.07   0.0  0.469  6.421  78.9  4.9671  2.0  242.0   \n2  0.02729   0.0   7.07   0.0  0.469  7.185  61.1  4.9671  2.0  242.0   \n3  0.03237   0.0   2.18   0.0  0.458  6.998  45.8  6.0622  3.0  222.0   \n4  0.06905   0.0   2.18   0.0  0.458  7.147  54.2  6.0622  3.0  222.0   \n\n   PTRATIO       B  LSTAT  id  \n0     15.3  396.90   4.98   1  \n1     17.8  396.90   9.14   2  \n2     17.8  392.83   4.03   3  \n3     18.7  394.63   2.94   4  \n4     18.7  396.90   5.33   5  \n   MEDV  id\n0  24.0   1\n1  21.6   2\n2  34.7   3\n3  33.4   4\n4  36.2   5\n"
                }
            ],
            "execution_count": 93
        },
        {
            "cell_type": "markdown",
            "source": [
                "INSERT FEATURES & TARGET DATASETS INTO THE DATABASE"
            ],
            "metadata": {
                "azdata_cell_guid": "45ce265f-81b9-4eac-9e4a-1b2483e8b69d"
            },
            "attachments": {}
        },
        {
            "cell_type": "code",
            "source": [
                "cursor = conn.cursor()\r\n",
                "\r\n",
                "# for index, row in x_train.iterrows():\r\n",
                "#     # print(index)\r\n",
                "#     cursor.execute(f'INSERT INTO {features_table_name} (CRIM,ZN,INDUS,CHAS,NOX,RM,AGE,DIS,RAD,TAX,PTRATIO,B,LSTAT,id) VALUES ({row.CRIM},{row.ZN},{row.INDUS},{row.CHAS},{row.NOX},{row.RM},{row.AGE},{row.DIS},{row.RAD},{row.TAX},{row.PTRATIO},{row.B},{row.LSTAT},{row.id})')\r\n",
                "\r\n",
                "# conn.commit()\r\n",
                "\r\n",
                "for index, row in y_train.iterrows():\r\n",
                "    # print(index)\r\n",
                "    cursor.execute(f'INSERT INTO {target_table_name} (MEDV,id) VALUES ({row.MEDV},{row.id})')\r\n",
                "\r\n",
                "conn.commit()\r\n",
                "cursor.close()"
            ],
            "metadata": {
                "azdata_cell_guid": "3853118d-cfc0-4876-9f58-aeccd1c61d74"
            },
            "outputs": [],
            "execution_count": 95
        },
        {
            "cell_type": "code",
            "source": [
                "RUN PREDICT STATEMENT (SWITCH TO SQL KERNEL)"
            ],
            "metadata": {
                "azdata_cell_guid": "4a6c5c3c-87bd-4a1e-b08d-52981cbb8dce"
            },
            "outputs": [],
            "execution_count": null
        },
        {
            "cell_type": "code",
            "source": [
                "USE IoTEdgeDB\r\n",
                "\r\n",
                "DECLARE @model VARBINARY(max) = (\r\n",
                "    SELECT DATA\r\n",
                "    FROM dbo.Models\r\n",
                "    WHERE applicationUri = 'urn:OpcPlc:opcserver1'\r\n",
                "    );\r\n",
                "\r\n",
                "WITH predict_input\r\n",
                "AS (\r\n",
                "    SELECT TOP (1000) [id]\r\n",
                "        , DipData\r\n",
                "        , SpikeData\r\n",
                "        , RandomSignedInt32\r\n",
                "    FROM [dbo].[OpcNodes]\r\n",
                "    )\r\n",
                "SELECT predict_input.id\r\n",
                "    , p.variable1 AS MEDV\r\n",
                "FROM PREDICT(MODEL = @model, DATA = predict_input, RUNTIME=ONNX) WITH (variable1 FLOAT) AS p;\r\n",
                ""
            ],
            "metadata": {
                "azdata_cell_guid": "a553facc-ef3d-4410-be76-8935c5c03972"
            },
            "outputs": [
                {
                    "output_type": "display_data",
                    "data": {
                        "text/html": "(410 rows affected)"
                    },
                    "metadata": {}
                },
                {
                    "output_type": "display_data",
                    "data": {
                        "text/html": "Total execution time: 00:00:00.084"
                    },
                    "metadata": {}
                },
                {
                    "output_type": "execute_result",
                    "metadata": {},
                    "execution_count": 2,
                    "data": {
                        "application/vnd.dataresource+json": {
                            "schema": {
                                "fields": [
                                    {
                                        "name": "id"
                                    },
                                    {
                                        "name": "MEDV"
                                    }
                                ]
                            },
                            "data": [
                                {
                                    "0": "1",
                                    "1": "48.7689094543457"
                                },
                                {
                                    "0": "2",
                                    "1": "48.7689094543457"
                                },
                                {
                                    "0": "3",
                                    "1": "48.606109619140625"
                                },
                                {
                                    "0": "4",
                                    "1": "49.06769943237305"
                                },
                                {
                                    "0": "5",
                                    "1": "49.04322052001953"
                                },
                                {
                                    "0": "6",
                                    "1": "49.04322052001953"
                                },
                                {
                                    "0": "7",
                                    "1": "49.666194915771484"
                                },
                                {
                                    "0": "8",
                                    "1": "48.90781021118164"
                                },
                                {
                                    "0": "9",
                                    "1": "48.97811508178711"
                                },
                                {
                                    "0": "10",
                                    "1": "50.00716018676758"
                                },
                                {
                                    "0": "11",
                                    "1": "49.79546356201172"
                                },
                                {
                                    "0": "12",
                                    "1": "49.79546356201172"
                                },
                                {
                                    "0": "13",
                                    "1": "49.635154724121094"
                                },
                                {
                                    "0": "14",
                                    "1": "48.505401611328125"
                                },
                                {
                                    "0": "15",
                                    "1": "48.622798919677734"
                                },
                                {
                                    "0": "16",
                                    "1": "49.084388732910156"
                                },
                                {
                                    "0": "17",
                                    "1": "49.084388732910156"
                                },
                                {
                                    "0": "18",
                                    "1": "50.00308609008789"
                                },
                                {
                                    "0": "19",
                                    "1": "50.74542236328125"
                                },
                                {
                                    "0": "20",
                                    "1": "49.88827896118164"
                                },
                                {
                                    "0": "21",
                                    "1": "49.65306091308594"
                                },
                                {
                                    "0": "22",
                                    "1": "49.68346405029297"
                                },
                                {
                                    "0": "23",
                                    "1": "49.76754379272461"
                                },
                                {
                                    "0": "24",
                                    "1": "50.03756332397461"
                                },
                                {
                                    "0": "25",
                                    "1": "49.368038177490234"
                                },
                                {
                                    "0": "26",
                                    "1": "49.12594223022461"
                                },
                                {
                                    "0": "27",
                                    "1": "49.12594223022461"
                                },
                                {
                                    "0": "28",
                                    "1": "48.970726013183594"
                                },
                                {
                                    "0": "29",
                                    "1": "48.62789535522461"
                                },
                                {
                                    "0": "30",
                                    "1": "48.08762741088867"
                                },
                                {
                                    "0": "31",
                                    "1": "48.530723571777344"
                                },
                                {
                                    "0": "32",
                                    "1": "48.530723571777344"
                                },
                                {
                                    "0": "33",
                                    "1": "48.60185623168945"
                                },
                                {
                                    "0": "34",
                                    "1": "48.95146560668945"
                                },
                                {
                                    "0": "35",
                                    "1": "48.96614456176758"
                                },
                                {
                                    "0": "36",
                                    "1": "48.74665069580078"
                                },
                                {
                                    "0": "37",
                                    "1": "48.74665069580078"
                                },
                                {
                                    "0": "38",
                                    "1": "48.82940673828125"
                                },
                                {
                                    "0": "39",
                                    "1": "49.36671447753906"
                                },
                                {
                                    "0": "40",
                                    "1": "48.468955993652344"
                                },
                                {
                                    "0": "41",
                                    "1": "48.230674743652344"
                                },
                                {
                                    "0": "42",
                                    "1": "48.230674743652344"
                                },
                                {
                                    "0": "43",
                                    "1": "48.071693420410156"
                                },
                                {
                                    "0": "44",
                                    "1": "48.0825309753418"
                                },
                                {
                                    "0": "45",
                                    "1": "48.00218200683594"
                                },
                                {
                                    "0": "46",
                                    "1": "48.46377182006836"
                                },
                                {
                                    "0": "47",
                                    "1": "48.46377182006836"
                                },
                                {
                                    "0": "48",
                                    "1": "48.540000915527344"
                                },
                                {
                                    "0": "49",
                                    "1": "48.50172805786133"
                                },
                                {
                                    "0": "50",
                                    "1": "48.50172805786133"
                                },
                                {
                                    "0": "51",
                                    "1": "48.28223419189453"
                                },
                                {
                                    "0": "52",
                                    "1": "48.28223419189453"
                                },
                                {
                                    "0": "53",
                                    "1": "48.36631393432617"
                                },
                                {
                                    "0": "54",
                                    "1": "48.47028350830078"
                                },
                                {
                                    "0": "55",
                                    "1": "48.60704803466797"
                                },
                                {
                                    "0": "56",
                                    "1": "48.36494827270508"
                                },
                                {
                                    "0": "57",
                                    "1": "48.36494827270508"
                                },
                                {
                                    "0": "58",
                                    "1": "48.20463943481445"
                                },
                                {
                                    "0": "59",
                                    "1": "48.00218200683594"
                                },
                                {
                                    "0": "60",
                                    "1": "49.54841613769531"
                                },
                                {
                                    "0": "61",
                                    "1": "50.010009765625"
                                },
                                {
                                    "0": "62",
                                    "1": "50.010009765625"
                                },
                                {
                                    "0": "63",
                                    "1": "50.08623504638672"
                                },
                                {
                                    "0": "64",
                                    "1": "50.762535095214844"
                                },
                                {
                                    "0": "65",
                                    "1": "50.74785614013672"
                                },
                                {
                                    "0": "66",
                                    "1": "50.54304122924805"
                                },
                                {
                                    "0": "67",
                                    "1": "50.54304122924805"
                                },
                                {
                                    "0": "68",
                                    "1": "50.62712478637695"
                                },
                                {
                                    "0": "69",
                                    "1": "48.60704803466797"
                                },
                                {
                                    "0": "70",
                                    "1": "49.52329635620117"
                                },
                                {
                                    "0": "71",
                                    "1": "49.27987289428711"
                                },
                                {
                                    "0": "72",
                                    "1": "49.27987289428711"
                                },
                                {
                                    "0": "73",
                                    "1": "49.12980270385742"
                                },
                                {
                                    "0": "74",
                                    "1": "49.55733108520508"
                                },
                                {
                                    "0": "75",
                                    "1": "49.39023208618164"
                                },
                                {
                                    "0": "76",
                                    "1": "49.83332824707031"
                                },
                                {
                                    "0": "77",
                                    "1": "49.83332824707031"
                                },
                                {
                                    "0": "78",
                                    "1": "49.90446090698242"
                                },
                                {
                                    "0": "79",
                                    "1": "50.666656494140625"
                                },
                                {
                                    "0": "80",
                                    "1": "50.681331634521484"
                                },
                                {
                                    "0": "81",
                                    "1": "50.46184158325195"
                                },
                                {
                                    "0": "82",
                                    "1": "50.46184158325195"
                                },
                                {
                                    "0": "83",
                                    "1": "50.54459762573242"
                                },
                                {
                                    "0": "84",
                                    "1": "49.52197265625"
                                },
                                {
                                    "0": "85",
                                    "1": "48.47136306762695"
                                },
                                {
                                    "0": "86",
                                    "1": "48.234405517578125"
                                },
                                {
                                    "0": "87",
                                    "1": "48.234405517578125"
                                },
                                {
                                    "0": "88",
                                    "1": "48.07027816772461"
                                },
                                {
                                    "0": "89",
                                    "1": "49.381317138671875"
                                },
                                {
                                    "0": "90",
                                    "1": "50.17923355102539"
                                },
                                {
                                    "0": "91",
                                    "1": "50.64082336425781"
                                },
                                {
                                    "0": "92",
                                    "1": "50.64082336425781"
                                },
                                {
                                    "0": "93",
                                    "1": "50.7170524597168"
                                },
                                {
                                    "0": "94",
                                    "1": "48.25980758666992"
                                },
                                {
                                    "0": "95",
                                    "1": "48.25980758666992"
                                },
                                {
                                    "0": "96",
                                    "1": "48.04031753540039"
                                },
                                {
                                    "0": "97",
                                    "1": "50.413883209228516"
                                },
                                {
                                    "0": "98",
                                    "1": "50.497962951660156"
                                },
                                {
                                    "0": "99",
                                    "1": "48.472686767578125"
                                },
                                {
                                    "0": "100",
                                    "1": "49.39736557006836"
                                },
                                {
                                    "0": "101",
                                    "1": "49.15526580810547"
                                },
                                {
                                    "0": "102",
                                    "1": "49.15526580810547"
                                },
                                {
                                    "0": "103",
                                    "1": "48.994956970214844"
                                },
                                {
                                    "0": "104",
                                    "1": "50.17923355102539"
                                },
                                {
                                    "0": "105",
                                    "1": "48.59922409057617"
                                },
                                {
                                    "0": "106",
                                    "1": "49.060813903808594"
                                },
                                {
                                    "0": "107",
                                    "1": "49.060813903808594"
                                },
                                {
                                    "0": "108",
                                    "1": "49.13704299926758"
                                },
                                {
                                    "0": "109",
                                    "1": "50.63337326049805"
                                },
                                {
                                    "0": "110",
                                    "1": "50.63337326049805"
                                },
                                {
                                    "0": "111",
                                    "1": "50.413883209228516"
                                },
                                {
                                    "0": "112",
                                    "1": "50.424442291259766"
                                },
                                {
                                    "0": "113",
                                    "1": "50.497962951660156"
                                },
                                {
                                    "0": "114",
                                    "1": "49.36696243286133"
                                },
                                {
                                    "0": "115",
                                    "1": "50.56521987915039"
                                },
                                {
                                    "0": "116",
                                    "1": "50.35352325439453"
                                },
                                {
                                    "0": "117",
                                    "1": "50.35352325439453"
                                },
                                {
                                    "0": "118",
                                    "1": "52.86109161376953"
                                },
                                {
                                    "0": "119",
                                    "1": "51.2671012878418"
                                },
                                {
                                    "0": "120",
                                    "1": "48.60432052612305"
                                },
                                {
                                    "0": "121",
                                    "1": "49.06591033935547"
                                },
                                {
                                    "0": "122",
                                    "1": "50.472633361816406"
                                },
                                {
                                    "0": "123",
                                    "1": "50.554325103759766"
                                },
                                {
                                    "0": "124",
                                    "1": "48.098026275634766"
                                },
                                {
                                    "0": "125",
                                    "1": "48.087467193603516"
                                },
                                {
                                    "0": "126",
                                    "1": "47.85224914550781"
                                },
                                {
                                    "0": "127",
                                    "1": "47.882652282714844"
                                },
                                {
                                    "0": "128",
                                    "1": "47.966732025146484"
                                },
                                {
                                    "0": "129",
                                    "1": "50.59562301635742"
                                },
                                {
                                    "0": "130",
                                    "1": "48.81630325317383"
                                },
                                {
                                    "0": "131",
                                    "1": "48.57420349121094"
                                },
                                {
                                    "0": "132",
                                    "1": "48.57420349121094"
                                },
                                {
                                    "0": "133",
                                    "1": "48.41899108886719"
                                },
                                {
                                    "0": "134",
                                    "1": "50.025718688964844"
                                },
                                {
                                    "0": "135",
                                    "1": "49.315460205078125"
                                },
                                {
                                    "0": "136",
                                    "1": "49.75727844238281"
                                },
                                {
                                    "0": "137",
                                    "1": "49.75727844238281"
                                },
                                {
                                    "0": "138",
                                    "1": "49.848182678222656"
                                },
                                {
                                    "0": "139",
                                    "1": "49.515419006347656"
                                },
                                {
                                    "0": "140",
                                    "1": "49.5007438659668"
                                },
                                {
                                    "0": "141",
                                    "1": "49.295928955078125"
                                },
                                {
                                    "0": "142",
                                    "1": "49.295928955078125"
                                },
                                {
                                    "0": "143",
                                    "1": "49.380008697509766"
                                },
                                {
                                    "0": "144",
                                    "1": "48.81630325317383"
                                },
                                {
                                    "0": "145",
                                    "1": "49.008697509765625"
                                },
                                {
                                    "0": "146",
                                    "1": "49.524986267089844"
                                },
                                {
                                    "0": "147",
                                    "1": "49.524986267089844"
                                },
                                {
                                    "0": "148",
                                    "1": "48.611385345458984"
                                },
                                {
                                    "0": "149",
                                    "1": "49.315460205078125"
                                },
                                {
                                    "0": "150",
                                    "1": "48.18888473510742"
                                },
                                {
                                    "0": "151",
                                    "1": "48.635799407958984"
                                },
                                {
                                    "0": "152",
                                    "1": "48.635799407958984"
                                },
                                {
                                    "0": "153",
                                    "1": "48.706932067871094"
                                },
                                {
                                    "0": "154",
                                    "1": "48.91122055053711"
                                },
                                {
                                    "0": "155",
                                    "1": "48.91122055053711"
                                },
                                {
                                    "0": "156",
                                    "1": "48.70640563964844"
                                },
                                {
                                    "0": "157",
                                    "1": "48.70640563964844"
                                },
                                {
                                    "0": "158",
                                    "1": "49.54887390136719"
                                },
                                {
                                    "0": "159",
                                    "1": "49.76708221435547"
                                },
                                {
                                    "0": "160",
                                    "1": "51.23915100097656"
                                },
                                {
                                    "0": "161",
                                    "1": "50.23866271972656"
                                },
                                {
                                    "0": "162",
                                    "1": "50.23866271972656"
                                },
                                {
                                    "0": "163",
                                    "1": "50.08345031738281"
                                },
                                {
                                    "0": "164",
                                    "1": "48.18888473510742"
                                },
                                {
                                    "0": "165",
                                    "1": "49.656742095947266"
                                },
                                {
                                    "0": "166",
                                    "1": "50.09856033325195"
                                },
                                {
                                    "0": "167",
                                    "1": "50.09856033325195"
                                },
                                {
                                    "0": "168",
                                    "1": "50.1894645690918"
                                },
                                {
                                    "0": "169",
                                    "1": "49.621490478515625"
                                },
                                {
                                    "0": "170",
                                    "1": "49.621490478515625"
                                },
                                {
                                    "0": "171",
                                    "1": "49.40199661254883"
                                },
                                {
                                    "0": "172",
                                    "1": "49.40199661254883"
                                },
                                {
                                    "0": "173",
                                    "1": "49.486080169677734"
                                },
                                {
                                    "0": "174",
                                    "1": "50.48076248168945"
                                },
                                {
                                    "0": "175",
                                    "1": "49.57279586791992"
                                },
                                {
                                    "0": "176",
                                    "1": "49.33069610595703"
                                },
                                {
                                    "0": "177",
                                    "1": "49.33069610595703"
                                },
                                {
                                    "0": "178",
                                    "1": "49.170387268066406"
                                },
                                {
                                    "0": "179",
                                    "1": "49.65164566040039"
                                },
                                {
                                    "0": "180",
                                    "1": "50.095706939697266"
                                },
                                {
                                    "0": "181",
                                    "1": "50.55729675292969"
                                },
                                {
                                    "0": "182",
                                    "1": "50.55729675292969"
                                },
                                {
                                    "0": "183",
                                    "1": "50.63352584838867"
                                },
                                {
                                    "0": "184",
                                    "1": "49.20016098022461"
                                },
                                {
                                    "0": "185",
                                    "1": "49.196041107177734"
                                },
                                {
                                    "0": "186",
                                    "1": "48.99122619628906"
                                },
                                {
                                    "0": "187",
                                    "1": "48.95026397705078"
                                },
                                {
                                    "0": "188",
                                    "1": "49.03434753417969"
                                },
                                {
                                    "0": "189",
                                    "1": "49.57279586791992"
                                },
                                {
                                    "0": "190",
                                    "1": "48.96895980834961"
                                },
                                {
                                    "0": "191",
                                    "1": "48.72686004638672"
                                },
                                {
                                    "0": "192",
                                    "1": "48.72686004638672"
                                },
                                {
                                    "0": "193",
                                    "1": "48.57164764404297"
                                },
                                {
                                    "0": "194",
                                    "1": "50.10080337524414"
                                },
                                {
                                    "0": "195",
                                    "1": "47.970462799072266"
                                },
                                {
                                    "0": "196",
                                    "1": "48.41737747192383"
                                },
                                {
                                    "0": "197",
                                    "1": "48.41737747192383"
                                },
                                {
                                    "0": "198",
                                    "1": "48.48851013183594"
                                },
                                {
                                    "0": "199",
                                    "1": "50.205204010009766"
                                },
                                {
                                    "0": "200",
                                    "1": "50.205204010009766"
                                },
                                {
                                    "0": "201",
                                    "1": "50.00038528442383"
                                },
                                {
                                    "0": "202",
                                    "1": "50.00038528442383"
                                },
                                {
                                    "0": "203",
                                    "1": "50.084468841552734"
                                },
                                {
                                    "0": "204",
                                    "1": "48.96895980834961"
                                },
                                {
                                    "0": "205",
                                    "1": "50.43730163574219"
                                },
                                {
                                    "0": "206",
                                    "1": "50.1952018737793"
                                },
                                {
                                    "0": "207",
                                    "1": "50.1952018737793"
                                },
                                {
                                    "0": "208",
                                    "1": "50.03998947143555"
                                },
                                {
                                    "0": "209",
                                    "1": "47.970462799072266"
                                },
                                {
                                    "0": "210",
                                    "1": "49.190311431884766"
                                },
                                {
                                    "0": "211",
                                    "1": "49.63722610473633"
                                },
                                {
                                    "0": "212",
                                    "1": "49.63722610473633"
                                },
                                {
                                    "0": "213",
                                    "1": "49.70835876464844"
                                },
                                {
                                    "0": "214",
                                    "1": "50.230228424072266"
                                },
                                {
                                    "0": "215",
                                    "1": "50.244903564453125"
                                },
                                {
                                    "0": "216",
                                    "1": "50.02540969848633"
                                },
                                {
                                    "0": "217",
                                    "1": "50.02540969848633"
                                },
                                {
                                    "0": "218",
                                    "1": "50.109493255615234"
                                },
                                {
                                    "0": "219",
                                    "1": "50.43730163574219"
                                },
                                {
                                    "0": "220",
                                    "1": "48.44423294067383"
                                },
                                {
                                    "0": "221",
                                    "1": "48.20213317871094"
                                },
                                {
                                    "0": "222",
                                    "1": "48.20213317871094"
                                },
                                {
                                    "0": "223",
                                    "1": "50.70970153808594"
                                },
                                {
                                    "0": "224",
                                    "1": "51.85309600830078"
                                },
                                {
                                    "0": "225",
                                    "1": "50.354591369628906"
                                },
                                {
                                    "0": "226",
                                    "1": "48.1483039855957"
                                },
                                {
                                    "0": "227",
                                    "1": "48.1483039855957"
                                },
                                {
                                    "0": "228",
                                    "1": "48.22453308105469"
                                },
                                {
                                    "0": "229",
                                    "1": "50.69840621948242"
                                },
                                {
                                    "0": "230",
                                    "1": "50.69840621948242"
                                },
                                {
                                    "0": "231",
                                    "1": "50.47891616821289"
                                },
                                {
                                    "0": "232",
                                    "1": "50.48947525024414"
                                },
                                {
                                    "0": "233",
                                    "1": "50.56299591064453"
                                },
                                {
                                    "0": "234",
                                    "1": "48.4138298034668"
                                },
                                {
                                    "0": "235",
                                    "1": "48.67747116088867"
                                },
                                {
                                    "0": "236",
                                    "1": "51.132328033447266"
                                },
                                {
                                    "0": "237",
                                    "1": "51.132328033447266"
                                },
                                {
                                    "0": "238",
                                    "1": "48.30928421020508"
                                },
                                {
                                    "0": "239",
                                    "1": "47.69053268432617"
                                },
                                {
                                    "0": "240",
                                    "1": "48.71805953979492"
                                },
                                {
                                    "0": "241",
                                    "1": "49.179649353027344"
                                },
                                {
                                    "0": "242",
                                    "1": "49.179649353027344"
                                },
                                {
                                    "0": "243",
                                    "1": "49.26643753051758"
                                },
                                {
                                    "0": "244",
                                    "1": "48.74113082885742"
                                },
                                {
                                    "0": "245",
                                    "1": "50.936859130859375"
                                },
                                {
                                    "0": "246",
                                    "1": "48.480674743652344"
                                },
                                {
                                    "0": "247",
                                    "1": "48.511077880859375"
                                },
                                {
                                    "0": "248",
                                    "1": "48.59516143798828"
                                },
                                {
                                    "0": "249",
                                    "1": "48.7078742980957"
                                },
                                {
                                    "0": "250",
                                    "1": "49.63218688964844"
                                },
                                {
                                    "0": "251",
                                    "1": "50.148475646972656"
                                },
                                {
                                    "0": "252",
                                    "1": "50.148475646972656"
                                },
                                {
                                    "0": "253",
                                    "1": "49.22977828979492"
                                },
                                {
                                    "0": "254",
                                    "1": "48.71805953979492"
                                },
                                {
                                    "0": "255",
                                    "1": "49.9276237487793"
                                },
                                {
                                    "0": "256",
                                    "1": "52.59550476074219"
                                },
                                {
                                    "0": "257",
                                    "1": "52.59550476074219"
                                },
                                {
                                    "0": "258",
                                    "1": "50.4654426574707"
                                },
                                {
                                    "0": "259",
                                    "1": "49.482666015625"
                                },
                                {
                                    "0": "260",
                                    "1": "49.49322509765625"
                                },
                                {
                                    "0": "261",
                                    "1": "49.27373504638672"
                                },
                                {
                                    "0": "262",
                                    "1": "49.23277282714844"
                                },
                                {
                                    "0": "263",
                                    "1": "49.31685256958008"
                                },
                                {
                                    "0": "264",
                                    "1": "49.63218688964844"
                                },
                                {
                                    "0": "265",
                                    "1": "49.94586181640625"
                                },
                                {
                                    "0": "266",
                                    "1": "49.70243453979492"
                                },
                                {
                                    "0": "267",
                                    "1": "49.70243453979492"
                                },
                                {
                                    "0": "268",
                                    "1": "49.547271728515625"
                                },
                                {
                                    "0": "269",
                                    "1": "49.93144226074219"
                                },
                                {
                                    "0": "270",
                                    "1": "48.82769012451172"
                                },
                                {
                                    "0": "271",
                                    "1": "49.28927993774414"
                                },
                                {
                                    "0": "272",
                                    "1": "49.28927993774414"
                                },
                                {
                                    "0": "273",
                                    "1": "49.365509033203125"
                                },
                                {
                                    "0": "274",
                                    "1": "50.38969039916992"
                                },
                                {
                                    "0": "275",
                                    "1": "50.37501525878906"
                                },
                                {
                                    "0": "276",
                                    "1": "50.17020034790039"
                                },
                                {
                                    "0": "277",
                                    "1": "50.17020034790039"
                                },
                                {
                                    "0": "278",
                                    "1": "50.25428009033203"
                                },
                                {
                                    "0": "279",
                                    "1": "49.94586181640625"
                                },
                                {
                                    "0": "280",
                                    "1": "50.23131561279297"
                                },
                                {
                                    "0": "281",
                                    "1": "49.989219665527344"
                                },
                                {
                                    "0": "282",
                                    "1": "49.989219665527344"
                                },
                                {
                                    "0": "283",
                                    "1": "49.834007263183594"
                                },
                                {
                                    "0": "284",
                                    "1": "48.832786560058594"
                                },
                                {
                                    "0": "285",
                                    "1": "50.57123565673828"
                                },
                                {
                                    "0": "286",
                                    "1": "48.35026931762695"
                                },
                                {
                                    "0": "287",
                                    "1": "48.35026931762695"
                                },
                                {
                                    "0": "288",
                                    "1": "48.42140197753906"
                                },
                                {
                                    "0": "289",
                                    "1": "50.15810012817383"
                                },
                                {
                                    "0": "290",
                                    "1": "50.17277526855469"
                                },
                                {
                                    "0": "291",
                                    "1": "49.953285217285156"
                                },
                                {
                                    "0": "292",
                                    "1": "49.953285217285156"
                                },
                                {
                                    "0": "293",
                                    "1": "50.0373649597168"
                                },
                                {
                                    "0": "294",
                                    "1": "50.23131561279297"
                                },
                                {
                                    "0": "295",
                                    "1": "49.818267822265625"
                                },
                                {
                                    "0": "296",
                                    "1": "52.244049072265625"
                                },
                                {
                                    "0": "297",
                                    "1": "52.244049072265625"
                                },
                                {
                                    "0": "298",
                                    "1": "50.334556579589844"
                                },
                                {
                                    "0": "299",
                                    "1": "48.81695556640625"
                                },
                                {
                                    "0": "300",
                                    "1": "49.625587463378906"
                                },
                                {
                                    "0": "301",
                                    "1": "49.168479919433594"
                                },
                                {
                                    "0": "302",
                                    "1": "49.168479919433594"
                                },
                                {
                                    "0": "303",
                                    "1": "49.24470901489258"
                                },
                                {
                                    "0": "304",
                                    "1": "48.88671875"
                                },
                                {
                                    "0": "305",
                                    "1": "48.872039794921875"
                                },
                                {
                                    "0": "306",
                                    "1": "48.6672248840332"
                                },
                                {
                                    "0": "307",
                                    "1": "48.67778396606445"
                                },
                                {
                                    "0": "308",
                                    "1": "48.75130844116211"
                                },
                                {
                                    "0": "309",
                                    "1": "49.787864685058594"
                                },
                                {
                                    "0": "310",
                                    "1": "48.46973419189453"
                                },
                                {
                                    "0": "311",
                                    "1": "48.25803756713867"
                                },
                                {
                                    "0": "312",
                                    "1": "48.25803756713867"
                                },
                                {
                                    "0": "313",
                                    "1": "48.10282516479492"
                                },
                                {
                                    "0": "314",
                                    "1": "48.71198654174805"
                                },
                                {
                                    "0": "315",
                                    "1": "48.98329162597656"
                                },
                                {
                                    "0": "316",
                                    "1": "49.430206298828125"
                                },
                                {
                                    "0": "317",
                                    "1": "49.430206298828125"
                                },
                                {
                                    "0": "318",
                                    "1": "49.511898040771484"
                                },
                                {
                                    "0": "319",
                                    "1": "48.468807220458984"
                                },
                                {
                                    "0": "320",
                                    "1": "48.458251953125"
                                },
                                {
                                    "0": "321",
                                    "1": "48.22303009033203"
                                },
                                {
                                    "0": "322",
                                    "1": "48.25343322753906"
                                },
                                {
                                    "0": "323",
                                    "1": "48.33751678466797"
                                },
                                {
                                    "0": "324",
                                    "1": "48.50013732910156"
                                },
                                {
                                    "0": "325",
                                    "1": "50.525516510009766"
                                },
                                {
                                    "0": "326",
                                    "1": "50.28208923339844"
                                },
                                {
                                    "0": "327",
                                    "1": "50.28208923339844"
                                },
                                {
                                    "0": "328",
                                    "1": "50.132022857666016"
                                },
                                {
                                    "0": "329",
                                    "1": "48.98711013793945"
                                },
                                {
                                    "0": "330",
                                    "1": "49.29956817626953"
                                },
                                {
                                    "0": "331",
                                    "1": "49.74138641357422"
                                },
                                {
                                    "0": "332",
                                    "1": "49.74138641357422"
                                },
                                {
                                    "0": "333",
                                    "1": "49.83229064941406"
                                },
                                {
                                    "0": "334",
                                    "1": "48.11056900024414"
                                },
                                {
                                    "0": "335",
                                    "1": "48.11056900024414"
                                },
                                {
                                    "0": "336",
                                    "1": "47.89107894897461"
                                },
                                {
                                    "0": "337",
                                    "1": "47.89107894897461"
                                },
                                {
                                    "0": "338",
                                    "1": "47.97515869140625"
                                },
                                {
                                    "0": "339",
                                    "1": "50.525516510009766"
                                },
                                {
                                    "0": "340",
                                    "1": "49.39996337890625"
                                },
                                {
                                    "0": "341",
                                    "1": "49.157867431640625"
                                },
                                {
                                    "0": "342",
                                    "1": "49.157867431640625"
                                },
                                {
                                    "0": "343",
                                    "1": "48.997554779052734"
                                },
                                {
                                    "0": "344",
                                    "1": "49.294471740722656"
                                },
                                {
                                    "0": "345",
                                    "1": "49.015445709228516"
                                },
                                {
                                    "0": "346",
                                    "1": "49.47703552246094"
                                },
                                {
                                    "0": "347",
                                    "1": "49.47703552246094"
                                },
                                {
                                    "0": "348",
                                    "1": "49.55326461791992"
                                },
                                {
                                    "0": "349",
                                    "1": "50.01973342895508"
                                },
                                {
                                    "0": "350",
                                    "1": "50.01973342895508"
                                },
                                {
                                    "0": "351",
                                    "1": "49.80024337768555"
                                },
                                {
                                    "0": "352",
                                    "1": "49.8108024597168"
                                },
                                {
                                    "0": "353",
                                    "1": "49.88432312011719"
                                },
                                {
                                    "0": "354",
                                    "1": "49.36956024169922"
                                },
                                {
                                    "0": "355",
                                    "1": "49.93079376220703"
                                },
                                {
                                    "0": "356",
                                    "1": "49.71909713745117"
                                },
                                {
                                    "0": "357",
                                    "1": "49.71909713745117"
                                },
                                {
                                    "0": "358",
                                    "1": "49.55878829956055"
                                },
                                {
                                    "0": "359",
                                    "1": "49.015445709228516"
                                },
                                {
                                    "0": "360",
                                    "1": "49.8709831237793"
                                },
                                {
                                    "0": "361",
                                    "1": "50.33767318725586"
                                },
                                {
                                    "0": "362",
                                    "1": "50.33767318725586"
                                },
                                {
                                    "0": "363",
                                    "1": "50.404685974121094"
                                },
                                {
                                    "0": "364",
                                    "1": "50.26192855834961"
                                },
                                {
                                    "0": "365",
                                    "1": "50.25136947631836"
                                },
                                {
                                    "0": "366",
                                    "1": "50.016151428222656"
                                },
                                {
                                    "0": "367",
                                    "1": "50.04655456542969"
                                },
                                {
                                    "0": "368",
                                    "1": "50.130638122558594"
                                },
                                {
                                    "0": "369",
                                    "1": "49.96119689941406"
                                },
                                {
                                    "0": "370",
                                    "1": "48.541473388671875"
                                },
                                {
                                    "0": "371",
                                    "1": "48.299373626708984"
                                },
                                {
                                    "0": "372",
                                    "1": "48.299373626708984"
                                },
                                {
                                    "0": "373",
                                    "1": "48.144161224365234"
                                },
                                {
                                    "0": "374",
                                    "1": "49.87607955932617"
                                },
                                {
                                    "0": "375",
                                    "1": "49.84910202026367"
                                },
                                {
                                    "0": "376",
                                    "1": "50.296016693115234"
                                },
                                {
                                    "0": "377",
                                    "1": "50.296016693115234"
                                },
                                {
                                    "0": "378",
                                    "1": "50.367149353027344"
                                },
                                {
                                    "0": "379",
                                    "1": "49.79663848876953"
                                },
                                {
                                    "0": "380",
                                    "1": "49.79663848876953"
                                },
                                {
                                    "0": "381",
                                    "1": "49.59182357788086"
                                },
                                {
                                    "0": "382",
                                    "1": "49.59182357788086"
                                },
                                {
                                    "0": "383",
                                    "1": "49.6759033203125"
                                },
                                {
                                    "0": "384",
                                    "1": "48.541473388671875"
                                },
                                {
                                    "0": "385",
                                    "1": "48.28400802612305"
                                },
                                {
                                    "0": "386",
                                    "1": "48.041908264160156"
                                },
                                {
                                    "0": "387",
                                    "1": "48.041908264160156"
                                },
                                {
                                    "0": "388",
                                    "1": "47.886695861816406"
                                },
                                {
                                    "0": "389",
                                    "1": "49.84910202026367"
                                },
                                {
                                    "0": "390",
                                    "1": "48.478580474853516"
                                },
                                {
                                    "0": "391",
                                    "1": "48.92549514770508"
                                },
                                {
                                    "0": "392",
                                    "1": "48.92549514770508"
                                },
                                {
                                    "0": "393",
                                    "1": "48.99662780761719"
                                },
                                {
                                    "0": "394",
                                    "1": "48.88786315917969"
                                },
                                {
                                    "0": "395",
                                    "1": "48.90253829956055"
                                },
                                {
                                    "0": "396",
                                    "1": "48.683048248291016"
                                },
                                {
                                    "0": "397",
                                    "1": "48.683048248291016"
                                },
                                {
                                    "0": "398",
                                    "1": "48.767127990722656"
                                },
                                {
                                    "0": "399",
                                    "1": "48.28400802612305"
                                },
                                {
                                    "0": "400",
                                    "1": "49.874351501464844"
                                },
                                {
                                    "0": "401",
                                    "1": "49.63225173950195"
                                },
                                {
                                    "0": "402",
                                    "1": "49.63225173950195"
                                },
                                {
                                    "0": "403",
                                    "1": "49.54816818237305"
                                },
                                {
                                    "0": "404",
                                    "1": "48.95526885986328"
                                },
                                {
                                    "0": "405",
                                    "1": "48.95526885986328"
                                },
                                {
                                    "0": "406",
                                    "1": "49.19736862182617"
                                },
                                {
                                    "0": "407",
                                    "1": "49.19736862182617"
                                },
                                {
                                    "0": "408",
                                    "1": "49.19736862182617"
                                },
                                {
                                    "0": "409",
                                    "1": "49.19736862182617"
                                },
                                {
                                    "0": "410",
                                    "1": "49.19736862182617"
                                }
                            ]
                        },
                        "text/html": [
                            "<table>",
                            "<tr><th>id</th><th>MEDV</th></tr>",
                            "<tr><td>1</td><td>48.7689094543457</td></tr>",
                            "<tr><td>2</td><td>48.7689094543457</td></tr>",
                            "<tr><td>3</td><td>48.606109619140625</td></tr>",
                            "<tr><td>4</td><td>49.06769943237305</td></tr>",
                            "<tr><td>5</td><td>49.04322052001953</td></tr>",
                            "<tr><td>6</td><td>49.04322052001953</td></tr>",
                            "<tr><td>7</td><td>49.666194915771484</td></tr>",
                            "<tr><td>8</td><td>48.90781021118164</td></tr>",
                            "<tr><td>9</td><td>48.97811508178711</td></tr>",
                            "<tr><td>10</td><td>50.00716018676758</td></tr>",
                            "<tr><td>11</td><td>49.79546356201172</td></tr>",
                            "<tr><td>12</td><td>49.79546356201172</td></tr>",
                            "<tr><td>13</td><td>49.635154724121094</td></tr>",
                            "<tr><td>14</td><td>48.505401611328125</td></tr>",
                            "<tr><td>15</td><td>48.622798919677734</td></tr>",
                            "<tr><td>16</td><td>49.084388732910156</td></tr>",
                            "<tr><td>17</td><td>49.084388732910156</td></tr>",
                            "<tr><td>18</td><td>50.00308609008789</td></tr>",
                            "<tr><td>19</td><td>50.74542236328125</td></tr>",
                            "<tr><td>20</td><td>49.88827896118164</td></tr>",
                            "<tr><td>21</td><td>49.65306091308594</td></tr>",
                            "<tr><td>22</td><td>49.68346405029297</td></tr>",
                            "<tr><td>23</td><td>49.76754379272461</td></tr>",
                            "<tr><td>24</td><td>50.03756332397461</td></tr>",
                            "<tr><td>25</td><td>49.368038177490234</td></tr>",
                            "<tr><td>26</td><td>49.12594223022461</td></tr>",
                            "<tr><td>27</td><td>49.12594223022461</td></tr>",
                            "<tr><td>28</td><td>48.970726013183594</td></tr>",
                            "<tr><td>29</td><td>48.62789535522461</td></tr>",
                            "<tr><td>30</td><td>48.08762741088867</td></tr>",
                            "<tr><td>31</td><td>48.530723571777344</td></tr>",
                            "<tr><td>32</td><td>48.530723571777344</td></tr>",
                            "<tr><td>33</td><td>48.60185623168945</td></tr>",
                            "<tr><td>34</td><td>48.95146560668945</td></tr>",
                            "<tr><td>35</td><td>48.96614456176758</td></tr>",
                            "<tr><td>36</td><td>48.74665069580078</td></tr>",
                            "<tr><td>37</td><td>48.74665069580078</td></tr>",
                            "<tr><td>38</td><td>48.82940673828125</td></tr>",
                            "<tr><td>39</td><td>49.36671447753906</td></tr>",
                            "<tr><td>40</td><td>48.468955993652344</td></tr>",
                            "<tr><td>41</td><td>48.230674743652344</td></tr>",
                            "<tr><td>42</td><td>48.230674743652344</td></tr>",
                            "<tr><td>43</td><td>48.071693420410156</td></tr>",
                            "<tr><td>44</td><td>48.0825309753418</td></tr>",
                            "<tr><td>45</td><td>48.00218200683594</td></tr>",
                            "<tr><td>46</td><td>48.46377182006836</td></tr>",
                            "<tr><td>47</td><td>48.46377182006836</td></tr>",
                            "<tr><td>48</td><td>48.540000915527344</td></tr>",
                            "<tr><td>49</td><td>48.50172805786133</td></tr>",
                            "<tr><td>50</td><td>48.50172805786133</td></tr>",
                            "<tr><td>51</td><td>48.28223419189453</td></tr>",
                            "<tr><td>52</td><td>48.28223419189453</td></tr>",
                            "<tr><td>53</td><td>48.36631393432617</td></tr>",
                            "<tr><td>54</td><td>48.47028350830078</td></tr>",
                            "<tr><td>55</td><td>48.60704803466797</td></tr>",
                            "<tr><td>56</td><td>48.36494827270508</td></tr>",
                            "<tr><td>57</td><td>48.36494827270508</td></tr>",
                            "<tr><td>58</td><td>48.20463943481445</td></tr>",
                            "<tr><td>59</td><td>48.00218200683594</td></tr>",
                            "<tr><td>60</td><td>49.54841613769531</td></tr>",
                            "<tr><td>61</td><td>50.010009765625</td></tr>",
                            "<tr><td>62</td><td>50.010009765625</td></tr>",
                            "<tr><td>63</td><td>50.08623504638672</td></tr>",
                            "<tr><td>64</td><td>50.762535095214844</td></tr>",
                            "<tr><td>65</td><td>50.74785614013672</td></tr>",
                            "<tr><td>66</td><td>50.54304122924805</td></tr>",
                            "<tr><td>67</td><td>50.54304122924805</td></tr>",
                            "<tr><td>68</td><td>50.62712478637695</td></tr>",
                            "<tr><td>69</td><td>48.60704803466797</td></tr>",
                            "<tr><td>70</td><td>49.52329635620117</td></tr>",
                            "<tr><td>71</td><td>49.27987289428711</td></tr>",
                            "<tr><td>72</td><td>49.27987289428711</td></tr>",
                            "<tr><td>73</td><td>49.12980270385742</td></tr>",
                            "<tr><td>74</td><td>49.55733108520508</td></tr>",
                            "<tr><td>75</td><td>49.39023208618164</td></tr>",
                            "<tr><td>76</td><td>49.83332824707031</td></tr>",
                            "<tr><td>77</td><td>49.83332824707031</td></tr>",
                            "<tr><td>78</td><td>49.90446090698242</td></tr>",
                            "<tr><td>79</td><td>50.666656494140625</td></tr>",
                            "<tr><td>80</td><td>50.681331634521484</td></tr>",
                            "<tr><td>81</td><td>50.46184158325195</td></tr>",
                            "<tr><td>82</td><td>50.46184158325195</td></tr>",
                            "<tr><td>83</td><td>50.54459762573242</td></tr>",
                            "<tr><td>84</td><td>49.52197265625</td></tr>",
                            "<tr><td>85</td><td>48.47136306762695</td></tr>",
                            "<tr><td>86</td><td>48.234405517578125</td></tr>",
                            "<tr><td>87</td><td>48.234405517578125</td></tr>",
                            "<tr><td>88</td><td>48.07027816772461</td></tr>",
                            "<tr><td>89</td><td>49.381317138671875</td></tr>",
                            "<tr><td>90</td><td>50.17923355102539</td></tr>",
                            "<tr><td>91</td><td>50.64082336425781</td></tr>",
                            "<tr><td>92</td><td>50.64082336425781</td></tr>",
                            "<tr><td>93</td><td>50.7170524597168</td></tr>",
                            "<tr><td>94</td><td>48.25980758666992</td></tr>",
                            "<tr><td>95</td><td>48.25980758666992</td></tr>",
                            "<tr><td>96</td><td>48.04031753540039</td></tr>",
                            "<tr><td>97</td><td>50.413883209228516</td></tr>",
                            "<tr><td>98</td><td>50.497962951660156</td></tr>",
                            "<tr><td>99</td><td>48.472686767578125</td></tr>",
                            "<tr><td>100</td><td>49.39736557006836</td></tr>",
                            "<tr><td>101</td><td>49.15526580810547</td></tr>",
                            "<tr><td>102</td><td>49.15526580810547</td></tr>",
                            "<tr><td>103</td><td>48.994956970214844</td></tr>",
                            "<tr><td>104</td><td>50.17923355102539</td></tr>",
                            "<tr><td>105</td><td>48.59922409057617</td></tr>",
                            "<tr><td>106</td><td>49.060813903808594</td></tr>",
                            "<tr><td>107</td><td>49.060813903808594</td></tr>",
                            "<tr><td>108</td><td>49.13704299926758</td></tr>",
                            "<tr><td>109</td><td>50.63337326049805</td></tr>",
                            "<tr><td>110</td><td>50.63337326049805</td></tr>",
                            "<tr><td>111</td><td>50.413883209228516</td></tr>",
                            "<tr><td>112</td><td>50.424442291259766</td></tr>",
                            "<tr><td>113</td><td>50.497962951660156</td></tr>",
                            "<tr><td>114</td><td>49.36696243286133</td></tr>",
                            "<tr><td>115</td><td>50.56521987915039</td></tr>",
                            "<tr><td>116</td><td>50.35352325439453</td></tr>",
                            "<tr><td>117</td><td>50.35352325439453</td></tr>",
                            "<tr><td>118</td><td>52.86109161376953</td></tr>",
                            "<tr><td>119</td><td>51.2671012878418</td></tr>",
                            "<tr><td>120</td><td>48.60432052612305</td></tr>",
                            "<tr><td>121</td><td>49.06591033935547</td></tr>",
                            "<tr><td>122</td><td>50.472633361816406</td></tr>",
                            "<tr><td>123</td><td>50.554325103759766</td></tr>",
                            "<tr><td>124</td><td>48.098026275634766</td></tr>",
                            "<tr><td>125</td><td>48.087467193603516</td></tr>",
                            "<tr><td>126</td><td>47.85224914550781</td></tr>",
                            "<tr><td>127</td><td>47.882652282714844</td></tr>",
                            "<tr><td>128</td><td>47.966732025146484</td></tr>",
                            "<tr><td>129</td><td>50.59562301635742</td></tr>",
                            "<tr><td>130</td><td>48.81630325317383</td></tr>",
                            "<tr><td>131</td><td>48.57420349121094</td></tr>",
                            "<tr><td>132</td><td>48.57420349121094</td></tr>",
                            "<tr><td>133</td><td>48.41899108886719</td></tr>",
                            "<tr><td>134</td><td>50.025718688964844</td></tr>",
                            "<tr><td>135</td><td>49.315460205078125</td></tr>",
                            "<tr><td>136</td><td>49.75727844238281</td></tr>",
                            "<tr><td>137</td><td>49.75727844238281</td></tr>",
                            "<tr><td>138</td><td>49.848182678222656</td></tr>",
                            "<tr><td>139</td><td>49.515419006347656</td></tr>",
                            "<tr><td>140</td><td>49.5007438659668</td></tr>",
                            "<tr><td>141</td><td>49.295928955078125</td></tr>",
                            "<tr><td>142</td><td>49.295928955078125</td></tr>",
                            "<tr><td>143</td><td>49.380008697509766</td></tr>",
                            "<tr><td>144</td><td>48.81630325317383</td></tr>",
                            "<tr><td>145</td><td>49.008697509765625</td></tr>",
                            "<tr><td>146</td><td>49.524986267089844</td></tr>",
                            "<tr><td>147</td><td>49.524986267089844</td></tr>",
                            "<tr><td>148</td><td>48.611385345458984</td></tr>",
                            "<tr><td>149</td><td>49.315460205078125</td></tr>",
                            "<tr><td>150</td><td>48.18888473510742</td></tr>",
                            "<tr><td>151</td><td>48.635799407958984</td></tr>",
                            "<tr><td>152</td><td>48.635799407958984</td></tr>",
                            "<tr><td>153</td><td>48.706932067871094</td></tr>",
                            "<tr><td>154</td><td>48.91122055053711</td></tr>",
                            "<tr><td>155</td><td>48.91122055053711</td></tr>",
                            "<tr><td>156</td><td>48.70640563964844</td></tr>",
                            "<tr><td>157</td><td>48.70640563964844</td></tr>",
                            "<tr><td>158</td><td>49.54887390136719</td></tr>",
                            "<tr><td>159</td><td>49.76708221435547</td></tr>",
                            "<tr><td>160</td><td>51.23915100097656</td></tr>",
                            "<tr><td>161</td><td>50.23866271972656</td></tr>",
                            "<tr><td>162</td><td>50.23866271972656</td></tr>",
                            "<tr><td>163</td><td>50.08345031738281</td></tr>",
                            "<tr><td>164</td><td>48.18888473510742</td></tr>",
                            "<tr><td>165</td><td>49.656742095947266</td></tr>",
                            "<tr><td>166</td><td>50.09856033325195</td></tr>",
                            "<tr><td>167</td><td>50.09856033325195</td></tr>",
                            "<tr><td>168</td><td>50.1894645690918</td></tr>",
                            "<tr><td>169</td><td>49.621490478515625</td></tr>",
                            "<tr><td>170</td><td>49.621490478515625</td></tr>",
                            "<tr><td>171</td><td>49.40199661254883</td></tr>",
                            "<tr><td>172</td><td>49.40199661254883</td></tr>",
                            "<tr><td>173</td><td>49.486080169677734</td></tr>",
                            "<tr><td>174</td><td>50.48076248168945</td></tr>",
                            "<tr><td>175</td><td>49.57279586791992</td></tr>",
                            "<tr><td>176</td><td>49.33069610595703</td></tr>",
                            "<tr><td>177</td><td>49.33069610595703</td></tr>",
                            "<tr><td>178</td><td>49.170387268066406</td></tr>",
                            "<tr><td>179</td><td>49.65164566040039</td></tr>",
                            "<tr><td>180</td><td>50.095706939697266</td></tr>",
                            "<tr><td>181</td><td>50.55729675292969</td></tr>",
                            "<tr><td>182</td><td>50.55729675292969</td></tr>",
                            "<tr><td>183</td><td>50.63352584838867</td></tr>",
                            "<tr><td>184</td><td>49.20016098022461</td></tr>",
                            "<tr><td>185</td><td>49.196041107177734</td></tr>",
                            "<tr><td>186</td><td>48.99122619628906</td></tr>",
                            "<tr><td>187</td><td>48.95026397705078</td></tr>",
                            "<tr><td>188</td><td>49.03434753417969</td></tr>",
                            "<tr><td>189</td><td>49.57279586791992</td></tr>",
                            "<tr><td>190</td><td>48.96895980834961</td></tr>",
                            "<tr><td>191</td><td>48.72686004638672</td></tr>",
                            "<tr><td>192</td><td>48.72686004638672</td></tr>",
                            "<tr><td>193</td><td>48.57164764404297</td></tr>",
                            "<tr><td>194</td><td>50.10080337524414</td></tr>",
                            "<tr><td>195</td><td>47.970462799072266</td></tr>",
                            "<tr><td>196</td><td>48.41737747192383</td></tr>",
                            "<tr><td>197</td><td>48.41737747192383</td></tr>",
                            "<tr><td>198</td><td>48.48851013183594</td></tr>",
                            "<tr><td>199</td><td>50.205204010009766</td></tr>",
                            "<tr><td>200</td><td>50.205204010009766</td></tr>",
                            "<tr><td>201</td><td>50.00038528442383</td></tr>",
                            "<tr><td>202</td><td>50.00038528442383</td></tr>",
                            "<tr><td>203</td><td>50.084468841552734</td></tr>",
                            "<tr><td>204</td><td>48.96895980834961</td></tr>",
                            "<tr><td>205</td><td>50.43730163574219</td></tr>",
                            "<tr><td>206</td><td>50.1952018737793</td></tr>",
                            "<tr><td>207</td><td>50.1952018737793</td></tr>",
                            "<tr><td>208</td><td>50.03998947143555</td></tr>",
                            "<tr><td>209</td><td>47.970462799072266</td></tr>",
                            "<tr><td>210</td><td>49.190311431884766</td></tr>",
                            "<tr><td>211</td><td>49.63722610473633</td></tr>",
                            "<tr><td>212</td><td>49.63722610473633</td></tr>",
                            "<tr><td>213</td><td>49.70835876464844</td></tr>",
                            "<tr><td>214</td><td>50.230228424072266</td></tr>",
                            "<tr><td>215</td><td>50.244903564453125</td></tr>",
                            "<tr><td>216</td><td>50.02540969848633</td></tr>",
                            "<tr><td>217</td><td>50.02540969848633</td></tr>",
                            "<tr><td>218</td><td>50.109493255615234</td></tr>",
                            "<tr><td>219</td><td>50.43730163574219</td></tr>",
                            "<tr><td>220</td><td>48.44423294067383</td></tr>",
                            "<tr><td>221</td><td>48.20213317871094</td></tr>",
                            "<tr><td>222</td><td>48.20213317871094</td></tr>",
                            "<tr><td>223</td><td>50.70970153808594</td></tr>",
                            "<tr><td>224</td><td>51.85309600830078</td></tr>",
                            "<tr><td>225</td><td>50.354591369628906</td></tr>",
                            "<tr><td>226</td><td>48.1483039855957</td></tr>",
                            "<tr><td>227</td><td>48.1483039855957</td></tr>",
                            "<tr><td>228</td><td>48.22453308105469</td></tr>",
                            "<tr><td>229</td><td>50.69840621948242</td></tr>",
                            "<tr><td>230</td><td>50.69840621948242</td></tr>",
                            "<tr><td>231</td><td>50.47891616821289</td></tr>",
                            "<tr><td>232</td><td>50.48947525024414</td></tr>",
                            "<tr><td>233</td><td>50.56299591064453</td></tr>",
                            "<tr><td>234</td><td>48.4138298034668</td></tr>",
                            "<tr><td>235</td><td>48.67747116088867</td></tr>",
                            "<tr><td>236</td><td>51.132328033447266</td></tr>",
                            "<tr><td>237</td><td>51.132328033447266</td></tr>",
                            "<tr><td>238</td><td>48.30928421020508</td></tr>",
                            "<tr><td>239</td><td>47.69053268432617</td></tr>",
                            "<tr><td>240</td><td>48.71805953979492</td></tr>",
                            "<tr><td>241</td><td>49.179649353027344</td></tr>",
                            "<tr><td>242</td><td>49.179649353027344</td></tr>",
                            "<tr><td>243</td><td>49.26643753051758</td></tr>",
                            "<tr><td>244</td><td>48.74113082885742</td></tr>",
                            "<tr><td>245</td><td>50.936859130859375</td></tr>",
                            "<tr><td>246</td><td>48.480674743652344</td></tr>",
                            "<tr><td>247</td><td>48.511077880859375</td></tr>",
                            "<tr><td>248</td><td>48.59516143798828</td></tr>",
                            "<tr><td>249</td><td>48.7078742980957</td></tr>",
                            "<tr><td>250</td><td>49.63218688964844</td></tr>",
                            "<tr><td>251</td><td>50.148475646972656</td></tr>",
                            "<tr><td>252</td><td>50.148475646972656</td></tr>",
                            "<tr><td>253</td><td>49.22977828979492</td></tr>",
                            "<tr><td>254</td><td>48.71805953979492</td></tr>",
                            "<tr><td>255</td><td>49.9276237487793</td></tr>",
                            "<tr><td>256</td><td>52.59550476074219</td></tr>",
                            "<tr><td>257</td><td>52.59550476074219</td></tr>",
                            "<tr><td>258</td><td>50.4654426574707</td></tr>",
                            "<tr><td>259</td><td>49.482666015625</td></tr>",
                            "<tr><td>260</td><td>49.49322509765625</td></tr>",
                            "<tr><td>261</td><td>49.27373504638672</td></tr>",
                            "<tr><td>262</td><td>49.23277282714844</td></tr>",
                            "<tr><td>263</td><td>49.31685256958008</td></tr>",
                            "<tr><td>264</td><td>49.63218688964844</td></tr>",
                            "<tr><td>265</td><td>49.94586181640625</td></tr>",
                            "<tr><td>266</td><td>49.70243453979492</td></tr>",
                            "<tr><td>267</td><td>49.70243453979492</td></tr>",
                            "<tr><td>268</td><td>49.547271728515625</td></tr>",
                            "<tr><td>269</td><td>49.93144226074219</td></tr>",
                            "<tr><td>270</td><td>48.82769012451172</td></tr>",
                            "<tr><td>271</td><td>49.28927993774414</td></tr>",
                            "<tr><td>272</td><td>49.28927993774414</td></tr>",
                            "<tr><td>273</td><td>49.365509033203125</td></tr>",
                            "<tr><td>274</td><td>50.38969039916992</td></tr>",
                            "<tr><td>275</td><td>50.37501525878906</td></tr>",
                            "<tr><td>276</td><td>50.17020034790039</td></tr>",
                            "<tr><td>277</td><td>50.17020034790039</td></tr>",
                            "<tr><td>278</td><td>50.25428009033203</td></tr>",
                            "<tr><td>279</td><td>49.94586181640625</td></tr>",
                            "<tr><td>280</td><td>50.23131561279297</td></tr>",
                            "<tr><td>281</td><td>49.989219665527344</td></tr>",
                            "<tr><td>282</td><td>49.989219665527344</td></tr>",
                            "<tr><td>283</td><td>49.834007263183594</td></tr>",
                            "<tr><td>284</td><td>48.832786560058594</td></tr>",
                            "<tr><td>285</td><td>50.57123565673828</td></tr>",
                            "<tr><td>286</td><td>48.35026931762695</td></tr>",
                            "<tr><td>287</td><td>48.35026931762695</td></tr>",
                            "<tr><td>288</td><td>48.42140197753906</td></tr>",
                            "<tr><td>289</td><td>50.15810012817383</td></tr>",
                            "<tr><td>290</td><td>50.17277526855469</td></tr>",
                            "<tr><td>291</td><td>49.953285217285156</td></tr>",
                            "<tr><td>292</td><td>49.953285217285156</td></tr>",
                            "<tr><td>293</td><td>50.0373649597168</td></tr>",
                            "<tr><td>294</td><td>50.23131561279297</td></tr>",
                            "<tr><td>295</td><td>49.818267822265625</td></tr>",
                            "<tr><td>296</td><td>52.244049072265625</td></tr>",
                            "<tr><td>297</td><td>52.244049072265625</td></tr>",
                            "<tr><td>298</td><td>50.334556579589844</td></tr>",
                            "<tr><td>299</td><td>48.81695556640625</td></tr>",
                            "<tr><td>300</td><td>49.625587463378906</td></tr>",
                            "<tr><td>301</td><td>49.168479919433594</td></tr>",
                            "<tr><td>302</td><td>49.168479919433594</td></tr>",
                            "<tr><td>303</td><td>49.24470901489258</td></tr>",
                            "<tr><td>304</td><td>48.88671875</td></tr>",
                            "<tr><td>305</td><td>48.872039794921875</td></tr>",
                            "<tr><td>306</td><td>48.6672248840332</td></tr>",
                            "<tr><td>307</td><td>48.67778396606445</td></tr>",
                            "<tr><td>308</td><td>48.75130844116211</td></tr>",
                            "<tr><td>309</td><td>49.787864685058594</td></tr>",
                            "<tr><td>310</td><td>48.46973419189453</td></tr>",
                            "<tr><td>311</td><td>48.25803756713867</td></tr>",
                            "<tr><td>312</td><td>48.25803756713867</td></tr>",
                            "<tr><td>313</td><td>48.10282516479492</td></tr>",
                            "<tr><td>314</td><td>48.71198654174805</td></tr>",
                            "<tr><td>315</td><td>48.98329162597656</td></tr>",
                            "<tr><td>316</td><td>49.430206298828125</td></tr>",
                            "<tr><td>317</td><td>49.430206298828125</td></tr>",
                            "<tr><td>318</td><td>49.511898040771484</td></tr>",
                            "<tr><td>319</td><td>48.468807220458984</td></tr>",
                            "<tr><td>320</td><td>48.458251953125</td></tr>",
                            "<tr><td>321</td><td>48.22303009033203</td></tr>",
                            "<tr><td>322</td><td>48.25343322753906</td></tr>",
                            "<tr><td>323</td><td>48.33751678466797</td></tr>",
                            "<tr><td>324</td><td>48.50013732910156</td></tr>",
                            "<tr><td>325</td><td>50.525516510009766</td></tr>",
                            "<tr><td>326</td><td>50.28208923339844</td></tr>",
                            "<tr><td>327</td><td>50.28208923339844</td></tr>",
                            "<tr><td>328</td><td>50.132022857666016</td></tr>",
                            "<tr><td>329</td><td>48.98711013793945</td></tr>",
                            "<tr><td>330</td><td>49.29956817626953</td></tr>",
                            "<tr><td>331</td><td>49.74138641357422</td></tr>",
                            "<tr><td>332</td><td>49.74138641357422</td></tr>",
                            "<tr><td>333</td><td>49.83229064941406</td></tr>",
                            "<tr><td>334</td><td>48.11056900024414</td></tr>",
                            "<tr><td>335</td><td>48.11056900024414</td></tr>",
                            "<tr><td>336</td><td>47.89107894897461</td></tr>",
                            "<tr><td>337</td><td>47.89107894897461</td></tr>",
                            "<tr><td>338</td><td>47.97515869140625</td></tr>",
                            "<tr><td>339</td><td>50.525516510009766</td></tr>",
                            "<tr><td>340</td><td>49.39996337890625</td></tr>",
                            "<tr><td>341</td><td>49.157867431640625</td></tr>",
                            "<tr><td>342</td><td>49.157867431640625</td></tr>",
                            "<tr><td>343</td><td>48.997554779052734</td></tr>",
                            "<tr><td>344</td><td>49.294471740722656</td></tr>",
                            "<tr><td>345</td><td>49.015445709228516</td></tr>",
                            "<tr><td>346</td><td>49.47703552246094</td></tr>",
                            "<tr><td>347</td><td>49.47703552246094</td></tr>",
                            "<tr><td>348</td><td>49.55326461791992</td></tr>",
                            "<tr><td>349</td><td>50.01973342895508</td></tr>",
                            "<tr><td>350</td><td>50.01973342895508</td></tr>",
                            "<tr><td>351</td><td>49.80024337768555</td></tr>",
                            "<tr><td>352</td><td>49.8108024597168</td></tr>",
                            "<tr><td>353</td><td>49.88432312011719</td></tr>",
                            "<tr><td>354</td><td>49.36956024169922</td></tr>",
                            "<tr><td>355</td><td>49.93079376220703</td></tr>",
                            "<tr><td>356</td><td>49.71909713745117</td></tr>",
                            "<tr><td>357</td><td>49.71909713745117</td></tr>",
                            "<tr><td>358</td><td>49.55878829956055</td></tr>",
                            "<tr><td>359</td><td>49.015445709228516</td></tr>",
                            "<tr><td>360</td><td>49.8709831237793</td></tr>",
                            "<tr><td>361</td><td>50.33767318725586</td></tr>",
                            "<tr><td>362</td><td>50.33767318725586</td></tr>",
                            "<tr><td>363</td><td>50.404685974121094</td></tr>",
                            "<tr><td>364</td><td>50.26192855834961</td></tr>",
                            "<tr><td>365</td><td>50.25136947631836</td></tr>",
                            "<tr><td>366</td><td>50.016151428222656</td></tr>",
                            "<tr><td>367</td><td>50.04655456542969</td></tr>",
                            "<tr><td>368</td><td>50.130638122558594</td></tr>",
                            "<tr><td>369</td><td>49.96119689941406</td></tr>",
                            "<tr><td>370</td><td>48.541473388671875</td></tr>",
                            "<tr><td>371</td><td>48.299373626708984</td></tr>",
                            "<tr><td>372</td><td>48.299373626708984</td></tr>",
                            "<tr><td>373</td><td>48.144161224365234</td></tr>",
                            "<tr><td>374</td><td>49.87607955932617</td></tr>",
                            "<tr><td>375</td><td>49.84910202026367</td></tr>",
                            "<tr><td>376</td><td>50.296016693115234</td></tr>",
                            "<tr><td>377</td><td>50.296016693115234</td></tr>",
                            "<tr><td>378</td><td>50.367149353027344</td></tr>",
                            "<tr><td>379</td><td>49.79663848876953</td></tr>",
                            "<tr><td>380</td><td>49.79663848876953</td></tr>",
                            "<tr><td>381</td><td>49.59182357788086</td></tr>",
                            "<tr><td>382</td><td>49.59182357788086</td></tr>",
                            "<tr><td>383</td><td>49.6759033203125</td></tr>",
                            "<tr><td>384</td><td>48.541473388671875</td></tr>",
                            "<tr><td>385</td><td>48.28400802612305</td></tr>",
                            "<tr><td>386</td><td>48.041908264160156</td></tr>",
                            "<tr><td>387</td><td>48.041908264160156</td></tr>",
                            "<tr><td>388</td><td>47.886695861816406</td></tr>",
                            "<tr><td>389</td><td>49.84910202026367</td></tr>",
                            "<tr><td>390</td><td>48.478580474853516</td></tr>",
                            "<tr><td>391</td><td>48.92549514770508</td></tr>",
                            "<tr><td>392</td><td>48.92549514770508</td></tr>",
                            "<tr><td>393</td><td>48.99662780761719</td></tr>",
                            "<tr><td>394</td><td>48.88786315917969</td></tr>",
                            "<tr><td>395</td><td>48.90253829956055</td></tr>",
                            "<tr><td>396</td><td>48.683048248291016</td></tr>",
                            "<tr><td>397</td><td>48.683048248291016</td></tr>",
                            "<tr><td>398</td><td>48.767127990722656</td></tr>",
                            "<tr><td>399</td><td>48.28400802612305</td></tr>",
                            "<tr><td>400</td><td>49.874351501464844</td></tr>",
                            "<tr><td>401</td><td>49.63225173950195</td></tr>",
                            "<tr><td>402</td><td>49.63225173950195</td></tr>",
                            "<tr><td>403</td><td>49.54816818237305</td></tr>",
                            "<tr><td>404</td><td>48.95526885986328</td></tr>",
                            "<tr><td>405</td><td>48.95526885986328</td></tr>",
                            "<tr><td>406</td><td>49.19736862182617</td></tr>",
                            "<tr><td>407</td><td>49.19736862182617</td></tr>",
                            "<tr><td>408</td><td>49.19736862182617</td></tr>",
                            "<tr><td>409</td><td>49.19736862182617</td></tr>",
                            "<tr><td>410</td><td>49.19736862182617</td></tr>",
                            "</table>"
                        ]
                    }
                }
            ],
            "execution_count": 2
        }
    ]
}