{
    "metadata": {
        "kernelspec": {
            "name": "SQL",
            "display_name": "SQL",
            "language": "sql"
        },
        "language_info": {
            "name": "sql",
            "version": ""
        }
    },
    "nbformat_minor": 2,
    "nbformat": 4,
    "cells": [
        {
            "cell_type": "markdown",
            "source": [
                "INSTALL DEPENDENCIES"
            ],
            "metadata": {
                "azdata_cell_guid": "b2c71178-6846-423d-a1fa-f864fab7c58b"
            },
            "attachments": {}
        },
        {
            "cell_type": "code",
            "source": [
                "!pip install pandas\r\n",
                "!pip install scikit-learn\r\n",
                "!pip install numpy\r\n",
                "!pip install onnxmltools\r\n",
                "!pip install onnxruntime\r\n",
                "!pip install pyodbc\r\n",
                "!pip install setuptools\r\n",
                "!pip install skl2onnx\r\n",
                "!pip install sqlalchemy"
            ],
            "metadata": {
                "azdata_cell_guid": "a6b17618-9951-4cf0-aca9-39e39f3020bf"
            },
            "outputs": [],
            "execution_count": null
        },
        {
            "cell_type": "markdown",
            "source": [
                "CREATE DATASET"
            ],
            "metadata": {
                "azdata_cell_guid": "c455a0cb-048b-405d-ae6d-0095fae75161"
            },
            "attachments": {}
        },
        {
            "cell_type": "code",
            "source": [
                "import numpy as np\r\n",
                "import onnxmltools\r\n",
                "import onnxruntime as rt\r\n",
                "import pandas as pd\r\n",
                "import skl2onnx\r\n",
                "import sklearn\r\n",
                "import sklearn.datasets\r\n",
                "\r\n",
                "from sklearn.datasets import load_boston\r\n",
                "boston = load_boston()\r\n",
                "boston\r\n",
                "\r\n",
                "df = pd.DataFrame(data=np.c_[boston['data'], boston['target']], columns=boston['feature_names'].tolist() + ['MEDV'])\r\n",
                " \r\n",
                "target_column = 'MEDV'\r\n",
                " \r\n",
                "# Split the data frame into features and target\r\n",
                "x_train = pd.DataFrame(df.drop([target_column], axis = 1))\r\n",
                "y_train = pd.DataFrame(df.iloc[:,df.columns.tolist().index(target_column)])\r\n",
                "\r\n",
                "print(\"\\n*** Training dataset x\\n\")\r\n",
                "print(x_train.head())\r\n",
                "\r\n",
                "print(\"\\n*** Training dataset y\\n\")\r\n",
                "print(y_train.head())"
            ],
            "metadata": {
                "azdata_cell_guid": "f52cbb89-8ac4-408d-b74c-2160b5691dc0"
            },
            "outputs": [
                {
                    "output_type": "stream",
                    "name": "stdout",
                    "text": "\n*** Training dataset x\n\n      CRIM    ZN  INDUS  CHAS    NOX     RM   AGE     DIS  RAD    TAX  \\\n0  0.00632  18.0   2.31   0.0  0.538  6.575  65.2  4.0900  1.0  296.0   \n1  0.02731   0.0   7.07   0.0  0.469  6.421  78.9  4.9671  2.0  242.0   \n2  0.02729   0.0   7.07   0.0  0.469  7.185  61.1  4.9671  2.0  242.0   \n3  0.03237   0.0   2.18   0.0  0.458  6.998  45.8  6.0622  3.0  222.0   \n4  0.06905   0.0   2.18   0.0  0.458  7.147  54.2  6.0622  3.0  222.0   \n\n   PTRATIO       B  LSTAT  \n0     15.3  396.90   4.98  \n1     17.8  396.90   9.14  \n2     17.8  392.83   4.03  \n3     18.7  394.63   2.94  \n4     18.7  396.90   5.33  \n\n*** Training dataset y\n\n   MEDV\n0  24.0\n1  21.6\n2  34.7\n3  33.4\n4  36.2\n"
                }
            ],
            "execution_count": 66
        },
        {
            "cell_type": "markdown",
            "source": [
                "CREATE PIPELINE TO TRAIN THE LINEAR REGRESSION MODEL"
            ],
            "metadata": {
                "azdata_cell_guid": "593b8da3-a05e-40d8-85b6-cc8ee56d2d95"
            },
            "attachments": {}
        },
        {
            "cell_type": "code",
            "source": [
                "from sklearn.compose import ColumnTransformer\r\n",
                "from sklearn.linear_model import LinearRegression\r\n",
                "from sklearn.pipeline import Pipeline\r\n",
                "from sklearn.preprocessing import RobustScaler\r\n",
                "\r\n",
                "continuous_transformer = Pipeline(steps=[('scaler', RobustScaler())])\r\n",
                "\r\n",
                "# All columns are numeric - normalize them\r\n",
                "preprocessor = ColumnTransformer(\r\n",
                "    transformers=[\r\n",
                "        ('continuous', continuous_transformer, [i for i in range(len(x_train.columns))])])\r\n",
                "\r\n",
                "model = Pipeline(\r\n",
                "    steps=[\r\n",
                "        ('preprocessor', preprocessor),\r\n",
                "        ('regressor', LinearRegression())])\r\n",
                "\r\n",
                "# Train the model\r\n",
                "model.fit(x_train, y_train)"
            ],
            "metadata": {
                "azdata_cell_guid": "1220be84-0b79-4993-a151-b8a045ef2cfe"
            },
            "outputs": [
                {
                    "output_type": "execute_result",
                    "execution_count": 67,
                    "data": {
                        "text/plain": "Pipeline(steps=[('preprocessor',\n                 ColumnTransformer(transformers=[('continuous',\n                                                  Pipeline(steps=[('scaler',\n                                                                   RobustScaler())]),\n                                                  [0, 1, 2, 3, 4, 5, 6, 7, 8, 9,\n                                                   10, 11, 12])])),\n                ('regressor', LinearRegression())])"
                    },
                    "metadata": {}
                }
            ],
            "execution_count": 67
        },
        {
            "cell_type": "markdown",
            "source": [
                "CHECK MODEL ACCURACY"
            ],
            "metadata": {
                "azdata_cell_guid": "380624de-b936-4ecf-bee7-d5ba1d4d9659"
            },
            "attachments": {}
        },
        {
            "cell_type": "code",
            "source": [
                "# Score the model\r\n",
                "from sklearn.metrics import r2_score, mean_squared_error\r\n",
                "y_pred = model.predict(x_train)\r\n",
                "sklearn_r2_score = r2_score(y_train, y_pred)\r\n",
                "sklearn_mse = mean_squared_error(y_train, y_pred)\r\n",
                "print('*** Scikit-learn r2 score: {}'.format(sklearn_r2_score))\r\n",
                "print('*** Scikit-learn MSE: {}'.format(sklearn_mse))"
            ],
            "metadata": {
                "azdata_cell_guid": "a628102e-fd8f-43d4-9723-444caa09cedf"
            },
            "outputs": [
                {
                    "output_type": "stream",
                    "name": "stdout",
                    "text": "*** Scikit-learn r2 score: 0.7406426641094094\n*** Scikit-learn MSE: 21.894831181729206\n"
                }
            ],
            "execution_count": 68
        },
        {
            "cell_type": "markdown",
            "source": [
                "DEFINE FUNCTION TO CONVERT MODEL TO ONNX"
            ],
            "metadata": {
                "azdata_cell_guid": "b83c76fe-ad20-43ca-af38-163c3750965d"
            },
            "attachments": {}
        },
        {
            "cell_type": "code",
            "source": [
                "from skl2onnx.common.data_types import FloatTensorType, Int64TensorType, DoubleTensorType\r\n",
                "\r\n",
                "def convert_dataframe_schema(df, drop=None, batch_axis=False):\r\n",
                "    inputs = []\r\n",
                "    nrows = None if batch_axis else 1\r\n",
                "    for k, v in zip(df.columns, df.dtypes):\r\n",
                "        if drop is not None and k in drop:\r\n",
                "            continue\r\n",
                "        if v == 'int64':\r\n",
                "            t = Int64TensorType([nrows, 1])\r\n",
                "        elif v == 'float32':\r\n",
                "            t = FloatTensorType([nrows, 1])\r\n",
                "        elif v == 'float64':\r\n",
                "            t = DoubleTensorType([nrows, 1])\r\n",
                "        else:\r\n",
                "            raise Exception(\"Bad type\")\r\n",
                "        inputs.append((k, t))\r\n",
                "    return inputs"
            ],
            "metadata": {
                "azdata_cell_guid": "66d907db-56bf-4dcd-b742-cf2c9105d313"
            },
            "outputs": [],
            "execution_count": 69
        },
        {
            "cell_type": "markdown",
            "source": [
                "SAVE MODEL IN ONNX FORMAT"
            ],
            "metadata": {
                "azdata_cell_guid": "2a9fc89a-b24d-47e1-8379-4aefd83b0397"
            },
            "attachments": {}
        },
        {
            "cell_type": "code",
            "source": [
                "# Convert the scikit model to onnx format\r\n",
                "onnx_model = skl2onnx.convert_sklearn(model, 'Boston Data', convert_dataframe_schema(x_train), final_types=[('variable1',FloatTensorType([1,1]))], target_opset=11)\r\n",
                "# Save the onnx model locally\r\n",
                "onnx_model_path = 'boston1.model.onnx'\r\n",
                "onnxmltools.utils.save_model(onnx_model, onnx_model_path)"
            ],
            "metadata": {
                "azdata_cell_guid": "95a37d5d-4fca-44b5-ab4a-757debe1a414"
            },
            "outputs": [],
            "execution_count": 72
        },
        {
            "cell_type": "markdown",
            "source": [
                "TEST ONNX MODEL"
            ],
            "metadata": {
                "azdata_cell_guid": "e7b75cf7-8a94-42b9-b012-beb0666fbe55"
            },
            "attachments": {}
        },
        {
            "cell_type": "code",
            "source": [
                "import onnxruntime as rt\r\n",
                "sess = rt.InferenceSession(onnx_model_path)\r\n",
                "\r\n",
                "y_pred = np.full(shape=(len(x_train)), fill_value=np.nan)\r\n",
                "\r\n",
                "for i in range(len(x_train)):\r\n",
                "    inputs = {}\r\n",
                "    for j in range(len(x_train.columns)):\r\n",
                "        inputs[x_train.columns[j]] = np.full(shape=(1,1), fill_value=x_train.iloc[i,j])\r\n",
                "\r\n",
                "    sess_pred = sess.run(None, inputs)\r\n",
                "    y_pred[i] = sess_pred[0][0][0]\r\n",
                "\r\n",
                "onnx_r2_score = r2_score(y_train, y_pred)\r\n",
                "onnx_mse = mean_squared_error(y_train, y_pred)\r\n",
                "\r\n",
                "print()\r\n",
                "print('*** Onnx r2 score: {}'.format(onnx_r2_score))\r\n",
                "print('*** Onnx MSE: {}\\n'.format(onnx_mse))\r\n",
                "print('R2 Scores are equal' if sklearn_r2_score == onnx_r2_score else 'Difference in R2 scores: {}'.format(abs(sklearn_r2_score - onnx_r2_score)))\r\n",
                "print('MSE are equal' if sklearn_mse == onnx_mse else 'Difference in MSE scores: {}'.format(abs(sklearn_mse - onnx_mse)))\r\n",
                "print()"
            ],
            "metadata": {
                "azdata_cell_guid": "1ba02875-cb66-489c-9341-502e853be0f5"
            },
            "outputs": [
                {
                    "output_type": "stream",
                    "name": "stdout",
                    "text": "\n*** Onnx r2 score: 0.740642667298669\n*** Onnx MSE: 21.894830912493322\n\nDifference in R2 scores: 3.189259634162056e-09\nDifference in MSE scores: 2.692358833655817e-07\n\n"
                }
            ],
            "execution_count": 74
        },
        {
            "cell_type": "markdown",
            "source": [
                "<u>INSERT MODEL IN DATABASE</u>"
            ],
            "metadata": {
                "azdata_cell_guid": "f1afba4f-18ea-4cfa-98c7-50cac1aad6f0"
            },
            "attachments": {}
        },
        {
            "cell_type": "code",
            "source": [
                "import pyodbc\r\n",
                "\r\n",
                "server = 'iotedgevm-be9601db-be9601db.eastus.cloudapp.azure.com' # SQL Server IP address\r\n",
                "username = 'sa' # SQL Server username\r\n",
                "password = 'SuperSecretP@ssw0rd!' # SQL Server password\r\n",
                "\r\n",
                "# Connect to the master DB to create the new onnx database\r\n",
                "connection_string = \"Driver={ODBC Driver 17 for SQL Server};Server=\" + server + \";Database=master;UID=\" + username + \";PWD=\" + password + \";\"\r\n",
                "\r\n",
                "conn = pyodbc.connect(connection_string, autocommit=True)\r\n",
                "cursor = conn.cursor()\r\n",
                "\r\n",
                "database = 'onnx'\r\n",
                "query = 'DROP DATABASE IF EXISTS ' + database\r\n",
                "cursor.execute(query)\r\n",
                "conn.commit()\r\n",
                "\r\n",
                "# Create onnx database\r\n",
                "query = 'CREATE DATABASE ' + database\r\n",
                "cursor.execute(query)\r\n",
                "conn.commit()\r\n",
                "\r\n",
                "# Connect to onnx database\r\n",
                "db_connection_string = \"Driver={ODBC Driver 17 for SQL Server};Server=\" + server + \";Database=\" + database + \";UID=\" + username + \";PWD=\" + password + \";\"\r\n",
                "\r\n",
                "conn = pyodbc.connect(db_connection_string, autocommit=True)\r\n",
                "cursor = conn.cursor()\r\n",
                "\r\n",
                "models_table_name = 'models'\r\n",
                "\r\n",
                "# Drop the table if it exists\r\n",
                "query = f'drop table if exists {models_table_name}'\r\n",
                "cursor.execute(query)\r\n",
                "conn.commit()\r\n",
                "\r\n",
                "# Create the model table\r\n",
                "query = f'create table {models_table_name} ( ' \\\r\n",
                "    f'[id] [int] IDENTITY(1,1) NOT NULL, ' \\\r\n",
                "    f'[data] [varbinary](max) NULL, ' \\\r\n",
                "    f'[description] varchar(1000))'\r\n",
                "cursor.execute(query)\r\n",
                "conn.commit()\r\n",
                "\r\n",
                "# Insert the ONNX model into the models table\r\n",
                "query = f\"insert into {models_table_name} ([description], [data]) values ('Onnx Model',?)\"\r\n",
                "\r\n",
                "model_bits = onnx_model.SerializeToString()\r\n",
                "\r\n",
                "insert_params  = (pyodbc.Binary(model_bits))\r\n",
                "cursor.execute(query, insert_params)\r\n",
                "conn.commit()\r\n",
                ""
            ],
            "metadata": {
                "azdata_cell_guid": "7903a3ec-b5c7-45e8-8d2b-3d4a93d0385a"
            },
            "outputs": [],
            "execution_count": 86
        },
        {
            "cell_type": "markdown",
            "source": [
                "ENSURE MODEL HAS BEEN STORED IN TABLE"
            ],
            "metadata": {
                "azdata_cell_guid": "2beb33c4-1ab6-482e-91af-9e1e2ba331ff"
            },
            "attachments": {}
        },
        {
            "cell_type": "code",
            "source": [
                "conn = pyodbc.connect(db_connection_string, autocommit=True)\r\n",
                "cursor = conn.cursor()\r\n",
                "query = f'SELECT * FROM {models_table_name}'\r\n",
                "cursor.execute(query)\r\n",
                "\r\n",
                "for row in cursor.fetchall():\r\n",
                "    print(row)\r\n",
                ""
            ],
            "metadata": {
                "azdata_cell_guid": "061a59f9-69b2-499b-8131-4d355766e9f8"
            },
            "outputs": [
                {
                    "output_type": "stream",
                    "name": "stdout",
                    "text": "(1, b'\\x08\\x07\\x12\\x08skl2onnx\\x1a\\x051.9.0\"\\x07ai.onnx(\\x002\\x00:\\x9f\\x0e\\n)\\n\\x03NOX\\x12\\x08NOX_cast\\x1a\\x05Cast4\"\\x04Cast*\\t\\n\\x02to\\x18\\x0b\\xa0\\x01\\x02:\\x00\\n\\'\\n\\x02ZN\\x12\\x07ZN_cast\\x1a\\x05Cast1\"\\x04Cast*\\t\\n\\x02to\\x18\\x0b\\xa0\\x01\\x02:\\x00\\n*\\n\\x04CRIM\\x12\\tCRIM_cast\\x1a\\x04Cast\"\\x04Cast*\\t\\n\\x02to\\x18\\x0b\\xa0\\x01\\x02:\\x00\\n-\\n\\x05INDUS\\x12\\nINDUS_cast\\x1a\\x05Cast2\"\\x04Cast*\\t\\n\\x02to\\x18\\x0b\\xa0\\x01\\x02:\\x00\\n\\'\\n\\x02RM\\x12\\x07RM_cast\\x1a\\x05Cast5\"\\x04Cast*\\t\\n\\x02to\\x18\\x0b\\xa0\\x01\\x02:\\x00\\n&\\n\\x01B\\x12\\x06B_cast\\x1a\\x06Cast11\"\\x04Cast*\\t\\n\\x02to\\x18\\x0b\\xa0\\x01\\x02:\\x00\\n.\\n\\x05LSTAT\\x12\\nLSTAT_cast\\x1a\\x06Cast12\"\\x04Cast*\\t\\n\\x02to\\x18\\x0b\\xa0\\x01\\x02:\\x00\\n)\\n\\x03AGE\\x12\\x08AGE_cast\\x1a\\x05Cast6\"\\x04Cast*\\t\\n\\x02to\\x18\\x0b\\xa0\\x01\\x02:\\x00\\n)\\n\\x03DIS\\x12\\x08DIS_cast\\x1a\\x05Cast7\"\\x04Cast*\\t\\n\\x02to\\x18\\x0b\\xa0\\x01\\x02:\\x00\\n)\\n\\x03RAD\\x12\\x08RAD_cast\\x1a\\x05Cast8\"\\x04Cast*\\t\\n\\x02to\\x18\\x0b\\xa0\\x01\\x02:\\x00\\n)\\n\\x03TAX\\x12\\x08TAX_cast\\x1a\\x05Cast9\"\\x04Cast*\\t\\n\\x02to\\x18\\x0b\\xa0\\x01\\x02:\\x00\\n2\\n\\x07PTRATIO\\x12\\x0cPTRATIO_cast\\x1a\\x06Cast10\"\\x04Cast*\\t\\n\\x02to\\x18\\x0b\\xa0\\x01\\x02:\\x00\\n+\\n\\x04CHAS\\x12\\tCHAS_cast\\x1a\\x05Cast3\"\\x04Cast*\\t\\n\\x02to\\x18\\x0b\\xa0\\x01\\x02:\\x00\\n\\xb7\\x01\\n\\tCRIM_cast\\n\\x07ZN_cast\\n\\nINDUS_cast\\n\\tCHAS_cast\\n\\x08NOX_cast\\n\\x07RM_cast\\n\\x08AGE_cast\\n\\x08DIS_cast\\n\\x08RAD_cast\\n\\x08TAX_cast\\n\\x0cPTRATIO_cast\\n\\x06B_cast\\n\\nLSTAT_cast\\x12\\x0emerged_columns\\x1a\\x06Concat\"\\x06Concat*\\x0b\\n\\x04axis\\x18\\x01\\xa0\\x01\\x02:\\x00\\n1\\n\\x0emerged_columns\\n\\tSu_Subcst\\x12\\x05Su_C0\\x1a\\x06Su_Sub\"\\x03Sub:\\x00\\n+\\n\\x05Su_C0\\n\\tDi_Divcst\\x12\\x08variable\\x1a\\x06Di_Div\"\\x03Div:\\x00\\n.\\n\\x08variable\\n\\x04coef\\x12\\nmultiplied\\x1a\\x06MatMul\"\\x06MatMul:\\x00\\n)\\n\\nmultiplied\\n\\tintercept\\x12\\x04resh\\x1a\\x03Add\"\\x03Add:\\x00\\n3\\n\\x04resh\\n\\x0cshape_tensor\\x12\\tvariable2\\x1a\\x07Reshape\"\\x07Reshape:\\x00\\n1\\n\\tvariable2\\x12\\tvariable1\\x1a\\x06Cast13\"\\x04Cast*\\t\\n\\x02to\\x18\\x01\\xa0\\x01\\x02:\\x00\\x12\\x0bBoston Data*y\\x08\\r\\x10\\x0bB\\tSu_SubcstRh\\x984F\\xeb\\xa8j\\xd0?\\x00\\x00\\x00\\x00\\x00\\x00\\x00\\x00\\xe1z\\x14\\xaeGa#@\\x00\\x00\\x00\\x00\\x00\\x00\\x00\\x00\\x9e\\xef\\xa7\\xc6K7\\xe1?/\\xdd$\\x06\\x81\\xd5\\x18@\\x00\\x00\\x00\\x00\\x00`S@\\x0cq\\xac\\x8b\\xdb\\xa8\\t@\\x00\\x00\\x00\\x00\\x00\\x00\\x14@\\x00\\x00\\x00\\x00\\x00\\xa0t@\\xcd\\xcc\\xcc\\xcc\\xcc\\x0c3@\\xd7\\xa3p=\\nwx@\\xb8\\x1e\\x85\\xebQ\\xb8&@*y\\x08\\r\\x10\\x0bB\\tDi_DivcstRh\\x18&S\\x05\\xa3\\xc2\\x0c@\\x00\\x00\\x00\\x00\\x00\\x00)@R\\xb8\\x1e\\x85\\xeb\\xd1)@\\x00\\x00\\x00\\x00\\x00\\x00\\xf0?ffffff\\xc6?\\x08V\\x0e-\\xb2\\x9d\\xe7?effff\\x86H@\\xdc\\xf9~j\\xbc\\xb4\\x08@\\x00\\x00\\x00\\x00\\x00\\x004@\\x00\\x00\\x00\\x00\\x000x@hfffff\\x06@0\\\\\\x8f\\xc2\\xf5\\xd84@\\xc4\\xf5(\\\\\\x8f\\x02$@*v\\x08\\r\\x08\\x01\\x10\\x0bB\\x04coefRh\\x92\\xd8\\x1a\\xb8\\xfc\\xd9\\xd8\\xbf\\xean\\xbcvt\\x91\\xe2?\\xd6\\xd3\\x89\\r\\x82\\xfc\\xd0?\\xcd%\\xf9Ln~\\x05@b\\xd0\\xd4\\xaf\\x8d\\xdf\\x08\\xc0\\xc6\\xcd\\x9b[R~\\x06@4\\x1f\\x03c^b\\xa1?\\x15\\xbcK\\x0eI:\\x12\\xc0\\xd8\\xee?\\xb1\\xe4{\\x18@+\\xc9\\xa42\\r\\x18\\x13\\xc0\\xcao\\xa2\\x08oW\\x05\\xc0pQ\\x070\\x19\\xd9\\xc8?\\xcd\\x13\\xd1i6\\x00\\x15\\xc0*\\x19\\x08\\x01\\x10\\x0bB\\tinterceptR\\x08LF/Nh\\n7@*\\x1f\\x08\\x02\\x10\\x07:\\x0b\\xff\\xff\\xff\\xff\\xff\\xff\\xff\\xff\\xff\\x01\\x01B\\x0cshape_tensorZ\\x16\\n\\x04CRIM\\x12\\x0e\\n\\x0c\\x08\\x0b\\x12\\x08\\n\\x02\\x08\\x01\\n\\x02\\x08\\x01Z\\x14\\n\\x02ZN\\x12\\x0e\\n\\x0c\\x08\\x0b\\x12\\x08\\n\\x02\\x08\\x01\\n\\x02\\x08\\x01Z\\x17\\n\\x05INDUS\\x12\\x0e\\n\\x0c\\x08\\x0b\\x12\\x08\\n\\x02\\x08\\x01\\n\\x02\\x08\\x01Z\\x16\\n\\x04CHAS\\x12\\x0e\\n\\x0c\\x08\\x0b\\x12\\x08\\n\\x02\\x08\\x01\\n\\x02\\x08\\x01Z\\x15\\n\\x03NOX\\x12\\x0e\\n\\x0c\\x08\\x0b\\x12\\x08\\n\\x02\\x08\\x01\\n\\x02\\x08\\x01Z\\x14\\n\\x02RM\\x12\\x0e\\n\\x0c\\x08\\x0b\\x12\\x08\\n\\x02\\x08\\x01\\n\\x02\\x08\\x01Z\\x15\\n\\x03AGE\\x12\\x0e\\n\\x0c\\x08\\x0b\\x12\\x08\\n\\x02\\x08\\x01\\n\\x02\\x08\\x01Z\\x15\\n\\x03DIS\\x12\\x0e\\n\\x0c\\x08\\x0b\\x12\\x08\\n\\x02\\x08\\x01\\n\\x02\\x08\\x01Z\\x15\\n\\x03RAD\\x12\\x0e\\n\\x0c\\x08\\x0b\\x12\\x08\\n\\x02\\x08\\x01\\n\\x02\\x08\\x01Z\\x15\\n\\x03TAX\\x12\\x0e\\n\\x0c\\x08\\x0b\\x12\\x08\\n\\x02\\x08\\x01\\n\\x02\\x08\\x01Z\\x19\\n\\x07PTRATIO\\x12\\x0e\\n\\x0c\\x08\\x0b\\x12\\x08\\n\\x02\\x08\\x01\\n\\x02\\x08\\x01Z\\x13\\n\\x01B\\x12\\x0e\\n\\x0c\\x08\\x0b\\x12\\x08\\n\\x02\\x08\\x01\\n\\x02\\x08\\x01Z\\x17\\n\\x05LSTAT\\x12\\x0e\\n\\x0c\\x08\\x0b\\x12\\x08\\n\\x02\\x08\\x01\\n\\x02\\x08\\x01b\\x1b\\n\\tvariable1\\x12\\x0e\\n\\x0c\\x08\\x01\\x12\\x08\\n\\x02\\x08\\x01\\n\\x02\\x08\\x01B\\x04\\n\\x00\\x10\\x0e', 'Onnx Model')\n"
                }
            ],
            "execution_count": 92
        },
        {
            "cell_type": "markdown",
            "source": [
                "CREATE FEATURES AND TARGET TABLES"
            ],
            "metadata": {
                "azdata_cell_guid": "38e9f5f6-2b9b-490e-8177-fe5b654c5211"
            },
            "attachments": {}
        },
        {
            "cell_type": "code",
            "source": [
                "import sqlalchemy\r\n",
                "from sqlalchemy import create_engine\r\n",
                "import urllib\r\n",
                "\r\n",
                "db_connection_string = \"Driver={ODBC Driver 17 for SQL Server};Server=\" + server + \";Database=\" + database + \";UID=\" + username + \";PWD=\" + password + \";\"\r\n",
                "\r\n",
                "conn = pyodbc.connect(db_connection_string)\r\n",
                "cursor = conn.cursor()\r\n",
                "\r\n",
                "features_table_name = 'features'\r\n",
                "\r\n",
                "# Drop the table if it exists\r\n",
                "query = f'drop table if exists {features_table_name}'\r\n",
                "cursor.execute(query)\r\n",
                "conn.commit()\r\n",
                "\r\n",
                "# Create the features table\r\n",
                "query = \\\r\n",
                "    f'create table {features_table_name} ( ' \\\r\n",
                "    f'    [CRIM] float, ' \\\r\n",
                "    f'    [ZN] float, ' \\\r\n",
                "    f'    [INDUS] float, ' \\\r\n",
                "    f'    [CHAS] float, ' \\\r\n",
                "    f'    [NOX] float, ' \\\r\n",
                "    f'    [RM] float, ' \\\r\n",
                "    f'    [AGE] float, ' \\\r\n",
                "    f'    [DIS] float, ' \\\r\n",
                "    f'    [RAD] float, ' \\\r\n",
                "    f'    [TAX] float, ' \\\r\n",
                "    f'    [PTRATIO] float, ' \\\r\n",
                "    f'    [B] float, ' \\\r\n",
                "    f'    [LSTAT] float, ' \\\r\n",
                "    f'    [id] int)'\r\n",
                "\r\n",
                "cursor.execute(query)\r\n",
                "conn.commit()\r\n",
                "\r\n",
                "target_table_name = 'target'\r\n",
                "\r\n",
                "query = f'drop table if exists {target_table_name}'\r\n",
                "cursor.execute(query)\r\n",
                "conn.commit()\r\n",
                "\r\n",
                "# Create the target table\r\n",
                "query = \\\r\n",
                "    f'create table {target_table_name} ( ' \\\r\n",
                "    f'    [MEDV] float, ' \\\r\n",
                "    f'    [id] int)'\r\n",
                "\r\n",
                "cursor.execute(query)\r\n",
                "conn.commit()\r\n",
                "\r\n",
                "x_train['id'] = range(1, len(x_train)+1)\r\n",
                "y_train['id'] = range(1, len(y_train)+1)\r\n",
                "\r\n",
                "print(x_train.head())\r\n",
                "print(y_train.head())"
            ],
            "metadata": {
                "azdata_cell_guid": "3fe85731-6acf-48a7-9b7a-23961c76482c"
            },
            "outputs": [
                {
                    "output_type": "stream",
                    "name": "stdout",
                    "text": "      CRIM    ZN  INDUS  CHAS    NOX     RM   AGE     DIS  RAD    TAX  \\\n0  0.00632  18.0   2.31   0.0  0.538  6.575  65.2  4.0900  1.0  296.0   \n1  0.02731   0.0   7.07   0.0  0.469  6.421  78.9  4.9671  2.0  242.0   \n2  0.02729   0.0   7.07   0.0  0.469  7.185  61.1  4.9671  2.0  242.0   \n3  0.03237   0.0   2.18   0.0  0.458  6.998  45.8  6.0622  3.0  222.0   \n4  0.06905   0.0   2.18   0.0  0.458  7.147  54.2  6.0622  3.0  222.0   \n\n   PTRATIO       B  LSTAT  id  \n0     15.3  396.90   4.98   1  \n1     17.8  396.90   9.14   2  \n2     17.8  392.83   4.03   3  \n3     18.7  394.63   2.94   4  \n4     18.7  396.90   5.33   5  \n   MEDV  id\n0  24.0   1\n1  21.6   2\n2  34.7   3\n3  33.4   4\n4  36.2   5\n"
                }
            ],
            "execution_count": 93
        },
        {
            "cell_type": "markdown",
            "source": [
                "INSERT FEATURES & TARGET DATASETS INTO THE DATABASE"
            ],
            "metadata": {
                "azdata_cell_guid": "45ce265f-81b9-4eac-9e4a-1b2483e8b69d"
            },
            "attachments": {}
        },
        {
            "cell_type": "code",
            "source": [
                "conn = pyodbc.connect('DRIVER={SQL Server};SERVER='+server+';DATABASE='+database+';UID='+username+';PWD='+ password)\r\n",
                "cursor = conn.cursor()\r\n",
                "\r\n",
                "# for index, row in x_train.iterrows():\r\n",
                "#     # print(index)\r\n",
                "#     cursor.execute(f'INSERT INTO {features_table_name} (CRIM,ZN,INDUS,CHAS,NOX,RM,AGE,DIS,RAD,TAX,PTRATIO,B,LSTAT,id) VALUES ({row.CRIM},{row.ZN},{row.INDUS},{row.CHAS},{row.NOX},{row.RM},{row.AGE},{row.DIS},{row.RAD},{row.TAX},{row.PTRATIO},{row.B},{row.LSTAT},{row.id})')\r\n",
                "\r\n",
                "# conn.commit()\r\n",
                "\r\n",
                "for index, row in y_train.iterrows():\r\n",
                "    # print(index)\r\n",
                "    cursor.execute(f'INSERT INTO {target_table_name} (MEDV,id) VALUES ({row.MEDV},{row.id})')\r\n",
                "\r\n",
                "conn.commit()\r\n",
                "cursor.close()"
            ],
            "metadata": {
                "azdata_cell_guid": "3853118d-cfc0-4876-9f58-aeccd1c61d74"
            },
            "outputs": [],
            "execution_count": 95
        },
        {
            "cell_type": "code",
            "source": [
                "RUN PREDICT STATEMENT (SWITCH TO SQL KERNEL)"
            ],
            "metadata": {
                "azdata_cell_guid": "4a6c5c3c-87bd-4a1e-b08d-52981cbb8dce"
            },
            "outputs": [],
            "execution_count": null
        },
        {
            "cell_type": "code",
            "source": [
                "USE onnx\r\n",
                "\r\n",
                "DECLARE @model VARBINARY(max) = (\r\n",
                "        SELECT DATA\r\n",
                "        FROM dbo.models\r\n",
                "        WHERE id = 3\r\n",
                "        );\r\n",
                "\r\n",
                "WITH predict_input\r\n",
                "AS (\r\n",
                "    SELECT TOP (1000) [id]\r\n",
                "        , CRIM\r\n",
                "        , ZN\r\n",
                "        , INDUS\r\n",
                "        , CHAS\r\n",
                "        , NOX\r\n",
                "        , RM\r\n",
                "        , AGE\r\n",
                "        , DIS\r\n",
                "        , RAD\r\n",
                "        , TAX\r\n",
                "        , PTRATIO\r\n",
                "        , B\r\n",
                "        , LSTAT\r\n",
                "    FROM [dbo].[features]\r\n",
                "    )\r\n",
                "SELECT predict_input.id\r\n",
                "    , p.variable1 AS MEDV\r\n",
                "FROM PREDICT(MODEL = @model, DATA = predict_input, RUNTIME=ONNX) WITH (variable1 FLOAT) AS p;\r\n",
                ""
            ],
            "metadata": {
                "azdata_cell_guid": "a553facc-ef3d-4410-be76-8935c5c03972"
            },
            "outputs": [
                {
                    "output_type": "display_data",
                    "data": {
                        "text/html": "(506 rows affected)"
                    },
                    "metadata": {}
                },
                {
                    "output_type": "display_data",
                    "data": {
                        "text/html": "Total execution time: 00:00:00.091"
                    },
                    "metadata": {}
                },
                {
                    "output_type": "execute_result",
                    "metadata": {},
                    "execution_count": 1,
                    "data": {
                        "application/vnd.dataresource+json": {
                            "schema": {
                                "fields": [
                                    {
                                        "name": "id"
                                    },
                                    {
                                        "name": "MEDV"
                                    }
                                ]
                            },
                            "data": [
                                {
                                    "0": "1",
                                    "1": "30.265520095825195"
                                },
                                {
                                    "0": "2",
                                    "1": "24.703371047973633"
                                },
                                {
                                    "0": "3",
                                    "1": "30.336326599121094"
                                },
                                {
                                    "0": "4",
                                    "1": "28.20134735107422"
                                },
                                {
                                    "0": "5",
                                    "1": "27.319181442260742"
                                },
                                {
                                    "0": "6",
                                    "1": "24.855072021484375"
                                },
                                {
                                    "0": "7",
                                    "1": "22.7893123626709"
                                },
                                {
                                    "0": "8",
                                    "1": "18.656320571899414"
                                },
                                {
                                    "0": "9",
                                    "1": "10.277936935424805"
                                },
                                {
                                    "0": "10",
                                    "1": "18.09549903869629"
                                },
                                {
                                    "0": "11",
                                    "1": "17.898509979248047"
                                },
                                {
                                    "0": "12",
                                    "1": "21.051237106323242"
                                },
                                {
                                    "0": "13",
                                    "1": "20.805442810058594"
                                },
                                {
                                    "0": "14",
                                    "1": "19.36551284790039"
                                },
                                {
                                    "0": "15",
                                    "1": "18.861007690429688"
                                },
                                {
                                    "0": "16",
                                    "1": "19.231277465820312"
                                },
                                {
                                    "0": "17",
                                    "1": "20.700010299682617"
                                },
                                {
                                    "0": "18",
                                    "1": "16.396883010864258"
                                },
                                {
                                    "0": "19",
                                    "1": "16.413772583007812"
                                },
                                {
                                    "0": "20",
                                    "1": "18.34194564819336"
                                },
                                {
                                    "0": "21",
                                    "1": "11.871844291687012"
                                },
                                {
                                    "0": "22",
                                    "1": "17.21600341796875"
                                },
                                {
                                    "0": "23",
                                    "1": "15.085363388061523"
                                },
                                {
                                    "0": "24",
                                    "1": "13.031757354736328"
                                },
                                {
                                    "0": "25",
                                    "1": "14.990073204040527"
                                },
                                {
                                    "0": "26",
                                    "1": "12.843372344970703"
                                },
                                {
                                    "0": "27",
                                    "1": "14.834527015686035"
                                },
                                {
                                    "0": "28",
                                    "1": "13.953657150268555"
                                },
                                {
                                    "0": "29",
                                    "1": "18.804372787475586"
                                },
                                {
                                    "0": "30",
                                    "1": "20.213836669921875"
                                },
                                {
                                    "0": "31",
                                    "1": "10.595191955566406"
                                },
                                {
                                    "0": "32",
                                    "1": "17.486343383789062"
                                },
                                {
                                    "0": "33",
                                    "1": "7.779772758483887"
                                },
                                {
                                    "0": "34",
                                    "1": "13.731000900268555"
                                },
                                {
                                    "0": "35",
                                    "1": "12.919197082519531"
                                },
                                {
                                    "0": "36",
                                    "1": "24.00119972229004"
                                },
                                {
                                    "0": "37",
                                    "1": "22.523290634155273"
                                },
                                {
                                    "0": "38",
                                    "1": "23.400310516357422"
                                },
                                {
                                    "0": "39",
                                    "1": "23.204517364501953"
                                },
                                {
                                    "0": "40",
                                    "1": "32.05011749267578"
                                },
                                {
                                    "0": "41",
                                    "1": "34.90699768066406"
                                },
                                {
                                    "0": "42",
                                    "1": "28.126819610595703"
                                },
                                {
                                    "0": "43",
                                    "1": "25.448776245117188"
                                },
                                {
                                    "0": "44",
                                    "1": "24.7665958404541"
                                },
                                {
                                    "0": "45",
                                    "1": "22.820289611816406"
                                },
                                {
                                    "0": "46",
                                    "1": "22.284069061279297"
                                },
                                {
                                    "0": "47",
                                    "1": "20.397979736328125"
                                },
                                {
                                    "0": "48",
                                    "1": "17.201261520385742"
                                },
                                {
                                    "0": "49",
                                    "1": "7.827127456665039"
                                },
                                {
                                    "0": "50",
                                    "1": "16.69624900817871"
                                },
                                {
                                    "0": "51",
                                    "1": "20.923114776611328"
                                },
                                {
                                    "0": "52",
                                    "1": "23.62548065185547"
                                },
                                {
                                    "0": "53",
                                    "1": "27.64999008178711"
                                },
                                {
                                    "0": "54",
                                    "1": "24.075162887573242"
                                },
                                {
                                    "0": "55",
                                    "1": "15.298942565917969"
                                },
                                {
                                    "0": "56",
                                    "1": "30.867095947265625"
                                },
                                {
                                    "0": "57",
                                    "1": "24.69550895690918"
                                },
                                {
                                    "0": "58",
                                    "1": "33.22850799560547"
                                },
                                {
                                    "0": "59",
                                    "1": "21.3703556060791"
                                },
                                {
                                    "0": "60",
                                    "1": "20.753738403320312"
                                },
                                {
                                    "0": "61",
                                    "1": "17.219093322753906"
                                },
                                {
                                    "0": "62",
                                    "1": "17.638916015625"
                                },
                                {
                                    "0": "63",
                                    "1": "23.368127822875977"
                                },
                                {
                                    "0": "64",
                                    "1": "21.67345428466797"
                                },
                                {
                                    "0": "65",
                                    "1": "21.993045806884766"
                                },
                                {
                                    "0": "66",
                                    "1": "31.185142517089844"
                                },
                                {
                                    "0": "67",
                                    "1": "26.18267822265625"
                                },
                                {
                                    "0": "68",
                                    "1": "21.294872283935547"
                                },
                                {
                                    "0": "69",
                                    "1": "17.367584228515625"
                                },
                                {
                                    "0": "70",
                                    "1": "20.852519989013672"
                                },
                                {
                                    "0": "71",
                                    "1": "25.566539764404297"
                                },
                                {
                                    "0": "72",
                                    "1": "22.046369552612305"
                                },
                                {
                                    "0": "73",
                                    "1": "25.09129524230957"
                                },
                                {
                                    "0": "74",
                                    "1": "24.432899475097656"
                                },
                                {
                                    "0": "75",
                                    "1": "26.29349136352539"
                                },
                                {
                                    "0": "76",
                                    "1": "24.3179874420166"
                                },
                                {
                                    "0": "77",
                                    "1": "23.07443618774414"
                                },
                                {
                                    "0": "78",
                                    "1": "23.799829483032227"
                                },
                                {
                                    "0": "79",
                                    "1": "21.28337860107422"
                                },
                                {
                                    "0": "80",
                                    "1": "22.972951889038086"
                                },
                                {
                                    "0": "81",
                                    "1": "28.58038330078125"
                                },
                                {
                                    "0": "82",
                                    "1": "26.864572525024414"
                                },
                                {
                                    "0": "83",
                                    "1": "26.301441192626953"
                                },
                                {
                                    "0": "84",
                                    "1": "25.235151290893555"
                                },
                                {
                                    "0": "85",
                                    "1": "24.692232131958008"
                                },
                                {
                                    "0": "86",
                                    "1": "27.788799285888672"
                                },
                                {
                                    "0": "87",
                                    "1": "22.16962432861328"
                                },
                                {
                                    "0": "88",
                                    "1": "26.155353546142578"
                                },
                                {
                                    "0": "89",
                                    "1": "30.611583709716797"
                                },
                                {
                                    "0": "90",
                                    "1": "30.895631790161133"
                                },
                                {
                                    "0": "91",
                                    "1": "27.33429527282715"
                                },
                                {
                                    "0": "92",
                                    "1": "27.606311798095703"
                                },
                                {
                                    "0": "93",
                                    "1": "29.4811954498291"
                                },
                                {
                                    "0": "94",
                                    "1": "29.960391998291016"
                                },
                                {
                                    "0": "95",
                                    "1": "27.385730743408203"
                                },
                                {
                                    "0": "96",
                                    "1": "28.909072875976562"
                                },
                                {
                                    "0": "97",
                                    "1": "24.877338409423828"
                                },
                                {
                                    "0": "98",
                                    "1": "35.552001953125"
                                },
                                {
                                    "0": "99",
                                    "1": "35.26981735229492"
                                },
                                {
                                    "0": "100",
                                    "1": "32.25048065185547"
                                },
                                {
                                    "0": "101",
                                    "1": "24.586429595947266"
                                },
                                {
                                    "0": "102",
                                    "1": "25.700395584106445"
                                },
                                {
                                    "0": "103",
                                    "1": "19.825010299682617"
                                },
                                {
                                    "0": "104",
                                    "1": "20.303720474243164"
                                },
                                {
                                    "0": "105",
                                    "1": "21.52567481994629"
                                },
                                {
                                    "0": "106",
                                    "1": "18.586973190307617"
                                },
                                {
                                    "0": "107",
                                    "1": "17.145771026611328"
                                },
                                {
                                    "0": "108",
                                    "1": "20.885547637939453"
                                },
                                {
                                    "0": "109",
                                    "1": "22.58342170715332"
                                },
                                {
                                    "0": "110",
                                    "1": "19.65374755859375"
                                },
                                {
                                    "0": "111",
                                    "1": "20.85250473022461"
                                },
                                {
                                    "0": "112",
                                    "1": "26.69635009765625"
                                },
                                {
                                    "0": "113",
                                    "1": "20.9521427154541"
                                },
                                {
                                    "0": "114",
                                    "1": "20.724288940429688"
                                },
                                {
                                    "0": "115",
                                    "1": "25.580856323242188"
                                },
                                {
                                    "0": "116",
                                    "1": "20.627365112304688"
                                },
                                {
                                    "0": "117",
                                    "1": "23.697790145874023"
                                },
                                {
                                    "0": "118",
                                    "1": "24.070175170898438"
                                },
                                {
                                    "0": "119",
                                    "1": "20.670255661010742"
                                },
                                {
                                    "0": "120",
                                    "1": "21.237686157226562"
                                },
                                {
                                    "0": "121",
                                    "1": "22.13776397705078"
                                },
                                {
                                    "0": "122",
                                    "1": "22.566890716552734"
                                },
                                {
                                    "0": "123",
                                    "1": "20.469114303588867"
                                },
                                {
                                    "0": "124",
                                    "1": "15.981853485107422"
                                },
                                {
                                    "0": "125",
                                    "1": "20.518199920654297"
                                },
                                {
                                    "0": "126",
                                    "1": "22.583003997802734"
                                },
                                {
                                    "0": "127",
                                    "1": "14.29039192199707"
                                },
                                {
                                    "0": "128",
                                    "1": "15.301830291748047"
                                },
                                {
                                    "0": "129",
                                    "1": "18.862499237060547"
                                },
                                {
                                    "0": "130",
                                    "1": "14.1051607131958"
                                },
                                {
                                    "0": "131",
                                    "1": "19.996753692626953"
                                },
                                {
                                    "0": "132",
                                    "1": "19.401952743530273"
                                },
                                {
                                    "0": "133",
                                    "1": "20.073259353637695"
                                },
                                {
                                    "0": "134",
                                    "1": "15.761652946472168"
                                },
                                {
                                    "0": "135",
                                    "1": "13.187891006469727"
                                },
                                {
                                    "0": "136",
                                    "1": "17.074729919433594"
                                },
                                {
                                    "0": "137",
                                    "1": "15.898823738098145"
                                },
                                {
                                    "0": "138",
                                    "1": "19.307016372680664"
                                },
                                {
                                    "0": "139",
                                    "1": "13.708379745483398"
                                },
                                {
                                    "0": "140",
                                    "1": "16.373289108276367"
                                },
                                {
                                    "0": "141",
                                    "1": "13.271669387817383"
                                },
                                {
                                    "0": "142",
                                    "1": "3.623260498046875"
                                },
                                {
                                    "0": "143",
                                    "1": "14.139840126037598"
                                },
                                {
                                    "0": "144",
                                    "1": "11.722583770751953"
                                },
                                {
                                    "0": "145",
                                    "1": "8.398543357849121"
                                },
                                {
                                    "0": "146",
                                    "1": "11.309786796569824"
                                },
                                {
                                    "0": "147",
                                    "1": "15.752612113952637"
                                },
                                {
                                    "0": "148",
                                    "1": "8.150606155395508"
                                },
                                {
                                    "0": "149",
                                    "1": "9.313606262207031"
                                },
                                {
                                    "0": "150",
                                    "1": "14.564444541931152"
                                },
                                {
                                    "0": "151",
                                    "1": "20.71141815185547"
                                },
                                {
                                    "0": "152",
                                    "1": "18.447952270507812"
                                },
                                {
                                    "0": "153",
                                    "1": "20.480138778686523"
                                },
                                {
                                    "0": "154",
                                    "1": "17.213382720947266"
                                },
                                {
                                    "0": "155",
                                    "1": "22.10715675354004"
                                },
                                {
                                    "0": "156",
                                    "1": "19.93132781982422"
                                },
                                {
                                    "0": "157",
                                    "1": "13.682496070861816"
                                },
                                {
                                    "0": "158",
                                    "1": "33.82482147216797"
                                },
                                {
                                    "0": "159",
                                    "1": "29.828556060791016"
                                },
                                {
                                    "0": "160",
                                    "1": "25.55486297607422"
                                },
                                {
                                    "0": "161",
                                    "1": "33.468994140625"
                                },
                                {
                                    "0": "162",
                                    "1": "37.30232238769531"
                                },
                                {
                                    "0": "163",
                                    "1": "40.84312438964844"
                                },
                                {
                                    "0": "164",
                                    "1": "41.867881774902344"
                                },
                                {
                                    "0": "165",
                                    "1": "25.307270050048828"
                                },
                                {
                                    "0": "166",
                                    "1": "25.920528411865234"
                                },
                                {
                                    "0": "167",
                                    "1": "37.43195724487305"
                                },
                                {
                                    "0": "168",
                                    "1": "23.65753936767578"
                                },
                                {
                                    "0": "169",
                                    "1": "26.837038040161133"
                                },
                                {
                                    "0": "170",
                                    "1": "27.01388168334961"
                                },
                                {
                                    "0": "171",
                                    "1": "22.91617774963379"
                                },
                                {
                                    "0": "172",
                                    "1": "24.752490997314453"
                                },
                                {
                                    "0": "173",
                                    "1": "23.235614776611328"
                                },
                                {
                                    "0": "174",
                                    "1": "29.31346893310547"
                                },
                                {
                                    "0": "175",
                                    "1": "27.020835876464844"
                                },
                                {
                                    "0": "176",
                                    "1": "31.31262969970703"
                                },
                                {
                                    "0": "177",
                                    "1": "25.96422576904297"
                                },
                                {
                                    "0": "178",
                                    "1": "29.4384765625"
                                },
                                {
                                    "0": "179",
                                    "1": "31.616729736328125"
                                },
                                {
                                    "0": "180",
                                    "1": "33.13208770751953"
                                },
                                {
                                    "0": "181",
                                    "1": "34.39813232421875"
                                },
                                {
                                    "0": "182",
                                    "1": "28.097869873046875"
                                },
                                {
                                    "0": "183",
                                    "1": "33.84755325317383"
                                },
                                {
                                    "0": "184",
                                    "1": "31.056650161743164"
                                },
                                {
                                    "0": "185",
                                    "1": "22.73915672302246"
                                },
                                {
                                    "0": "186",
                                    "1": "24.7034854888916"
                                },
                                {
                                    "0": "187",
                                    "1": "35.7630615234375"
                                },
                                {
                                    "0": "188",
                                    "1": "34.333953857421875"
                                },
                                {
                                    "0": "189",
                                    "1": "33.376243591308594"
                                },
                                {
                                    "0": "190",
                                    "1": "35.1559944152832"
                                },
                                {
                                    "0": "191",
                                    "1": "31.11768341064453"
                                },
                                {
                                    "0": "192",
                                    "1": "30.674358367919922"
                                },
                                {
                                    "0": "193",
                                    "1": "33.266075134277344"
                                },
                                {
                                    "0": "194",
                                    "1": "32.69589614868164"
                                },
                                {
                                    "0": "195",
                                    "1": "32.178043365478516"
                                },
                                {
                                    "0": "196",
                                    "1": "41.25812530517578"
                                },
                                {
                                    "0": "197",
                                    "1": "36.496150970458984"
                                },
                                {
                                    "0": "198",
                                    "1": "32.87512969970703"
                                },
                                {
                                    "0": "199",
                                    "1": "34.9326057434082"
                                },
                                {
                                    "0": "200",
                                    "1": "30.537715911865234"
                                },
                                {
                                    "0": "201",
                                    "1": "31.047115325927734"
                                },
                                {
                                    "0": "202",
                                    "1": "30.038740158081055"
                                },
                                {
                                    "0": "203",
                                    "1": "37.6744499206543"
                                },
                                {
                                    "0": "204",
                                    "1": "42.639259338378906"
                                },
                                {
                                    "0": "205",
                                    "1": "43.785423278808594"
                                },
                                {
                                    "0": "206",
                                    "1": "23.112815856933594"
                                },
                                {
                                    "0": "207",
                                    "1": "23.63517951965332"
                                },
                                {
                                    "0": "208",
                                    "1": "17.532073974609375"
                                },
                                {
                                    "0": "209",
                                    "1": "23.297054290771484"
                                },
                                {
                                    "0": "210",
                                    "1": "16.486907958984375"
                                },
                                {
                                    "0": "211",
                                    "1": "21.9793643951416"
                                },
                                {
                                    "0": "212",
                                    "1": "16.613147735595703"
                                },
                                {
                                    "0": "213",
                                    "1": "22.757768630981445"
                                },
                                {
                                    "0": "214",
                                    "1": "25.47295570373535"
                                },
                                {
                                    "0": "215",
                                    "1": "11.033000946044922"
                                },
                                {
                                    "0": "216",
                                    "1": "24.75746726989746"
                                },
                                {
                                    "0": "217",
                                    "1": "26.849658966064453"
                                },
                                {
                                    "0": "218",
                                    "1": "28.289775848388672"
                                },
                                {
                                    "0": "219",
                                    "1": "24.736026763916016"
                                },
                                {
                                    "0": "220",
                                    "1": "29.58597755432129"
                                },
                                {
                                    "0": "221",
                                    "1": "33.05508804321289"
                                },
                                {
                                    "0": "222",
                                    "1": "23.314048767089844"
                                },
                                {
                                    "0": "223",
                                    "1": "31.99396514892578"
                                },
                                {
                                    "0": "224",
                                    "1": "29.83125877380371"
                                },
                                {
                                    "0": "225",
                                    "1": "38.164920806884766"
                                },
                                {
                                    "0": "226",
                                    "1": "39.39458465576172"
                                },
                                {
                                    "0": "227",
                                    "1": "37.36440658569336"
                                },
                                {
                                    "0": "228",
                                    "1": "32.37974548339844"
                                },
                                {
                                    "0": "229",
                                    "1": "35.758724212646484"
                                },
                                {
                                    "0": "230",
                                    "1": "31.90668487548828"
                                },
                                {
                                    "0": "231",
                                    "1": "24.59587287902832"
                                },
                                {
                                    "0": "232",
                                    "1": "33.13498306274414"
                                },
                                {
                                    "0": "233",
                                    "1": "37.675514221191406"
                                },
                                {
                                    "0": "234",
                                    "1": "36.82259750366211"
                                },
                                {
                                    "0": "235",
                                    "1": "31.68379020690918"
                                },
                                {
                                    "0": "236",
                                    "1": "25.42072296142578"
                                },
                                {
                                    "0": "237",
                                    "1": "29.83746910095215"
                                },
                                {
                                    "0": "238",
                                    "1": "32.51478958129883"
                                },
                                {
                                    "0": "239",
                                    "1": "28.715871810913086"
                                },
                                {
                                    "0": "240",
                                    "1": "28.465444564819336"
                                },
                                {
                                    "0": "241",
                                    "1": "26.924419403076172"
                                },
                                {
                                    "0": "242",
                                    "1": "23.530567169189453"
                                },
                                {
                                    "0": "243",
                                    "1": "23.772159576416016"
                                },
                                {
                                    "0": "244",
                                    "1": "27.6281795501709"
                                },
                                {
                                    "0": "245",
                                    "1": "15.623794555664062"
                                },
                                {
                                    "0": "246",
                                    "1": "12.46145248413086"
                                },
                                {
                                    "0": "247",
                                    "1": "19.546297073364258"
                                },
                                {
                                    "0": "248",
                                    "1": "19.000091552734375"
                                },
                                {
                                    "0": "249",
                                    "1": "20.650466918945312"
                                },
                                {
                                    "0": "250",
                                    "1": "23.696449279785156"
                                },
                                {
                                    "0": "251",
                                    "1": "24.07612419128418"
                                },
                                {
                                    "0": "252",
                                    "1": "25.062360763549805"
                                },
                                {
                                    "0": "253",
                                    "1": "24.383888244628906"
                                },
                                {
                                    "0": "254",
                                    "1": "28.947107315063477"
                                },
                                {
                                    "0": "255",
                                    "1": "23.981618881225586"
                                },
                                {
                                    "0": "256",
                                    "1": "21.752111434936523"
                                },
                                {
                                    "0": "257",
                                    "1": "37.952491760253906"
                                },
                                {
                                    "0": "258",
                                    "1": "43.122535705566406"
                                },
                                {
                                    "0": "259",
                                    "1": "36.54267120361328"
                                },
                                {
                                    "0": "260",
                                    "1": "35.22985076904297"
                                },
                                {
                                    "0": "261",
                                    "1": "34.90290832519531"
                                },
                                {
                                    "0": "262",
                                    "1": "37.19390869140625"
                                },
                                {
                                    "0": "263",
                                    "1": "40.72074890136719"
                                },
                                {
                                    "0": "264",
                                    "1": "34.339637756347656"
                                },
                                {
                                    "0": "265",
                                    "1": "35.971580505371094"
                                },
                                {
                                    "0": "266",
                                    "1": "29.030887603759766"
                                },
                                {
                                    "0": "267",
                                    "1": "31.120819091796875"
                                },
                                {
                                    "0": "268",
                                    "1": "40.835693359375"
                                },
                                {
                                    "0": "269",
                                    "1": "39.77843475341797"
                                },
                                {
                                    "0": "270",
                                    "1": "25.776044845581055"
                                },
                                {
                                    "0": "271",
                                    "1": "22.47945785522461"
                                },
                                {
                                    "0": "272",
                                    "1": "27.71731185913086"
                                },
                                {
                                    "0": "273",
                                    "1": "28.711219787597656"
                                },
                                {
                                    "0": "274",
                                    "1": "35.20317077636719"
                                },
                                {
                                    "0": "275",
                                    "1": "36.76817321777344"
                                },
                                {
                                    "0": "276",
                                    "1": "34.38896560668945"
                                },
                                {
                                    "0": "277",
                                    "1": "35.68513870239258"
                                },
                                {
                                    "0": "278",
                                    "1": "35.28131103515625"
                                },
                                {
                                    "0": "279",
                                    "1": "30.98772621154785"
                                },
                                {
                                    "0": "280",
                                    "1": "35.875709533691406"
                                },
                                {
                                    "0": "281",
                                    "1": "38.686126708984375"
                                },
                                {
                                    "0": "282",
                                    "1": "34.5223503112793"
                                },
                                {
                                    "0": "283",
                                    "1": "40.23396301269531"
                                },
                                {
                                    "0": "284",
                                    "1": "45.111366271972656"
                                },
                                {
                                    "0": "285",
                                    "1": "31.855560302734375"
                                },
                                {
                                    "0": "286",
                                    "1": "27.520526885986328"
                                },
                                {
                                    "0": "287",
                                    "1": "19.621524810791016"
                                },
                                {
                                    "0": "288",
                                    "1": "27.221641540527344"
                                },
                                {
                                    "0": "289",
                                    "1": "27.2369384765625"
                                },
                                {
                                    "0": "290",
                                    "1": "26.919158935546875"
                                },
                                {
                                    "0": "291",
                                    "1": "34.14966583251953"
                                },
                                {
                                    "0": "292",
                                    "1": "35.00886535644531"
                                },
                                {
                                    "0": "293",
                                    "1": "32.595985412597656"
                                },
                                {
                                    "0": "294",
                                    "1": "26.200939178466797"
                                },
                                {
                                    "0": "295",
                                    "1": "24.606094360351562"
                                },
                                {
                                    "0": "296",
                                    "1": "28.54846954345703"
                                },
                                {
                                    "0": "297",
                                    "1": "27.30988883972168"
                                },
                                {
                                    "0": "298",
                                    "1": "19.222084045410156"
                                },
                                {
                                    "0": "299",
                                    "1": "29.572856903076172"
                                },
                                {
                                    "0": "300",
                                    "1": "32.209007263183594"
                                },
                                {
                                    "0": "301",
                                    "1": "30.811019897460938"
                                },
                                {
                                    "0": "302",
                                    "1": "29.170692443847656"
                                },
                                {
                                    "0": "303",
                                    "1": "29.332048416137695"
                                },
                                {
                                    "0": "304",
                                    "1": "33.259063720703125"
                                },
                                {
                                    "0": "305",
                                    "1": "33.311439514160156"
                                },
                                {
                                    "0": "306",
                                    "1": "31.047103881835938"
                                },
                                {
                                    "0": "307",
                                    "1": "35.65005874633789"
                                },
                                {
                                    "0": "308",
                                    "1": "32.935760498046875"
                                },
                                {
                                    "0": "309",
                                    "1": "28.753658294677734"
                                },
                                {
                                    "0": "310",
                                    "1": "23.77869415283203"
                                },
                                {
                                    "0": "311",
                                    "1": "19.376365661621094"
                                },
                                {
                                    "0": "312",
                                    "1": "27.48339080810547"
                                },
                                {
                                    "0": "313",
                                    "1": "23.348257064819336"
                                },
                                {
                                    "0": "314",
                                    "1": "25.643543243408203"
                                },
                                {
                                    "0": "315",
                                    "1": "25.292177200317383"
                                },
                                {
                                    "0": "316",
                                    "1": "20.524532318115234"
                                },
                                {
                                    "0": "317",
                                    "1": "17.16476058959961"
                                },
                                {
                                    "0": "318",
                                    "1": "18.150493621826172"
                                },
                                {
                                    "0": "319",
                                    "1": "24.27316665649414"
                                },
                                {
                                    "0": "320",
                                    "1": "21.228492736816406"
                                },
                                {
                                    "0": "321",
                                    "1": "24.835493087768555"
                                },
                                {
                                    "0": "322",
                                    "1": "24.83669090270996"
                                },
                                {
                                    "0": "323",
                                    "1": "22.898475646972656"
                                },
                                {
                                    "0": "324",
                                    "1": "19.242942810058594"
                                },
                                {
                                    "0": "325",
                                    "1": "25.156719207763672"
                                },
                                {
                                    "0": "326",
                                    "1": "24.742599487304688"
                                },
                                {
                                    "0": "327",
                                    "1": "23.65019989013672"
                                },
                                {
                                    "0": "328",
                                    "1": "18.9844970703125"
                                },
                                {
                                    "0": "329",
                                    "1": "21.547557830810547"
                                },
                                {
                                    "0": "330",
                                    "1": "24.6437931060791"
                                },
                                {
                                    "0": "331",
                                    "1": "21.694454193115234"
                                },
                                {
                                    "0": "332",
                                    "1": "20.115116119384766"
                                },
                                {
                                    "0": "333",
                                    "1": "23.601404190063477"
                                },
                                {
                                    "0": "334",
                                    "1": "21.611053466796875"
                                },
                                {
                                    "0": "335",
                                    "1": "20.97598648071289"
                                },
                                {
                                    "0": "336",
                                    "1": "20.227672576904297"
                                },
                                {
                                    "0": "337",
                                    "1": "19.861553192138672"
                                },
                                {
                                    "0": "338",
                                    "1": "18.75011444091797"
                                },
                                {
                                    "0": "339",
                                    "1": "22.031389236450195"
                                },
                                {
                                    "0": "340",
                                    "1": "21.028039932250977"
                                },
                                {
                                    "0": "341",
                                    "1": "21.14398956298828"
                                },
                                {
                                    "0": "342",
                                    "1": "29.987398147583008"
                                },
                                {
                                    "0": "343",
                                    "1": "21.649887084960938"
                                },
                                {
                                    "0": "344",
                                    "1": "27.81393814086914"
                                },
                                {
                                    "0": "345",
                                    "1": "28.714847564697266"
                                },
                                {
                                    "0": "346",
                                    "1": "15.81796646118164"
                                },
                                {
                                    "0": "347",
                                    "1": "13.972468376159668"
                                },
                                {
                                    "0": "348",
                                    "1": "25.263721466064453"
                                },
                                {
                                    "0": "349",
                                    "1": "27.434173583984375"
                                },
                                {
                                    "0": "350",
                                    "1": "21.43016815185547"
                                },
                                {
                                    "0": "351",
                                    "1": "19.8248348236084"
                                },
                                {
                                    "0": "352",
                                    "1": "19.80946922302246"
                                },
                                {
                                    "0": "353",
                                    "1": "16.40036392211914"
                                },
                                {
                                    "0": "354",
                                    "1": "24.317535400390625"
                                },
                                {
                                    "0": "355",
                                    "1": "13.765914916992188"
                                },
                                {
                                    "0": "356",
                                    "1": "16.07094383239746"
                                },
                                {
                                    "0": "357",
                                    "1": "19.27730941772461"
                                },
                                {
                                    "0": "358",
                                    "1": "22.434650421142578"
                                },
                                {
                                    "0": "359",
                                    "1": "22.089975357055664"
                                },
                                {
                                    "0": "360",
                                    "1": "19.16990089416504"
                                },
                                {
                                    "0": "361",
                                    "1": "22.70557403564453"
                                },
                                {
                                    "0": "362",
                                    "1": "18.765817642211914"
                                },
                                {
                                    "0": "363",
                                    "1": "18.568805694580078"
                                },
                                {
                                    "0": "364",
                                    "1": "20.26047134399414"
                                },
                                {
                                    "0": "365",
                                    "1": "37.07897186279297"
                                },
                                {
                                    "0": "366",
                                    "1": "15.691520690917969"
                                },
                                {
                                    "0": "367",
                                    "1": "16.090351104736328"
                                },
                                {
                                    "0": "368",
                                    "1": "11.996235847473145"
                                },
                                {
                                    "0": "369",
                                    "1": "25.08811378479004"
                                },
                                {
                                    "0": "370",
                                    "1": "33.275634765625"
                                },
                                {
                                    "0": "371",
                                    "1": "35.194183349609375"
                                },
                                {
                                    "0": "372",
                                    "1": "25.5566349029541"
                                },
                                {
                                    "0": "373",
                                    "1": "26.700918197631836"
                                },
                                {
                                    "0": "374",
                                    "1": "5.956401824951172"
                                },
                                {
                                    "0": "375",
                                    "1": "0.7415351867675781"
                                },
                                {
                                    "0": "376",
                                    "1": "25.251380920410156"
                                },
                                {
                                    "0": "377",
                                    "1": "17.48895835876465"
                                },
                                {
                                    "0": "378",
                                    "1": "19.978755950927734"
                                },
                                {
                                    "0": "379",
                                    "1": "15.628597259521484"
                                },
                                {
                                    "0": "380",
                                    "1": "16.742958068847656"
                                },
                                {
                                    "0": "381",
                                    "1": "14.311912536621094"
                                },
                                {
                                    "0": "382",
                                    "1": "18.275529861450195"
                                },
                                {
                                    "0": "383",
                                    "1": "13.369147300720215"
                                },
                                {
                                    "0": "384",
                                    "1": "12.976655960083008"
                                },
                                {
                                    "0": "385",
                                    "1": "3.4053421020507812"
                                },
                                {
                                    "0": "386",
                                    "1": "7.819319725036621"
                                },
                                {
                                    "0": "387",
                                    "1": "6.199924468994141"
                                },
                                {
                                    "0": "388",
                                    "1": "5.458061218261719"
                                },
                                {
                                    "0": "389",
                                    "1": "6.300115585327148"
                                },
                                {
                                    "0": "390",
                                    "1": "14.29395866394043"
                                },
                                {
                                    "0": "391",
                                    "1": "17.3181209564209"
                                },
                                {
                                    "0": "392",
                                    "1": "17.24801254272461"
                                },
                                {
                                    "0": "393",
                                    "1": "9.883564949035645"
                                },
                                {
                                    "0": "394",
                                    "1": "20.331741333007812"
                                },
                                {
                                    "0": "395",
                                    "1": "18.094844818115234"
                                },
                                {
                                    "0": "396",
                                    "1": "20.2037410736084"
                                },
                                {
                                    "0": "397",
                                    "1": "19.145679473876953"
                                },
                                {
                                    "0": "398",
                                    "1": "16.3817081451416"
                                },
                                {
                                    "0": "399",
                                    "1": "6.257043838500977"
                                },
                                {
                                    "0": "400",
                                    "1": "10.620112419128418"
                                },
                                {
                                    "0": "401",
                                    "1": "11.543578147888184"
                                },
                                {
                                    "0": "402",
                                    "1": "17.643360137939453"
                                },
                                {
                                    "0": "403",
                                    "1": "18.052528381347656"
                                },
                                {
                                    "0": "404",
                                    "1": "13.180403709411621"
                                },
                                {
                                    "0": "405",
                                    "1": "7.2733259201049805"
                                },
                                {
                                    "0": "406",
                                    "1": "8.215801239013672"
                                },
                                {
                                    "0": "407",
                                    "1": "8.708822250366211"
                                },
                                {
                                    "0": "408",
                                    "1": "20.594552993774414"
                                },
                                {
                                    "0": "409",
                                    "1": "13.774385452270508"
                                },
                                {
                                    "0": "410",
                                    "1": "19.777095794677734"
                                },
                                {
                                    "0": "411",
                                    "1": "15.997756004333496"
                                },
                                {
                                    "0": "412",
                                    "1": "16.867828369140625"
                                },
                                {
                                    "0": "413",
                                    "1": "1.7242202758789062"
                                },
                                {
                                    "0": "414",
                                    "1": "12.280693054199219"
                                },
                                {
                                    "0": "415",
                                    "1": "-4.589996337890625"
                                },
                                {
                                    "0": "416",
                                    "1": "8.944053649902344"
                                },
                                {
                                    "0": "417",
                                    "1": "12.818645477294922"
                                },
                                {
                                    "0": "418",
                                    "1": "6.887740135192871"
                                },
                                {
                                    "0": "419",
                                    "1": "6.094732284545898"
                                },
                                {
                                    "0": "420",
                                    "1": "14.199958801269531"
                                },
                                {
                                    "0": "421",
                                    "1": "19.51540756225586"
                                },
                                {
                                    "0": "422",
                                    "1": "18.17534637451172"
                                },
                                {
                                    "0": "423",
                                    "1": "19.044147491455078"
                                },
                                {
                                    "0": "424",
                                    "1": "13.110703468322754"
                                },
                                {
                                    "0": "425",
                                    "1": "15.187074661254883"
                                },
                                {
                                    "0": "426",
                                    "1": "9.694192886352539"
                                },
                                {
                                    "0": "427",
                                    "1": "16.9739990234375"
                                },
                                {
                                    "0": "428",
                                    "1": "14.328737258911133"
                                },
                                {
                                    "0": "429",
                                    "1": "14.165932655334473"
                                },
                                {
                                    "0": "430",
                                    "1": "12.640166282653809"
                                },
                                {
                                    "0": "431",
                                    "1": "18.32436752319336"
                                },
                                {
                                    "0": "432",
                                    "1": "18.533496856689453"
                                },
                                {
                                    "0": "433",
                                    "1": "21.96025848388672"
                                },
                                {
                                    "0": "434",
                                    "1": "16.85210418701172"
                                },
                                {
                                    "0": "435",
                                    "1": "15.888322830200195"
                                },
                                {
                                    "0": "436",
                                    "1": "12.737712860107422"
                                },
                                {
                                    "0": "437",
                                    "1": "14.234582901000977"
                                },
                                {
                                    "0": "438",
                                    "1": "8.23394775390625"
                                },
                                {
                                    "0": "439",
                                    "1": "4.1193389892578125"
                                },
                                {
                                    "0": "440",
                                    "1": "12.89724349975586"
                                },
                                {
                                    "0": "441",
                                    "1": "12.510197639465332"
                                },
                                {
                                    "0": "442",
                                    "1": "16.922821044921875"
                                },
                                {
                                    "0": "443",
                                    "1": "18.560985565185547"
                                },
                                {
                                    "0": "444",
                                    "1": "17.69287872314453"
                                },
                                {
                                    "0": "445",
                                    "1": "11.185407638549805"
                                },
                                {
                                    "0": "446",
                                    "1": "11.40953254699707"
                                },
                                {
                                    "0": "447",
                                    "1": "17.41290283203125"
                                },
                                {
                                    "0": "448",
                                    "1": "17.918319702148438"
                                },
                                {
                                    "0": "449",
                                    "1": "17.28628921508789"
                                },
                                {
                                    "0": "450",
                                    "1": "16.880966186523438"
                                },
                                {
                                    "0": "451",
                                    "1": "16.143308639526367"
                                },
                                {
                                    "0": "452",
                                    "1": "19.012374877929688"
                                },
                                {
                                    "0": "453",
                                    "1": "18.367923736572266"
                                },
                                {
                                    "0": "454",
                                    "1": "21.84697914123535"
                                },
                                {
                                    "0": "455",
                                    "1": "14.796149253845215"
                                },
                                {
                                    "0": "456",
                                    "1": "15.50047492980957"
                                },
                                {
                                    "0": "457",
                                    "1": "12.46889591217041"
                                },
                                {
                                    "0": "458",
                                    "1": "12.768682479858398"
                                },
                                {
                                    "0": "459",
                                    "1": "16.965450286865234"
                                },
                                {
                                    "0": "460",
                                    "1": "18.451669692993164"
                                },
                                {
                                    "0": "461",
                                    "1": "18.683055877685547"
                                },
                                {
                                    "0": "462",
                                    "1": "20.02117156982422"
                                },
                                {
                                    "0": "463",
                                    "1": "19.66900062561035"
                                },
                                {
                                    "0": "464",
                                    "1": "22.35983657836914"
                                },
                                {
                                    "0": "465",
                                    "1": "20.482147216796875"
                                },
                                {
                                    "0": "466",
                                    "1": "18.251773834228516"
                                },
                                {
                                    "0": "467",
                                    "1": "14.3290376663208"
                                },
                                {
                                    "0": "468",
                                    "1": "16.882129669189453"
                                },
                                {
                                    "0": "469",
                                    "1": "17.172409057617188"
                                },
                                {
                                    "0": "470",
                                    "1": "19.124408721923828"
                                },
                                {
                                    "0": "471",
                                    "1": "20.228775024414062"
                                },
                                {
                                    "0": "472",
                                    "1": "23.22025489807129"
                                },
                                {
                                    "0": "473",
                                    "1": "22.609067916870117"
                                },
                                {
                                    "0": "474",
                                    "1": "25.734193801879883"
                                },
                                {
                                    "0": "475",
                                    "1": "16.695724487304688"
                                },
                                {
                                    "0": "476",
                                    "1": "15.93120288848877"
                                },
                                {
                                    "0": "477",
                                    "1": "20.422874450683594"
                                },
                                {
                                    "0": "478",
                                    "1": "11.587552070617676"
                                },
                                {
                                    "0": "479",
                                    "1": "19.242565155029297"
                                },
                                {
                                    "0": "480",
                                    "1": "22.22901153564453"
                                },
                                {
                                    "0": "481",
                                    "1": "23.900068283081055"
                                },
                                {
                                    "0": "482",
                                    "1": "27.44465446472168"
                                },
                                {
                                    "0": "483",
                                    "1": "28.80622673034668"
                                },
                                {
                                    "0": "484",
                                    "1": "21.687326431274414"
                                },
                                {
                                    "0": "485",
                                    "1": "19.855928421020508"
                                },
                                {
                                    "0": "486",
                                    "1": "22.458518981933594"
                                },
                                {
                                    "0": "487",
                                    "1": "19.68488883972168"
                                },
                                {
                                    "0": "488",
                                    "1": "21.873287200927734"
                                },
                                {
                                    "0": "489",
                                    "1": "12.524473190307617"
                                },
                                {
                                    "0": "490",
                                    "1": "8.613927841186523"
                                },
                                {
                                    "0": "491",
                                    "1": "3.888671875"
                                },
                                {
                                    "0": "492",
                                    "1": "14.18932819366455"
                                },
                                {
                                    "0": "493",
                                    "1": "16.619583129882812"
                                },
                                {
                                    "0": "494",
                                    "1": "21.112220764160156"
                                },
                                {
                                    "0": "495",
                                    "1": "21.02853775024414"
                                },
                                {
                                    "0": "496",
                                    "1": "17.1934757232666"
                                },
                                {
                                    "0": "497",
                                    "1": "13.953039169311523"
                                },
                                {
                                    "0": "498",
                                    "1": "19.221118927001953"
                                },
                                {
                                    "0": "499",
                                    "1": "21.548912048339844"
                                },
                                {
                                    "0": "500",
                                    "1": "18.70823097229004"
                                },
                                {
                                    "0": "501",
                                    "1": "20.529983520507812"
                                },
                                {
                                    "0": "502",
                                    "1": "23.52367401123047"
                                },
                                {
                                    "0": "503",
                                    "1": "22.554580688476562"
                                },
                                {
                                    "0": "504",
                                    "1": "27.59922981262207"
                                },
                                {
                                    "0": "505",
                                    "1": "26.07854652404785"
                                },
                                {
                                    "0": "506",
                                    "1": "22.52422332763672"
                                }
                            ]
                        },
                        "text/html": [
                            "<table>",
                            "<tr><th>id</th><th>MEDV</th></tr>",
                            "<tr><td>1</td><td>30.265520095825195</td></tr>",
                            "<tr><td>2</td><td>24.703371047973633</td></tr>",
                            "<tr><td>3</td><td>30.336326599121094</td></tr>",
                            "<tr><td>4</td><td>28.20134735107422</td></tr>",
                            "<tr><td>5</td><td>27.319181442260742</td></tr>",
                            "<tr><td>6</td><td>24.855072021484375</td></tr>",
                            "<tr><td>7</td><td>22.7893123626709</td></tr>",
                            "<tr><td>8</td><td>18.656320571899414</td></tr>",
                            "<tr><td>9</td><td>10.277936935424805</td></tr>",
                            "<tr><td>10</td><td>18.09549903869629</td></tr>",
                            "<tr><td>11</td><td>17.898509979248047</td></tr>",
                            "<tr><td>12</td><td>21.051237106323242</td></tr>",
                            "<tr><td>13</td><td>20.805442810058594</td></tr>",
                            "<tr><td>14</td><td>19.36551284790039</td></tr>",
                            "<tr><td>15</td><td>18.861007690429688</td></tr>",
                            "<tr><td>16</td><td>19.231277465820312</td></tr>",
                            "<tr><td>17</td><td>20.700010299682617</td></tr>",
                            "<tr><td>18</td><td>16.396883010864258</td></tr>",
                            "<tr><td>19</td><td>16.413772583007812</td></tr>",
                            "<tr><td>20</td><td>18.34194564819336</td></tr>",
                            "<tr><td>21</td><td>11.871844291687012</td></tr>",
                            "<tr><td>22</td><td>17.21600341796875</td></tr>",
                            "<tr><td>23</td><td>15.085363388061523</td></tr>",
                            "<tr><td>24</td><td>13.031757354736328</td></tr>",
                            "<tr><td>25</td><td>14.990073204040527</td></tr>",
                            "<tr><td>26</td><td>12.843372344970703</td></tr>",
                            "<tr><td>27</td><td>14.834527015686035</td></tr>",
                            "<tr><td>28</td><td>13.953657150268555</td></tr>",
                            "<tr><td>29</td><td>18.804372787475586</td></tr>",
                            "<tr><td>30</td><td>20.213836669921875</td></tr>",
                            "<tr><td>31</td><td>10.595191955566406</td></tr>",
                            "<tr><td>32</td><td>17.486343383789062</td></tr>",
                            "<tr><td>33</td><td>7.779772758483887</td></tr>",
                            "<tr><td>34</td><td>13.731000900268555</td></tr>",
                            "<tr><td>35</td><td>12.919197082519531</td></tr>",
                            "<tr><td>36</td><td>24.00119972229004</td></tr>",
                            "<tr><td>37</td><td>22.523290634155273</td></tr>",
                            "<tr><td>38</td><td>23.400310516357422</td></tr>",
                            "<tr><td>39</td><td>23.204517364501953</td></tr>",
                            "<tr><td>40</td><td>32.05011749267578</td></tr>",
                            "<tr><td>41</td><td>34.90699768066406</td></tr>",
                            "<tr><td>42</td><td>28.126819610595703</td></tr>",
                            "<tr><td>43</td><td>25.448776245117188</td></tr>",
                            "<tr><td>44</td><td>24.7665958404541</td></tr>",
                            "<tr><td>45</td><td>22.820289611816406</td></tr>",
                            "<tr><td>46</td><td>22.284069061279297</td></tr>",
                            "<tr><td>47</td><td>20.397979736328125</td></tr>",
                            "<tr><td>48</td><td>17.201261520385742</td></tr>",
                            "<tr><td>49</td><td>7.827127456665039</td></tr>",
                            "<tr><td>50</td><td>16.69624900817871</td></tr>",
                            "<tr><td>51</td><td>20.923114776611328</td></tr>",
                            "<tr><td>52</td><td>23.62548065185547</td></tr>",
                            "<tr><td>53</td><td>27.64999008178711</td></tr>",
                            "<tr><td>54</td><td>24.075162887573242</td></tr>",
                            "<tr><td>55</td><td>15.298942565917969</td></tr>",
                            "<tr><td>56</td><td>30.867095947265625</td></tr>",
                            "<tr><td>57</td><td>24.69550895690918</td></tr>",
                            "<tr><td>58</td><td>33.22850799560547</td></tr>",
                            "<tr><td>59</td><td>21.3703556060791</td></tr>",
                            "<tr><td>60</td><td>20.753738403320312</td></tr>",
                            "<tr><td>61</td><td>17.219093322753906</td></tr>",
                            "<tr><td>62</td><td>17.638916015625</td></tr>",
                            "<tr><td>63</td><td>23.368127822875977</td></tr>",
                            "<tr><td>64</td><td>21.67345428466797</td></tr>",
                            "<tr><td>65</td><td>21.993045806884766</td></tr>",
                            "<tr><td>66</td><td>31.185142517089844</td></tr>",
                            "<tr><td>67</td><td>26.18267822265625</td></tr>",
                            "<tr><td>68</td><td>21.294872283935547</td></tr>",
                            "<tr><td>69</td><td>17.367584228515625</td></tr>",
                            "<tr><td>70</td><td>20.852519989013672</td></tr>",
                            "<tr><td>71</td><td>25.566539764404297</td></tr>",
                            "<tr><td>72</td><td>22.046369552612305</td></tr>",
                            "<tr><td>73</td><td>25.09129524230957</td></tr>",
                            "<tr><td>74</td><td>24.432899475097656</td></tr>",
                            "<tr><td>75</td><td>26.29349136352539</td></tr>",
                            "<tr><td>76</td><td>24.3179874420166</td></tr>",
                            "<tr><td>77</td><td>23.07443618774414</td></tr>",
                            "<tr><td>78</td><td>23.799829483032227</td></tr>",
                            "<tr><td>79</td><td>21.28337860107422</td></tr>",
                            "<tr><td>80</td><td>22.972951889038086</td></tr>",
                            "<tr><td>81</td><td>28.58038330078125</td></tr>",
                            "<tr><td>82</td><td>26.864572525024414</td></tr>",
                            "<tr><td>83</td><td>26.301441192626953</td></tr>",
                            "<tr><td>84</td><td>25.235151290893555</td></tr>",
                            "<tr><td>85</td><td>24.692232131958008</td></tr>",
                            "<tr><td>86</td><td>27.788799285888672</td></tr>",
                            "<tr><td>87</td><td>22.16962432861328</td></tr>",
                            "<tr><td>88</td><td>26.155353546142578</td></tr>",
                            "<tr><td>89</td><td>30.611583709716797</td></tr>",
                            "<tr><td>90</td><td>30.895631790161133</td></tr>",
                            "<tr><td>91</td><td>27.33429527282715</td></tr>",
                            "<tr><td>92</td><td>27.606311798095703</td></tr>",
                            "<tr><td>93</td><td>29.4811954498291</td></tr>",
                            "<tr><td>94</td><td>29.960391998291016</td></tr>",
                            "<tr><td>95</td><td>27.385730743408203</td></tr>",
                            "<tr><td>96</td><td>28.909072875976562</td></tr>",
                            "<tr><td>97</td><td>24.877338409423828</td></tr>",
                            "<tr><td>98</td><td>35.552001953125</td></tr>",
                            "<tr><td>99</td><td>35.26981735229492</td></tr>",
                            "<tr><td>100</td><td>32.25048065185547</td></tr>",
                            "<tr><td>101</td><td>24.586429595947266</td></tr>",
                            "<tr><td>102</td><td>25.700395584106445</td></tr>",
                            "<tr><td>103</td><td>19.825010299682617</td></tr>",
                            "<tr><td>104</td><td>20.303720474243164</td></tr>",
                            "<tr><td>105</td><td>21.52567481994629</td></tr>",
                            "<tr><td>106</td><td>18.586973190307617</td></tr>",
                            "<tr><td>107</td><td>17.145771026611328</td></tr>",
                            "<tr><td>108</td><td>20.885547637939453</td></tr>",
                            "<tr><td>109</td><td>22.58342170715332</td></tr>",
                            "<tr><td>110</td><td>19.65374755859375</td></tr>",
                            "<tr><td>111</td><td>20.85250473022461</td></tr>",
                            "<tr><td>112</td><td>26.69635009765625</td></tr>",
                            "<tr><td>113</td><td>20.9521427154541</td></tr>",
                            "<tr><td>114</td><td>20.724288940429688</td></tr>",
                            "<tr><td>115</td><td>25.580856323242188</td></tr>",
                            "<tr><td>116</td><td>20.627365112304688</td></tr>",
                            "<tr><td>117</td><td>23.697790145874023</td></tr>",
                            "<tr><td>118</td><td>24.070175170898438</td></tr>",
                            "<tr><td>119</td><td>20.670255661010742</td></tr>",
                            "<tr><td>120</td><td>21.237686157226562</td></tr>",
                            "<tr><td>121</td><td>22.13776397705078</td></tr>",
                            "<tr><td>122</td><td>22.566890716552734</td></tr>",
                            "<tr><td>123</td><td>20.469114303588867</td></tr>",
                            "<tr><td>124</td><td>15.981853485107422</td></tr>",
                            "<tr><td>125</td><td>20.518199920654297</td></tr>",
                            "<tr><td>126</td><td>22.583003997802734</td></tr>",
                            "<tr><td>127</td><td>14.29039192199707</td></tr>",
                            "<tr><td>128</td><td>15.301830291748047</td></tr>",
                            "<tr><td>129</td><td>18.862499237060547</td></tr>",
                            "<tr><td>130</td><td>14.1051607131958</td></tr>",
                            "<tr><td>131</td><td>19.996753692626953</td></tr>",
                            "<tr><td>132</td><td>19.401952743530273</td></tr>",
                            "<tr><td>133</td><td>20.073259353637695</td></tr>",
                            "<tr><td>134</td><td>15.761652946472168</td></tr>",
                            "<tr><td>135</td><td>13.187891006469727</td></tr>",
                            "<tr><td>136</td><td>17.074729919433594</td></tr>",
                            "<tr><td>137</td><td>15.898823738098145</td></tr>",
                            "<tr><td>138</td><td>19.307016372680664</td></tr>",
                            "<tr><td>139</td><td>13.708379745483398</td></tr>",
                            "<tr><td>140</td><td>16.373289108276367</td></tr>",
                            "<tr><td>141</td><td>13.271669387817383</td></tr>",
                            "<tr><td>142</td><td>3.623260498046875</td></tr>",
                            "<tr><td>143</td><td>14.139840126037598</td></tr>",
                            "<tr><td>144</td><td>11.722583770751953</td></tr>",
                            "<tr><td>145</td><td>8.398543357849121</td></tr>",
                            "<tr><td>146</td><td>11.309786796569824</td></tr>",
                            "<tr><td>147</td><td>15.752612113952637</td></tr>",
                            "<tr><td>148</td><td>8.150606155395508</td></tr>",
                            "<tr><td>149</td><td>9.313606262207031</td></tr>",
                            "<tr><td>150</td><td>14.564444541931152</td></tr>",
                            "<tr><td>151</td><td>20.71141815185547</td></tr>",
                            "<tr><td>152</td><td>18.447952270507812</td></tr>",
                            "<tr><td>153</td><td>20.480138778686523</td></tr>",
                            "<tr><td>154</td><td>17.213382720947266</td></tr>",
                            "<tr><td>155</td><td>22.10715675354004</td></tr>",
                            "<tr><td>156</td><td>19.93132781982422</td></tr>",
                            "<tr><td>157</td><td>13.682496070861816</td></tr>",
                            "<tr><td>158</td><td>33.82482147216797</td></tr>",
                            "<tr><td>159</td><td>29.828556060791016</td></tr>",
                            "<tr><td>160</td><td>25.55486297607422</td></tr>",
                            "<tr><td>161</td><td>33.468994140625</td></tr>",
                            "<tr><td>162</td><td>37.30232238769531</td></tr>",
                            "<tr><td>163</td><td>40.84312438964844</td></tr>",
                            "<tr><td>164</td><td>41.867881774902344</td></tr>",
                            "<tr><td>165</td><td>25.307270050048828</td></tr>",
                            "<tr><td>166</td><td>25.920528411865234</td></tr>",
                            "<tr><td>167</td><td>37.43195724487305</td></tr>",
                            "<tr><td>168</td><td>23.65753936767578</td></tr>",
                            "<tr><td>169</td><td>26.837038040161133</td></tr>",
                            "<tr><td>170</td><td>27.01388168334961</td></tr>",
                            "<tr><td>171</td><td>22.91617774963379</td></tr>",
                            "<tr><td>172</td><td>24.752490997314453</td></tr>",
                            "<tr><td>173</td><td>23.235614776611328</td></tr>",
                            "<tr><td>174</td><td>29.31346893310547</td></tr>",
                            "<tr><td>175</td><td>27.020835876464844</td></tr>",
                            "<tr><td>176</td><td>31.31262969970703</td></tr>",
                            "<tr><td>177</td><td>25.96422576904297</td></tr>",
                            "<tr><td>178</td><td>29.4384765625</td></tr>",
                            "<tr><td>179</td><td>31.616729736328125</td></tr>",
                            "<tr><td>180</td><td>33.13208770751953</td></tr>",
                            "<tr><td>181</td><td>34.39813232421875</td></tr>",
                            "<tr><td>182</td><td>28.097869873046875</td></tr>",
                            "<tr><td>183</td><td>33.84755325317383</td></tr>",
                            "<tr><td>184</td><td>31.056650161743164</td></tr>",
                            "<tr><td>185</td><td>22.73915672302246</td></tr>",
                            "<tr><td>186</td><td>24.7034854888916</td></tr>",
                            "<tr><td>187</td><td>35.7630615234375</td></tr>",
                            "<tr><td>188</td><td>34.333953857421875</td></tr>",
                            "<tr><td>189</td><td>33.376243591308594</td></tr>",
                            "<tr><td>190</td><td>35.1559944152832</td></tr>",
                            "<tr><td>191</td><td>31.11768341064453</td></tr>",
                            "<tr><td>192</td><td>30.674358367919922</td></tr>",
                            "<tr><td>193</td><td>33.266075134277344</td></tr>",
                            "<tr><td>194</td><td>32.69589614868164</td></tr>",
                            "<tr><td>195</td><td>32.178043365478516</td></tr>",
                            "<tr><td>196</td><td>41.25812530517578</td></tr>",
                            "<tr><td>197</td><td>36.496150970458984</td></tr>",
                            "<tr><td>198</td><td>32.87512969970703</td></tr>",
                            "<tr><td>199</td><td>34.9326057434082</td></tr>",
                            "<tr><td>200</td><td>30.537715911865234</td></tr>",
                            "<tr><td>201</td><td>31.047115325927734</td></tr>",
                            "<tr><td>202</td><td>30.038740158081055</td></tr>",
                            "<tr><td>203</td><td>37.6744499206543</td></tr>",
                            "<tr><td>204</td><td>42.639259338378906</td></tr>",
                            "<tr><td>205</td><td>43.785423278808594</td></tr>",
                            "<tr><td>206</td><td>23.112815856933594</td></tr>",
                            "<tr><td>207</td><td>23.63517951965332</td></tr>",
                            "<tr><td>208</td><td>17.532073974609375</td></tr>",
                            "<tr><td>209</td><td>23.297054290771484</td></tr>",
                            "<tr><td>210</td><td>16.486907958984375</td></tr>",
                            "<tr><td>211</td><td>21.9793643951416</td></tr>",
                            "<tr><td>212</td><td>16.613147735595703</td></tr>",
                            "<tr><td>213</td><td>22.757768630981445</td></tr>",
                            "<tr><td>214</td><td>25.47295570373535</td></tr>",
                            "<tr><td>215</td><td>11.033000946044922</td></tr>",
                            "<tr><td>216</td><td>24.75746726989746</td></tr>",
                            "<tr><td>217</td><td>26.849658966064453</td></tr>",
                            "<tr><td>218</td><td>28.289775848388672</td></tr>",
                            "<tr><td>219</td><td>24.736026763916016</td></tr>",
                            "<tr><td>220</td><td>29.58597755432129</td></tr>",
                            "<tr><td>221</td><td>33.05508804321289</td></tr>",
                            "<tr><td>222</td><td>23.314048767089844</td></tr>",
                            "<tr><td>223</td><td>31.99396514892578</td></tr>",
                            "<tr><td>224</td><td>29.83125877380371</td></tr>",
                            "<tr><td>225</td><td>38.164920806884766</td></tr>",
                            "<tr><td>226</td><td>39.39458465576172</td></tr>",
                            "<tr><td>227</td><td>37.36440658569336</td></tr>",
                            "<tr><td>228</td><td>32.37974548339844</td></tr>",
                            "<tr><td>229</td><td>35.758724212646484</td></tr>",
                            "<tr><td>230</td><td>31.90668487548828</td></tr>",
                            "<tr><td>231</td><td>24.59587287902832</td></tr>",
                            "<tr><td>232</td><td>33.13498306274414</td></tr>",
                            "<tr><td>233</td><td>37.675514221191406</td></tr>",
                            "<tr><td>234</td><td>36.82259750366211</td></tr>",
                            "<tr><td>235</td><td>31.68379020690918</td></tr>",
                            "<tr><td>236</td><td>25.42072296142578</td></tr>",
                            "<tr><td>237</td><td>29.83746910095215</td></tr>",
                            "<tr><td>238</td><td>32.51478958129883</td></tr>",
                            "<tr><td>239</td><td>28.715871810913086</td></tr>",
                            "<tr><td>240</td><td>28.465444564819336</td></tr>",
                            "<tr><td>241</td><td>26.924419403076172</td></tr>",
                            "<tr><td>242</td><td>23.530567169189453</td></tr>",
                            "<tr><td>243</td><td>23.772159576416016</td></tr>",
                            "<tr><td>244</td><td>27.6281795501709</td></tr>",
                            "<tr><td>245</td><td>15.623794555664062</td></tr>",
                            "<tr><td>246</td><td>12.46145248413086</td></tr>",
                            "<tr><td>247</td><td>19.546297073364258</td></tr>",
                            "<tr><td>248</td><td>19.000091552734375</td></tr>",
                            "<tr><td>249</td><td>20.650466918945312</td></tr>",
                            "<tr><td>250</td><td>23.696449279785156</td></tr>",
                            "<tr><td>251</td><td>24.07612419128418</td></tr>",
                            "<tr><td>252</td><td>25.062360763549805</td></tr>",
                            "<tr><td>253</td><td>24.383888244628906</td></tr>",
                            "<tr><td>254</td><td>28.947107315063477</td></tr>",
                            "<tr><td>255</td><td>23.981618881225586</td></tr>",
                            "<tr><td>256</td><td>21.752111434936523</td></tr>",
                            "<tr><td>257</td><td>37.952491760253906</td></tr>",
                            "<tr><td>258</td><td>43.122535705566406</td></tr>",
                            "<tr><td>259</td><td>36.54267120361328</td></tr>",
                            "<tr><td>260</td><td>35.22985076904297</td></tr>",
                            "<tr><td>261</td><td>34.90290832519531</td></tr>",
                            "<tr><td>262</td><td>37.19390869140625</td></tr>",
                            "<tr><td>263</td><td>40.72074890136719</td></tr>",
                            "<tr><td>264</td><td>34.339637756347656</td></tr>",
                            "<tr><td>265</td><td>35.971580505371094</td></tr>",
                            "<tr><td>266</td><td>29.030887603759766</td></tr>",
                            "<tr><td>267</td><td>31.120819091796875</td></tr>",
                            "<tr><td>268</td><td>40.835693359375</td></tr>",
                            "<tr><td>269</td><td>39.77843475341797</td></tr>",
                            "<tr><td>270</td><td>25.776044845581055</td></tr>",
                            "<tr><td>271</td><td>22.47945785522461</td></tr>",
                            "<tr><td>272</td><td>27.71731185913086</td></tr>",
                            "<tr><td>273</td><td>28.711219787597656</td></tr>",
                            "<tr><td>274</td><td>35.20317077636719</td></tr>",
                            "<tr><td>275</td><td>36.76817321777344</td></tr>",
                            "<tr><td>276</td><td>34.38896560668945</td></tr>",
                            "<tr><td>277</td><td>35.68513870239258</td></tr>",
                            "<tr><td>278</td><td>35.28131103515625</td></tr>",
                            "<tr><td>279</td><td>30.98772621154785</td></tr>",
                            "<tr><td>280</td><td>35.875709533691406</td></tr>",
                            "<tr><td>281</td><td>38.686126708984375</td></tr>",
                            "<tr><td>282</td><td>34.5223503112793</td></tr>",
                            "<tr><td>283</td><td>40.23396301269531</td></tr>",
                            "<tr><td>284</td><td>45.111366271972656</td></tr>",
                            "<tr><td>285</td><td>31.855560302734375</td></tr>",
                            "<tr><td>286</td><td>27.520526885986328</td></tr>",
                            "<tr><td>287</td><td>19.621524810791016</td></tr>",
                            "<tr><td>288</td><td>27.221641540527344</td></tr>",
                            "<tr><td>289</td><td>27.2369384765625</td></tr>",
                            "<tr><td>290</td><td>26.919158935546875</td></tr>",
                            "<tr><td>291</td><td>34.14966583251953</td></tr>",
                            "<tr><td>292</td><td>35.00886535644531</td></tr>",
                            "<tr><td>293</td><td>32.595985412597656</td></tr>",
                            "<tr><td>294</td><td>26.200939178466797</td></tr>",
                            "<tr><td>295</td><td>24.606094360351562</td></tr>",
                            "<tr><td>296</td><td>28.54846954345703</td></tr>",
                            "<tr><td>297</td><td>27.30988883972168</td></tr>",
                            "<tr><td>298</td><td>19.222084045410156</td></tr>",
                            "<tr><td>299</td><td>29.572856903076172</td></tr>",
                            "<tr><td>300</td><td>32.209007263183594</td></tr>",
                            "<tr><td>301</td><td>30.811019897460938</td></tr>",
                            "<tr><td>302</td><td>29.170692443847656</td></tr>",
                            "<tr><td>303</td><td>29.332048416137695</td></tr>",
                            "<tr><td>304</td><td>33.259063720703125</td></tr>",
                            "<tr><td>305</td><td>33.311439514160156</td></tr>",
                            "<tr><td>306</td><td>31.047103881835938</td></tr>",
                            "<tr><td>307</td><td>35.65005874633789</td></tr>",
                            "<tr><td>308</td><td>32.935760498046875</td></tr>",
                            "<tr><td>309</td><td>28.753658294677734</td></tr>",
                            "<tr><td>310</td><td>23.77869415283203</td></tr>",
                            "<tr><td>311</td><td>19.376365661621094</td></tr>",
                            "<tr><td>312</td><td>27.48339080810547</td></tr>",
                            "<tr><td>313</td><td>23.348257064819336</td></tr>",
                            "<tr><td>314</td><td>25.643543243408203</td></tr>",
                            "<tr><td>315</td><td>25.292177200317383</td></tr>",
                            "<tr><td>316</td><td>20.524532318115234</td></tr>",
                            "<tr><td>317</td><td>17.16476058959961</td></tr>",
                            "<tr><td>318</td><td>18.150493621826172</td></tr>",
                            "<tr><td>319</td><td>24.27316665649414</td></tr>",
                            "<tr><td>320</td><td>21.228492736816406</td></tr>",
                            "<tr><td>321</td><td>24.835493087768555</td></tr>",
                            "<tr><td>322</td><td>24.83669090270996</td></tr>",
                            "<tr><td>323</td><td>22.898475646972656</td></tr>",
                            "<tr><td>324</td><td>19.242942810058594</td></tr>",
                            "<tr><td>325</td><td>25.156719207763672</td></tr>",
                            "<tr><td>326</td><td>24.742599487304688</td></tr>",
                            "<tr><td>327</td><td>23.65019989013672</td></tr>",
                            "<tr><td>328</td><td>18.9844970703125</td></tr>",
                            "<tr><td>329</td><td>21.547557830810547</td></tr>",
                            "<tr><td>330</td><td>24.6437931060791</td></tr>",
                            "<tr><td>331</td><td>21.694454193115234</td></tr>",
                            "<tr><td>332</td><td>20.115116119384766</td></tr>",
                            "<tr><td>333</td><td>23.601404190063477</td></tr>",
                            "<tr><td>334</td><td>21.611053466796875</td></tr>",
                            "<tr><td>335</td><td>20.97598648071289</td></tr>",
                            "<tr><td>336</td><td>20.227672576904297</td></tr>",
                            "<tr><td>337</td><td>19.861553192138672</td></tr>",
                            "<tr><td>338</td><td>18.75011444091797</td></tr>",
                            "<tr><td>339</td><td>22.031389236450195</td></tr>",
                            "<tr><td>340</td><td>21.028039932250977</td></tr>",
                            "<tr><td>341</td><td>21.14398956298828</td></tr>",
                            "<tr><td>342</td><td>29.987398147583008</td></tr>",
                            "<tr><td>343</td><td>21.649887084960938</td></tr>",
                            "<tr><td>344</td><td>27.81393814086914</td></tr>",
                            "<tr><td>345</td><td>28.714847564697266</td></tr>",
                            "<tr><td>346</td><td>15.81796646118164</td></tr>",
                            "<tr><td>347</td><td>13.972468376159668</td></tr>",
                            "<tr><td>348</td><td>25.263721466064453</td></tr>",
                            "<tr><td>349</td><td>27.434173583984375</td></tr>",
                            "<tr><td>350</td><td>21.43016815185547</td></tr>",
                            "<tr><td>351</td><td>19.8248348236084</td></tr>",
                            "<tr><td>352</td><td>19.80946922302246</td></tr>",
                            "<tr><td>353</td><td>16.40036392211914</td></tr>",
                            "<tr><td>354</td><td>24.317535400390625</td></tr>",
                            "<tr><td>355</td><td>13.765914916992188</td></tr>",
                            "<tr><td>356</td><td>16.07094383239746</td></tr>",
                            "<tr><td>357</td><td>19.27730941772461</td></tr>",
                            "<tr><td>358</td><td>22.434650421142578</td></tr>",
                            "<tr><td>359</td><td>22.089975357055664</td></tr>",
                            "<tr><td>360</td><td>19.16990089416504</td></tr>",
                            "<tr><td>361</td><td>22.70557403564453</td></tr>",
                            "<tr><td>362</td><td>18.765817642211914</td></tr>",
                            "<tr><td>363</td><td>18.568805694580078</td></tr>",
                            "<tr><td>364</td><td>20.26047134399414</td></tr>",
                            "<tr><td>365</td><td>37.07897186279297</td></tr>",
                            "<tr><td>366</td><td>15.691520690917969</td></tr>",
                            "<tr><td>367</td><td>16.090351104736328</td></tr>",
                            "<tr><td>368</td><td>11.996235847473145</td></tr>",
                            "<tr><td>369</td><td>25.08811378479004</td></tr>",
                            "<tr><td>370</td><td>33.275634765625</td></tr>",
                            "<tr><td>371</td><td>35.194183349609375</td></tr>",
                            "<tr><td>372</td><td>25.5566349029541</td></tr>",
                            "<tr><td>373</td><td>26.700918197631836</td></tr>",
                            "<tr><td>374</td><td>5.956401824951172</td></tr>",
                            "<tr><td>375</td><td>0.7415351867675781</td></tr>",
                            "<tr><td>376</td><td>25.251380920410156</td></tr>",
                            "<tr><td>377</td><td>17.48895835876465</td></tr>",
                            "<tr><td>378</td><td>19.978755950927734</td></tr>",
                            "<tr><td>379</td><td>15.628597259521484</td></tr>",
                            "<tr><td>380</td><td>16.742958068847656</td></tr>",
                            "<tr><td>381</td><td>14.311912536621094</td></tr>",
                            "<tr><td>382</td><td>18.275529861450195</td></tr>",
                            "<tr><td>383</td><td>13.369147300720215</td></tr>",
                            "<tr><td>384</td><td>12.976655960083008</td></tr>",
                            "<tr><td>385</td><td>3.4053421020507812</td></tr>",
                            "<tr><td>386</td><td>7.819319725036621</td></tr>",
                            "<tr><td>387</td><td>6.199924468994141</td></tr>",
                            "<tr><td>388</td><td>5.458061218261719</td></tr>",
                            "<tr><td>389</td><td>6.300115585327148</td></tr>",
                            "<tr><td>390</td><td>14.29395866394043</td></tr>",
                            "<tr><td>391</td><td>17.3181209564209</td></tr>",
                            "<tr><td>392</td><td>17.24801254272461</td></tr>",
                            "<tr><td>393</td><td>9.883564949035645</td></tr>",
                            "<tr><td>394</td><td>20.331741333007812</td></tr>",
                            "<tr><td>395</td><td>18.094844818115234</td></tr>",
                            "<tr><td>396</td><td>20.2037410736084</td></tr>",
                            "<tr><td>397</td><td>19.145679473876953</td></tr>",
                            "<tr><td>398</td><td>16.3817081451416</td></tr>",
                            "<tr><td>399</td><td>6.257043838500977</td></tr>",
                            "<tr><td>400</td><td>10.620112419128418</td></tr>",
                            "<tr><td>401</td><td>11.543578147888184</td></tr>",
                            "<tr><td>402</td><td>17.643360137939453</td></tr>",
                            "<tr><td>403</td><td>18.052528381347656</td></tr>",
                            "<tr><td>404</td><td>13.180403709411621</td></tr>",
                            "<tr><td>405</td><td>7.2733259201049805</td></tr>",
                            "<tr><td>406</td><td>8.215801239013672</td></tr>",
                            "<tr><td>407</td><td>8.708822250366211</td></tr>",
                            "<tr><td>408</td><td>20.594552993774414</td></tr>",
                            "<tr><td>409</td><td>13.774385452270508</td></tr>",
                            "<tr><td>410</td><td>19.777095794677734</td></tr>",
                            "<tr><td>411</td><td>15.997756004333496</td></tr>",
                            "<tr><td>412</td><td>16.867828369140625</td></tr>",
                            "<tr><td>413</td><td>1.7242202758789062</td></tr>",
                            "<tr><td>414</td><td>12.280693054199219</td></tr>",
                            "<tr><td>415</td><td>-4.589996337890625</td></tr>",
                            "<tr><td>416</td><td>8.944053649902344</td></tr>",
                            "<tr><td>417</td><td>12.818645477294922</td></tr>",
                            "<tr><td>418</td><td>6.887740135192871</td></tr>",
                            "<tr><td>419</td><td>6.094732284545898</td></tr>",
                            "<tr><td>420</td><td>14.199958801269531</td></tr>",
                            "<tr><td>421</td><td>19.51540756225586</td></tr>",
                            "<tr><td>422</td><td>18.17534637451172</td></tr>",
                            "<tr><td>423</td><td>19.044147491455078</td></tr>",
                            "<tr><td>424</td><td>13.110703468322754</td></tr>",
                            "<tr><td>425</td><td>15.187074661254883</td></tr>",
                            "<tr><td>426</td><td>9.694192886352539</td></tr>",
                            "<tr><td>427</td><td>16.9739990234375</td></tr>",
                            "<tr><td>428</td><td>14.328737258911133</td></tr>",
                            "<tr><td>429</td><td>14.165932655334473</td></tr>",
                            "<tr><td>430</td><td>12.640166282653809</td></tr>",
                            "<tr><td>431</td><td>18.32436752319336</td></tr>",
                            "<tr><td>432</td><td>18.533496856689453</td></tr>",
                            "<tr><td>433</td><td>21.96025848388672</td></tr>",
                            "<tr><td>434</td><td>16.85210418701172</td></tr>",
                            "<tr><td>435</td><td>15.888322830200195</td></tr>",
                            "<tr><td>436</td><td>12.737712860107422</td></tr>",
                            "<tr><td>437</td><td>14.234582901000977</td></tr>",
                            "<tr><td>438</td><td>8.23394775390625</td></tr>",
                            "<tr><td>439</td><td>4.1193389892578125</td></tr>",
                            "<tr><td>440</td><td>12.89724349975586</td></tr>",
                            "<tr><td>441</td><td>12.510197639465332</td></tr>",
                            "<tr><td>442</td><td>16.922821044921875</td></tr>",
                            "<tr><td>443</td><td>18.560985565185547</td></tr>",
                            "<tr><td>444</td><td>17.69287872314453</td></tr>",
                            "<tr><td>445</td><td>11.185407638549805</td></tr>",
                            "<tr><td>446</td><td>11.40953254699707</td></tr>",
                            "<tr><td>447</td><td>17.41290283203125</td></tr>",
                            "<tr><td>448</td><td>17.918319702148438</td></tr>",
                            "<tr><td>449</td><td>17.28628921508789</td></tr>",
                            "<tr><td>450</td><td>16.880966186523438</td></tr>",
                            "<tr><td>451</td><td>16.143308639526367</td></tr>",
                            "<tr><td>452</td><td>19.012374877929688</td></tr>",
                            "<tr><td>453</td><td>18.367923736572266</td></tr>",
                            "<tr><td>454</td><td>21.84697914123535</td></tr>",
                            "<tr><td>455</td><td>14.796149253845215</td></tr>",
                            "<tr><td>456</td><td>15.50047492980957</td></tr>",
                            "<tr><td>457</td><td>12.46889591217041</td></tr>",
                            "<tr><td>458</td><td>12.768682479858398</td></tr>",
                            "<tr><td>459</td><td>16.965450286865234</td></tr>",
                            "<tr><td>460</td><td>18.451669692993164</td></tr>",
                            "<tr><td>461</td><td>18.683055877685547</td></tr>",
                            "<tr><td>462</td><td>20.02117156982422</td></tr>",
                            "<tr><td>463</td><td>19.66900062561035</td></tr>",
                            "<tr><td>464</td><td>22.35983657836914</td></tr>",
                            "<tr><td>465</td><td>20.482147216796875</td></tr>",
                            "<tr><td>466</td><td>18.251773834228516</td></tr>",
                            "<tr><td>467</td><td>14.3290376663208</td></tr>",
                            "<tr><td>468</td><td>16.882129669189453</td></tr>",
                            "<tr><td>469</td><td>17.172409057617188</td></tr>",
                            "<tr><td>470</td><td>19.124408721923828</td></tr>",
                            "<tr><td>471</td><td>20.228775024414062</td></tr>",
                            "<tr><td>472</td><td>23.22025489807129</td></tr>",
                            "<tr><td>473</td><td>22.609067916870117</td></tr>",
                            "<tr><td>474</td><td>25.734193801879883</td></tr>",
                            "<tr><td>475</td><td>16.695724487304688</td></tr>",
                            "<tr><td>476</td><td>15.93120288848877</td></tr>",
                            "<tr><td>477</td><td>20.422874450683594</td></tr>",
                            "<tr><td>478</td><td>11.587552070617676</td></tr>",
                            "<tr><td>479</td><td>19.242565155029297</td></tr>",
                            "<tr><td>480</td><td>22.22901153564453</td></tr>",
                            "<tr><td>481</td><td>23.900068283081055</td></tr>",
                            "<tr><td>482</td><td>27.44465446472168</td></tr>",
                            "<tr><td>483</td><td>28.80622673034668</td></tr>",
                            "<tr><td>484</td><td>21.687326431274414</td></tr>",
                            "<tr><td>485</td><td>19.855928421020508</td></tr>",
                            "<tr><td>486</td><td>22.458518981933594</td></tr>",
                            "<tr><td>487</td><td>19.68488883972168</td></tr>",
                            "<tr><td>488</td><td>21.873287200927734</td></tr>",
                            "<tr><td>489</td><td>12.524473190307617</td></tr>",
                            "<tr><td>490</td><td>8.613927841186523</td></tr>",
                            "<tr><td>491</td><td>3.888671875</td></tr>",
                            "<tr><td>492</td><td>14.18932819366455</td></tr>",
                            "<tr><td>493</td><td>16.619583129882812</td></tr>",
                            "<tr><td>494</td><td>21.112220764160156</td></tr>",
                            "<tr><td>495</td><td>21.02853775024414</td></tr>",
                            "<tr><td>496</td><td>17.1934757232666</td></tr>",
                            "<tr><td>497</td><td>13.953039169311523</td></tr>",
                            "<tr><td>498</td><td>19.221118927001953</td></tr>",
                            "<tr><td>499</td><td>21.548912048339844</td></tr>",
                            "<tr><td>500</td><td>18.70823097229004</td></tr>",
                            "<tr><td>501</td><td>20.529983520507812</td></tr>",
                            "<tr><td>502</td><td>23.52367401123047</td></tr>",
                            "<tr><td>503</td><td>22.554580688476562</td></tr>",
                            "<tr><td>504</td><td>27.59922981262207</td></tr>",
                            "<tr><td>505</td><td>26.07854652404785</td></tr>",
                            "<tr><td>506</td><td>22.52422332763672</td></tr>",
                            "</table>"
                        ]
                    }
                }
            ],
            "execution_count": 1
        },
        {
            "cell_type": "code",
            "source": [
                "import pyodbc\r\n",
                "\r\n",
                "sql_server = 'iotedgevm-be9601db-be9601db.eastus.cloudapp.azure.com' # SQL Server IP address\r\n",
                "sql_database = \"onnx\"\r\n",
                "sql_username = 'sa' # SQL Server username\r\n",
                "sql_password = 'SuperSecretP@ssw0rd!' # SQL Server password\r\n",
                "models_table = \"models\"\r\n",
                "models_id_column_name = \"id\"\r\n",
                "\r\n",
                "db_connection_string = f'Driver={{ODBC Driver 17 for SQL Server}};Server={sql_server};UID={sql_username};PWD={sql_password};Database={sql_database};'\r\n",
                "conn = pyodbc.connect(db_connection_string, autocommit=True)\r\n",
                "cursor = conn.cursor()\r\n",
                "\r\n",
                "# retrieve respective model\r\n",
                "tag = 1\r\n",
                "query = f'SELECT * FROM dbo.{models_table} WHERE {models_id_column_name}={tag}'\r\n",
                "cursor.execute(query)"
            ],
            "metadata": {
                "azdata_cell_guid": "85fbaf22-1acc-4001-9730-b590f30bfa34"
            },
            "outputs": [
                {
                    "data": {
                        "text/plain": "<pyodbc.Cursor at 0x1e03b834530>"
                    },
                    "metadata": {},
                    "execution_count": 4,
                    "output_type": "execute_result"
                }
            ],
            "execution_count": 4
        },
        {
            "cell_type": "code",
            "source": [
                "#all = cursor.fetchall()\r\n",
                "all[0].description"
            ],
            "metadata": {
                "azdata_cell_guid": "498b5785-dbe0-465c-92ed-edac312203a6"
            },
            "outputs": [
                {
                    "data": {
                        "text/plain": "'Onnx Model'"
                    },
                    "metadata": {},
                    "execution_count": 11,
                    "output_type": "execute_result"
                }
            ],
            "execution_count": 11
        }
    ]
}