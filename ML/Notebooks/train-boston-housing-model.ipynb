{
    "metadata": {
        "kernelspec": {
            "name": "SQL",
            "display_name": "SQL",
            "language": "sql"
        },
        "language_info": {
            "name": "sql",
            "version": ""
        }
    },
    "nbformat_minor": 2,
    "nbformat": 4,
    "cells": [
        {
            "cell_type": "markdown",
            "source": [
                "INSTALL DEPENDENCIES"
            ],
            "metadata": {
                "azdata_cell_guid": "b2c71178-6846-423d-a1fa-f864fab7c58b"
            },
            "attachments": {}
        },
        {
            "cell_type": "code",
            "source": [
                "!pip install pandas\r\n",
                "!pip install scikit-learn\r\n",
                "!pip install numpy\r\n",
                "!pip install onnxmltools\r\n",
                "!pip install onnxruntime\r\n",
                "!pip install pyodbc\r\n",
                "!pip install setuptools\r\n",
                "!pip install skl2onnx\r\n",
                "!pip install sqlalchemy"
            ],
            "metadata": {
                "azdata_cell_guid": "a6b17618-9951-4cf0-aca9-39e39f3020bf"
            },
            "outputs": [],
            "execution_count": null
        },
        {
            "cell_type": "markdown",
            "source": [
                "CREATE DATASET"
            ],
            "metadata": {
                "azdata_cell_guid": "c455a0cb-048b-405d-ae6d-0095fae75161"
            },
            "attachments": {}
        },
        {
            "cell_type": "code",
            "source": [
                "import numpy as np\r\n",
                "import onnxmltools\r\n",
                "import onnxruntime as rt\r\n",
                "import pandas as pd\r\n",
                "import skl2onnx\r\n",
                "import sklearn\r\n",
                "import sklearn.datasets\r\n",
                "\r\n",
                "from sklearn.datasets import load_boston\r\n",
                "boston = load_boston()\r\n",
                "boston\r\n",
                "\r\n",
                "df = pd.DataFrame(data=np.c_[boston['data'], boston['target']], columns=boston['feature_names'].tolist() + ['MEDV'])\r\n",
                " \r\n",
                "target_column = 'MEDV'\r\n",
                " \r\n",
                "# Split the data frame into features and target\r\n",
                "x_train = pd.DataFrame(df.drop([target_column], axis = 1))\r\n",
                "y_train = pd.DataFrame(df.iloc[:,df.columns.tolist().index(target_column)])\r\n",
                "\r\n",
                "print(\"\\n*** Training dataset x\\n\")\r\n",
                "print(x_train.head())\r\n",
                "\r\n",
                "print(\"\\n*** Training dataset y\\n\")\r\n",
                "print(y_train.head())"
            ],
            "metadata": {
                "azdata_cell_guid": "f52cbb89-8ac4-408d-b74c-2160b5691dc0"
            },
            "outputs": [
                {
                    "name": "stdout",
                    "text": "\n*** Training dataset x\n\n      CRIM    ZN  INDUS  CHAS    NOX     RM   AGE     DIS  RAD    TAX  \\\n0  0.00632  18.0   2.31   0.0  0.538  6.575  65.2  4.0900  1.0  296.0   \n1  0.02731   0.0   7.07   0.0  0.469  6.421  78.9  4.9671  2.0  242.0   \n2  0.02729   0.0   7.07   0.0  0.469  7.185  61.1  4.9671  2.0  242.0   \n3  0.03237   0.0   2.18   0.0  0.458  6.998  45.8  6.0622  3.0  222.0   \n4  0.06905   0.0   2.18   0.0  0.458  7.147  54.2  6.0622  3.0  222.0   \n\n   PTRATIO       B  LSTAT  \n0     15.3  396.90   4.98  \n1     17.8  396.90   9.14  \n2     17.8  392.83   4.03  \n3     18.7  394.63   2.94  \n4     18.7  396.90   5.33  \n\n*** Training dataset y\n\n   MEDV\n0  24.0\n1  21.6\n2  34.7\n3  33.4\n4  36.2\n",
                    "output_type": "stream"
                }
            ],
            "execution_count": 66
        },
        {
            "cell_type": "markdown",
            "source": [
                "CREATE PIPELINE TO TRAIN THE LINEAR REGRESSION MODEL"
            ],
            "metadata": {
                "azdata_cell_guid": "593b8da3-a05e-40d8-85b6-cc8ee56d2d95"
            },
            "attachments": {}
        },
        {
            "cell_type": "code",
            "source": [
                "from sklearn.compose import ColumnTransformer\r\n",
                "from sklearn.linear_model import LinearRegression\r\n",
                "from sklearn.pipeline import Pipeline\r\n",
                "from sklearn.preprocessing import RobustScaler\r\n",
                "\r\n",
                "continuous_transformer = Pipeline(steps=[('scaler', RobustScaler())])\r\n",
                "\r\n",
                "# All columns are numeric - normalize them\r\n",
                "preprocessor = ColumnTransformer(\r\n",
                "    transformers=[\r\n",
                "        ('continuous', continuous_transformer, [i for i in range(len(x_train.columns))])])\r\n",
                "\r\n",
                "model = Pipeline(\r\n",
                "    steps=[\r\n",
                "        ('preprocessor', preprocessor),\r\n",
                "        ('regressor', LinearRegression())])\r\n",
                "\r\n",
                "# Train the model\r\n",
                "model.fit(x_train, y_train)"
            ],
            "metadata": {
                "azdata_cell_guid": "1220be84-0b79-4993-a151-b8a045ef2cfe"
            },
            "outputs": [
                {
                    "data": {
                        "text/plain": "Pipeline(steps=[('preprocessor',\n                 ColumnTransformer(transformers=[('continuous',\n                                                  Pipeline(steps=[('scaler',\n                                                                   RobustScaler())]),\n                                                  [0, 1, 2, 3, 4, 5, 6, 7, 8, 9,\n                                                   10, 11, 12])])),\n                ('regressor', LinearRegression())])"
                    },
                    "metadata": {},
                    "execution_count": 67,
                    "output_type": "execute_result"
                }
            ],
            "execution_count": 67
        },
        {
            "cell_type": "markdown",
            "source": [
                "CHECK MODEL ACCURACY"
            ],
            "metadata": {
                "azdata_cell_guid": "380624de-b936-4ecf-bee7-d5ba1d4d9659"
            },
            "attachments": {}
        },
        {
            "cell_type": "code",
            "source": [
                "# Score the model\r\n",
                "from sklearn.metrics import r2_score, mean_squared_error\r\n",
                "y_pred = model.predict(x_train)\r\n",
                "sklearn_r2_score = r2_score(y_train, y_pred)\r\n",
                "sklearn_mse = mean_squared_error(y_train, y_pred)\r\n",
                "print('*** Scikit-learn r2 score: {}'.format(sklearn_r2_score))\r\n",
                "print('*** Scikit-learn MSE: {}'.format(sklearn_mse))"
            ],
            "metadata": {
                "azdata_cell_guid": "a628102e-fd8f-43d4-9723-444caa09cedf"
            },
            "outputs": [
                {
                    "name": "stdout",
                    "text": "*** Scikit-learn r2 score: 0.7406426641094094\n*** Scikit-learn MSE: 21.894831181729206\n",
                    "output_type": "stream"
                }
            ],
            "execution_count": 68
        },
        {
            "cell_type": "markdown",
            "source": [
                "DEFINE FUNCTION TO CONVERT MODEL TO ONNX"
            ],
            "metadata": {
                "azdata_cell_guid": "b83c76fe-ad20-43ca-af38-163c3750965d"
            },
            "attachments": {}
        },
        {
            "cell_type": "code",
            "source": [
                "from skl2onnx.common.data_types import FloatTensorType, Int64TensorType, DoubleTensorType\r\n",
                "\r\n",
                "def convert_dataframe_schema(df, drop=None, batch_axis=False):\r\n",
                "    inputs = []\r\n",
                "    nrows = None if batch_axis else 1\r\n",
                "    for k, v in zip(df.columns, df.dtypes):\r\n",
                "        if drop is not None and k in drop:\r\n",
                "            continue\r\n",
                "        if v == 'int64':\r\n",
                "            t = Int64TensorType([nrows, 1])\r\n",
                "        elif v == 'float32':\r\n",
                "            t = FloatTensorType([nrows, 1])\r\n",
                "        elif v == 'float64':\r\n",
                "            t = DoubleTensorType([nrows, 1])\r\n",
                "        else:\r\n",
                "            raise Exception(\"Bad type\")\r\n",
                "        inputs.append((k, t))\r\n",
                "    return inputs"
            ],
            "metadata": {
                "azdata_cell_guid": "66d907db-56bf-4dcd-b742-cf2c9105d313"
            },
            "outputs": [],
            "execution_count": 69
        },
        {
            "cell_type": "markdown",
            "source": [
                "SAVE MODEL IN ONNX FORMAT"
            ],
            "metadata": {
                "azdata_cell_guid": "2a9fc89a-b24d-47e1-8379-4aefd83b0397"
            },
            "attachments": {}
        },
        {
            "cell_type": "code",
            "source": [
                "# Convert the scikit model to onnx format\r\n",
                "onnx_model = skl2onnx.convert_sklearn(model, 'Boston Data', convert_dataframe_schema(x_train), final_types=[('variable1',FloatTensorType([1,1]))])\r\n",
                "# Save the onnx model locally\r\n",
                "onnx_model_path = 'boston1.model.onnx'\r\n",
                "onnxmltools.utils.save_model(onnx_model, onnx_model_path)"
            ],
            "metadata": {
                "azdata_cell_guid": "95a37d5d-4fca-44b5-ab4a-757debe1a414"
            },
            "outputs": [],
            "execution_count": 72
        },
        {
            "cell_type": "markdown",
            "source": [
                "TEST ONNX MODEL"
            ],
            "metadata": {
                "azdata_cell_guid": "e7b75cf7-8a94-42b9-b012-beb0666fbe55"
            },
            "attachments": {}
        },
        {
            "cell_type": "code",
            "source": [
                "import onnxruntime as rt\r\n",
                "sess = rt.InferenceSession(onnx_model_path)\r\n",
                "\r\n",
                "y_pred = np.full(shape=(len(x_train)), fill_value=np.nan)\r\n",
                "\r\n",
                "for i in range(len(x_train)):\r\n",
                "    inputs = {}\r\n",
                "    for j in range(len(x_train.columns)):\r\n",
                "        inputs[x_train.columns[j]] = np.full(shape=(1,1), fill_value=x_train.iloc[i,j])\r\n",
                "\r\n",
                "    sess_pred = sess.run(None, inputs)\r\n",
                "    y_pred[i] = sess_pred[0][0][0]\r\n",
                "\r\n",
                "onnx_r2_score = r2_score(y_train, y_pred)\r\n",
                "onnx_mse = mean_squared_error(y_train, y_pred)\r\n",
                "\r\n",
                "print()\r\n",
                "print('*** Onnx r2 score: {}'.format(onnx_r2_score))\r\n",
                "print('*** Onnx MSE: {}\\n'.format(onnx_mse))\r\n",
                "print('R2 Scores are equal' if sklearn_r2_score == onnx_r2_score else 'Difference in R2 scores: {}'.format(abs(sklearn_r2_score - onnx_r2_score)))\r\n",
                "print('MSE are equal' if sklearn_mse == onnx_mse else 'Difference in MSE scores: {}'.format(abs(sklearn_mse - onnx_mse)))\r\n",
                "print()"
            ],
            "metadata": {
                "azdata_cell_guid": "1ba02875-cb66-489c-9341-502e853be0f5"
            },
            "outputs": [
                {
                    "name": "stdout",
                    "text": "\n*** Onnx r2 score: 0.740642667298669\n*** Onnx MSE: 21.894830912493322\n\nDifference in R2 scores: 3.189259634162056e-09\nDifference in MSE scores: 2.692358833655817e-07\n\n",
                    "output_type": "stream"
                }
            ],
            "execution_count": 74
        },
        {
            "cell_type": "markdown",
            "source": [
                "<u>INSERT MODEL IN DATABASE</u>"
            ],
            "metadata": {
                "azdata_cell_guid": "f1afba4f-18ea-4cfa-98c7-50cac1aad6f0"
            },
            "attachments": {}
        },
        {
            "cell_type": "code",
            "source": [
                "import pyodbc\r\n",
                "\r\n",
                "server = 'iotedgevm-be9601db-be9601db.eastus.cloudapp.azure.com' # SQL Server IP address\r\n",
                "username = 'sa' # SQL Server username\r\n",
                "password = 'SuperSecretP@ssw0rd!' # SQL Server password\r\n",
                "\r\n",
                "# Connect to the master DB to create the new onnx database\r\n",
                "connection_string = \"Driver={ODBC Driver 17 for SQL Server};Server=\" + server + \";Database=master;UID=\" + username + \";PWD=\" + password + \";\"\r\n",
                "\r\n",
                "conn = pyodbc.connect(connection_string, autocommit=True)\r\n",
                "cursor = conn.cursor()\r\n",
                "\r\n",
                "database = 'onnx'\r\n",
                "query = 'DROP DATABASE IF EXISTS ' + database\r\n",
                "cursor.execute(query)\r\n",
                "conn.commit()\r\n",
                "\r\n",
                "# Create onnx database\r\n",
                "query = 'CREATE DATABASE ' + database\r\n",
                "cursor.execute(query)\r\n",
                "conn.commit()\r\n",
                "\r\n",
                "# Connect to onnx database\r\n",
                "db_connection_string = \"Driver={ODBC Driver 17 for SQL Server};Server=\" + server + \";Database=\" + database + \";UID=\" + username + \";PWD=\" + password + \";\"\r\n",
                "\r\n",
                "conn = pyodbc.connect(db_connection_string, autocommit=True)\r\n",
                "cursor = conn.cursor()\r\n",
                "\r\n",
                "models_table_name = 'models'\r\n",
                "\r\n",
                "# Drop the table if it exists\r\n",
                "query = f'drop table if exists {models_table_name}'\r\n",
                "cursor.execute(query)\r\n",
                "conn.commit()\r\n",
                "\r\n",
                "# Create the model table\r\n",
                "query = f'create table {models_table_name} ( ' \\\r\n",
                "    f'[id] [int] IDENTITY(1,1) NOT NULL, ' \\\r\n",
                "    f'[data] [varbinary](max) NULL, ' \\\r\n",
                "    f'[description] varchar(1000))'\r\n",
                "cursor.execute(query)\r\n",
                "conn.commit()\r\n",
                "\r\n",
                "# Insert the ONNX model into the models table\r\n",
                "query = f\"insert into {models_table_name} ([description], [data]) values ('Onnx Model',?)\"\r\n",
                "\r\n",
                "model_bits = onnx_model.SerializeToString()\r\n",
                "\r\n",
                "insert_params  = (pyodbc.Binary(model_bits))\r\n",
                "cursor.execute(query, insert_params)\r\n",
                "conn.commit()\r\n",
                ""
            ],
            "metadata": {
                "azdata_cell_guid": "7903a3ec-b5c7-45e8-8d2b-3d4a93d0385a"
            },
            "outputs": [],
            "execution_count": 86
        },
        {
            "cell_type": "markdown",
            "source": [
                "ENSURE MODEL HAS BEEN STORED IN TABLE"
            ],
            "metadata": {
                "azdata_cell_guid": "2beb33c4-1ab6-482e-91af-9e1e2ba331ff"
            },
            "attachments": {}
        },
        {
            "cell_type": "code",
            "source": [
                "conn = pyodbc.connect(db_connection_string, autocommit=True)\r\n",
                "cursor = conn.cursor()\r\n",
                "query = f'SELECT * FROM {models_table_name}'\r\n",
                "cursor.execute(query)\r\n",
                "\r\n",
                "for row in cursor.fetchall():\r\n",
                "    print(row)\r\n",
                ""
            ],
            "metadata": {
                "azdata_cell_guid": "061a59f9-69b2-499b-8131-4d355766e9f8"
            },
            "outputs": [
                {
                    "name": "stdout",
                    "text": "(1, b'\\x08\\x07\\x12\\x08skl2onnx\\x1a\\x051.9.0\"\\x07ai.onnx(\\x002\\x00:\\x9f\\x0e\\n)\\n\\x03NOX\\x12\\x08NOX_cast\\x1a\\x05Cast4\"\\x04Cast*\\t\\n\\x02to\\x18\\x0b\\xa0\\x01\\x02:\\x00\\n\\'\\n\\x02ZN\\x12\\x07ZN_cast\\x1a\\x05Cast1\"\\x04Cast*\\t\\n\\x02to\\x18\\x0b\\xa0\\x01\\x02:\\x00\\n*\\n\\x04CRIM\\x12\\tCRIM_cast\\x1a\\x04Cast\"\\x04Cast*\\t\\n\\x02to\\x18\\x0b\\xa0\\x01\\x02:\\x00\\n-\\n\\x05INDUS\\x12\\nINDUS_cast\\x1a\\x05Cast2\"\\x04Cast*\\t\\n\\x02to\\x18\\x0b\\xa0\\x01\\x02:\\x00\\n\\'\\n\\x02RM\\x12\\x07RM_cast\\x1a\\x05Cast5\"\\x04Cast*\\t\\n\\x02to\\x18\\x0b\\xa0\\x01\\x02:\\x00\\n&\\n\\x01B\\x12\\x06B_cast\\x1a\\x06Cast11\"\\x04Cast*\\t\\n\\x02to\\x18\\x0b\\xa0\\x01\\x02:\\x00\\n.\\n\\x05LSTAT\\x12\\nLSTAT_cast\\x1a\\x06Cast12\"\\x04Cast*\\t\\n\\x02to\\x18\\x0b\\xa0\\x01\\x02:\\x00\\n)\\n\\x03AGE\\x12\\x08AGE_cast\\x1a\\x05Cast6\"\\x04Cast*\\t\\n\\x02to\\x18\\x0b\\xa0\\x01\\x02:\\x00\\n)\\n\\x03DIS\\x12\\x08DIS_cast\\x1a\\x05Cast7\"\\x04Cast*\\t\\n\\x02to\\x18\\x0b\\xa0\\x01\\x02:\\x00\\n)\\n\\x03RAD\\x12\\x08RAD_cast\\x1a\\x05Cast8\"\\x04Cast*\\t\\n\\x02to\\x18\\x0b\\xa0\\x01\\x02:\\x00\\n)\\n\\x03TAX\\x12\\x08TAX_cast\\x1a\\x05Cast9\"\\x04Cast*\\t\\n\\x02to\\x18\\x0b\\xa0\\x01\\x02:\\x00\\n2\\n\\x07PTRATIO\\x12\\x0cPTRATIO_cast\\x1a\\x06Cast10\"\\x04Cast*\\t\\n\\x02to\\x18\\x0b\\xa0\\x01\\x02:\\x00\\n+\\n\\x04CHAS\\x12\\tCHAS_cast\\x1a\\x05Cast3\"\\x04Cast*\\t\\n\\x02to\\x18\\x0b\\xa0\\x01\\x02:\\x00\\n\\xb7\\x01\\n\\tCRIM_cast\\n\\x07ZN_cast\\n\\nINDUS_cast\\n\\tCHAS_cast\\n\\x08NOX_cast\\n\\x07RM_cast\\n\\x08AGE_cast\\n\\x08DIS_cast\\n\\x08RAD_cast\\n\\x08TAX_cast\\n\\x0cPTRATIO_cast\\n\\x06B_cast\\n\\nLSTAT_cast\\x12\\x0emerged_columns\\x1a\\x06Concat\"\\x06Concat*\\x0b\\n\\x04axis\\x18\\x01\\xa0\\x01\\x02:\\x00\\n1\\n\\x0emerged_columns\\n\\tSu_Subcst\\x12\\x05Su_C0\\x1a\\x06Su_Sub\"\\x03Sub:\\x00\\n+\\n\\x05Su_C0\\n\\tDi_Divcst\\x12\\x08variable\\x1a\\x06Di_Div\"\\x03Div:\\x00\\n.\\n\\x08variable\\n\\x04coef\\x12\\nmultiplied\\x1a\\x06MatMul\"\\x06MatMul:\\x00\\n)\\n\\nmultiplied\\n\\tintercept\\x12\\x04resh\\x1a\\x03Add\"\\x03Add:\\x00\\n3\\n\\x04resh\\n\\x0cshape_tensor\\x12\\tvariable2\\x1a\\x07Reshape\"\\x07Reshape:\\x00\\n1\\n\\tvariable2\\x12\\tvariable1\\x1a\\x06Cast13\"\\x04Cast*\\t\\n\\x02to\\x18\\x01\\xa0\\x01\\x02:\\x00\\x12\\x0bBoston Data*y\\x08\\r\\x10\\x0bB\\tSu_SubcstRh\\x984F\\xeb\\xa8j\\xd0?\\x00\\x00\\x00\\x00\\x00\\x00\\x00\\x00\\xe1z\\x14\\xaeGa#@\\x00\\x00\\x00\\x00\\x00\\x00\\x00\\x00\\x9e\\xef\\xa7\\xc6K7\\xe1?/\\xdd$\\x06\\x81\\xd5\\x18@\\x00\\x00\\x00\\x00\\x00`S@\\x0cq\\xac\\x8b\\xdb\\xa8\\t@\\x00\\x00\\x00\\x00\\x00\\x00\\x14@\\x00\\x00\\x00\\x00\\x00\\xa0t@\\xcd\\xcc\\xcc\\xcc\\xcc\\x0c3@\\xd7\\xa3p=\\nwx@\\xb8\\x1e\\x85\\xebQ\\xb8&@*y\\x08\\r\\x10\\x0bB\\tDi_DivcstRh\\x18&S\\x05\\xa3\\xc2\\x0c@\\x00\\x00\\x00\\x00\\x00\\x00)@R\\xb8\\x1e\\x85\\xeb\\xd1)@\\x00\\x00\\x00\\x00\\x00\\x00\\xf0?ffffff\\xc6?\\x08V\\x0e-\\xb2\\x9d\\xe7?effff\\x86H@\\xdc\\xf9~j\\xbc\\xb4\\x08@\\x00\\x00\\x00\\x00\\x00\\x004@\\x00\\x00\\x00\\x00\\x000x@hfffff\\x06@0\\\\\\x8f\\xc2\\xf5\\xd84@\\xc4\\xf5(\\\\\\x8f\\x02$@*v\\x08\\r\\x08\\x01\\x10\\x0bB\\x04coefRh\\x92\\xd8\\x1a\\xb8\\xfc\\xd9\\xd8\\xbf\\xean\\xbcvt\\x91\\xe2?\\xd6\\xd3\\x89\\r\\x82\\xfc\\xd0?\\xcd%\\xf9Ln~\\x05@b\\xd0\\xd4\\xaf\\x8d\\xdf\\x08\\xc0\\xc6\\xcd\\x9b[R~\\x06@4\\x1f\\x03c^b\\xa1?\\x15\\xbcK\\x0eI:\\x12\\xc0\\xd8\\xee?\\xb1\\xe4{\\x18@+\\xc9\\xa42\\r\\x18\\x13\\xc0\\xcao\\xa2\\x08oW\\x05\\xc0pQ\\x070\\x19\\xd9\\xc8?\\xcd\\x13\\xd1i6\\x00\\x15\\xc0*\\x19\\x08\\x01\\x10\\x0bB\\tinterceptR\\x08LF/Nh\\n7@*\\x1f\\x08\\x02\\x10\\x07:\\x0b\\xff\\xff\\xff\\xff\\xff\\xff\\xff\\xff\\xff\\x01\\x01B\\x0cshape_tensorZ\\x16\\n\\x04CRIM\\x12\\x0e\\n\\x0c\\x08\\x0b\\x12\\x08\\n\\x02\\x08\\x01\\n\\x02\\x08\\x01Z\\x14\\n\\x02ZN\\x12\\x0e\\n\\x0c\\x08\\x0b\\x12\\x08\\n\\x02\\x08\\x01\\n\\x02\\x08\\x01Z\\x17\\n\\x05INDUS\\x12\\x0e\\n\\x0c\\x08\\x0b\\x12\\x08\\n\\x02\\x08\\x01\\n\\x02\\x08\\x01Z\\x16\\n\\x04CHAS\\x12\\x0e\\n\\x0c\\x08\\x0b\\x12\\x08\\n\\x02\\x08\\x01\\n\\x02\\x08\\x01Z\\x15\\n\\x03NOX\\x12\\x0e\\n\\x0c\\x08\\x0b\\x12\\x08\\n\\x02\\x08\\x01\\n\\x02\\x08\\x01Z\\x14\\n\\x02RM\\x12\\x0e\\n\\x0c\\x08\\x0b\\x12\\x08\\n\\x02\\x08\\x01\\n\\x02\\x08\\x01Z\\x15\\n\\x03AGE\\x12\\x0e\\n\\x0c\\x08\\x0b\\x12\\x08\\n\\x02\\x08\\x01\\n\\x02\\x08\\x01Z\\x15\\n\\x03DIS\\x12\\x0e\\n\\x0c\\x08\\x0b\\x12\\x08\\n\\x02\\x08\\x01\\n\\x02\\x08\\x01Z\\x15\\n\\x03RAD\\x12\\x0e\\n\\x0c\\x08\\x0b\\x12\\x08\\n\\x02\\x08\\x01\\n\\x02\\x08\\x01Z\\x15\\n\\x03TAX\\x12\\x0e\\n\\x0c\\x08\\x0b\\x12\\x08\\n\\x02\\x08\\x01\\n\\x02\\x08\\x01Z\\x19\\n\\x07PTRATIO\\x12\\x0e\\n\\x0c\\x08\\x0b\\x12\\x08\\n\\x02\\x08\\x01\\n\\x02\\x08\\x01Z\\x13\\n\\x01B\\x12\\x0e\\n\\x0c\\x08\\x0b\\x12\\x08\\n\\x02\\x08\\x01\\n\\x02\\x08\\x01Z\\x17\\n\\x05LSTAT\\x12\\x0e\\n\\x0c\\x08\\x0b\\x12\\x08\\n\\x02\\x08\\x01\\n\\x02\\x08\\x01b\\x1b\\n\\tvariable1\\x12\\x0e\\n\\x0c\\x08\\x01\\x12\\x08\\n\\x02\\x08\\x01\\n\\x02\\x08\\x01B\\x04\\n\\x00\\x10\\x0e', 'Onnx Model')\n",
                    "output_type": "stream"
                }
            ],
            "execution_count": 92
        },
        {
            "cell_type": "markdown",
            "source": [
                "CREATE FEATURES AND TARGET TABLES"
            ],
            "metadata": {
                "azdata_cell_guid": "38e9f5f6-2b9b-490e-8177-fe5b654c5211"
            },
            "attachments": {}
        },
        {
            "cell_type": "code",
            "source": [
                "import sqlalchemy\r\n",
                "from sqlalchemy import create_engine\r\n",
                "import urllib\r\n",
                "\r\n",
                "db_connection_string = \"Driver={ODBC Driver 17 for SQL Server};Server=\" + server + \";Database=\" + database + \";UID=\" + username + \";PWD=\" + password + \";\"\r\n",
                "\r\n",
                "conn = pyodbc.connect(db_connection_string)\r\n",
                "cursor = conn.cursor()\r\n",
                "\r\n",
                "features_table_name = 'features'\r\n",
                "\r\n",
                "# Drop the table if it exists\r\n",
                "query = f'drop table if exists {features_table_name}'\r\n",
                "cursor.execute(query)\r\n",
                "conn.commit()\r\n",
                "\r\n",
                "# Create the features table\r\n",
                "query = \\\r\n",
                "    f'create table {features_table_name} ( ' \\\r\n",
                "    f'    [CRIM] float, ' \\\r\n",
                "    f'    [ZN] float, ' \\\r\n",
                "    f'    [INDUS] float, ' \\\r\n",
                "    f'    [CHAS] float, ' \\\r\n",
                "    f'    [NOX] float, ' \\\r\n",
                "    f'    [RM] float, ' \\\r\n",
                "    f'    [AGE] float, ' \\\r\n",
                "    f'    [DIS] float, ' \\\r\n",
                "    f'    [RAD] float, ' \\\r\n",
                "    f'    [TAX] float, ' \\\r\n",
                "    f'    [PTRATIO] float, ' \\\r\n",
                "    f'    [B] float, ' \\\r\n",
                "    f'    [LSTAT] float, ' \\\r\n",
                "    f'    [id] int)'\r\n",
                "\r\n",
                "cursor.execute(query)\r\n",
                "conn.commit()\r\n",
                "\r\n",
                "target_table_name = 'target'\r\n",
                "\r\n",
                "query = f'drop table if exists {target_table_name}'\r\n",
                "cursor.execute(query)\r\n",
                "conn.commit()\r\n",
                "\r\n",
                "# Create the target table\r\n",
                "query = \\\r\n",
                "    f'create table {target_table_name} ( ' \\\r\n",
                "    f'    [MEDV] float, ' \\\r\n",
                "    f'    [id] int)'\r\n",
                "\r\n",
                "cursor.execute(query)\r\n",
                "conn.commit()\r\n",
                "\r\n",
                "x_train['id'] = range(1, len(x_train)+1)\r\n",
                "y_train['id'] = range(1, len(y_train)+1)\r\n",
                "\r\n",
                "print(x_train.head())\r\n",
                "print(y_train.head())"
            ],
            "metadata": {
                "azdata_cell_guid": "3fe85731-6acf-48a7-9b7a-23961c76482c"
            },
            "outputs": [
                {
                    "name": "stdout",
                    "text": "      CRIM    ZN  INDUS  CHAS    NOX     RM   AGE     DIS  RAD    TAX  \\\n0  0.00632  18.0   2.31   0.0  0.538  6.575  65.2  4.0900  1.0  296.0   \n1  0.02731   0.0   7.07   0.0  0.469  6.421  78.9  4.9671  2.0  242.0   \n2  0.02729   0.0   7.07   0.0  0.469  7.185  61.1  4.9671  2.0  242.0   \n3  0.03237   0.0   2.18   0.0  0.458  6.998  45.8  6.0622  3.0  222.0   \n4  0.06905   0.0   2.18   0.0  0.458  7.147  54.2  6.0622  3.0  222.0   \n\n   PTRATIO       B  LSTAT  id  \n0     15.3  396.90   4.98   1  \n1     17.8  396.90   9.14   2  \n2     17.8  392.83   4.03   3  \n3     18.7  394.63   2.94   4  \n4     18.7  396.90   5.33   5  \n   MEDV  id\n0  24.0   1\n1  21.6   2\n2  34.7   3\n3  33.4   4\n4  36.2   5\n",
                    "output_type": "stream"
                }
            ],
            "execution_count": 93
        },
        {
            "cell_type": "markdown",
            "source": [
                "INSERT FEATURES & TARGET DATASETS INTO THE DATABASE"
            ],
            "metadata": {
                "azdata_cell_guid": "45ce265f-81b9-4eac-9e4a-1b2483e8b69d"
            },
            "attachments": {}
        },
        {
            "cell_type": "code",
            "source": [
                "conn = pyodbc.connect('DRIVER={SQL Server};SERVER='+server+';DATABASE='+database+';UID='+username+';PWD='+ password)\r\n",
                "cursor = conn.cursor()\r\n",
                "\r\n",
                "# for index, row in x_train.iterrows():\r\n",
                "#     # print(index)\r\n",
                "#     cursor.execute(f'INSERT INTO {features_table_name} (CRIM,ZN,INDUS,CHAS,NOX,RM,AGE,DIS,RAD,TAX,PTRATIO,B,LSTAT,id) VALUES ({row.CRIM},{row.ZN},{row.INDUS},{row.CHAS},{row.NOX},{row.RM},{row.AGE},{row.DIS},{row.RAD},{row.TAX},{row.PTRATIO},{row.B},{row.LSTAT},{row.id})')\r\n",
                "\r\n",
                "# conn.commit()\r\n",
                "\r\n",
                "for index, row in y_train.iterrows():\r\n",
                "    # print(index)\r\n",
                "    cursor.execute(f'INSERT INTO {target_table_name} (MEDV,id) VALUES ({row.MEDV},{row.id})')\r\n",
                "\r\n",
                "conn.commit()\r\n",
                "cursor.close()"
            ],
            "metadata": {
                "azdata_cell_guid": "3853118d-cfc0-4876-9f58-aeccd1c61d74"
            },
            "outputs": [],
            "execution_count": 95
        },
        {
            "cell_type": "code",
            "source": [
                "RUN PREDICT STATEMENT (SWITCH TO SQL KERNEL)"
            ],
            "metadata": {
                "azdata_cell_guid": "4a6c5c3c-87bd-4a1e-b08d-52981cbb8dce"
            },
            "outputs": [],
            "execution_count": null
        },
        {
            "cell_type": "code",
            "source": [
                "USE onnx\r\n",
                "\r\n",
                "DECLARE @model VARBINARY(max) = (\r\n",
                "        SELECT DATA\r\n",
                "        FROM dbo.models\r\n",
                "        WHERE id = 1\r\n",
                "        );\r\n",
                "\r\n",
                "WITH predict_input\r\n",
                "AS (\r\n",
                "    SELECT TOP (1000) [id]\r\n",
                "        , CRIM\r\n",
                "        , ZN\r\n",
                "        , INDUS\r\n",
                "        , CHAS\r\n",
                "        , NOX\r\n",
                "        , RM\r\n",
                "        , AGE\r\n",
                "        , DIS\r\n",
                "        , RAD\r\n",
                "        , TAX\r\n",
                "        , PTRATIO\r\n",
                "        , B\r\n",
                "        , LSTAT\r\n",
                "    FROM [dbo].[features]\r\n",
                "    )\r\n",
                "SELECT predict_input.id\r\n",
                "    , p.variable1 AS MEDV\r\n",
                "FROM PREDICT(MODEL = @model, DATA = predict_input, RUNTIME=ONNX) WITH (variable1 FLOAT) AS p;\r\n",
                ""
            ],
            "metadata": {
                "azdata_cell_guid": "a553facc-ef3d-4410-be76-8935c5c03972"
            },
            "outputs": [
                {
                    "output_type": "display_data",
                    "data": {
                        "text/html": "Total execution time: 00:00:00.087"
                    },
                    "metadata": {}
                },
                {
                    "output_type": "execute_result",
                    "metadata": {},
                    "execution_count": 1,
                    "data": {
                        "application/vnd.dataresource+json": {
                            "schema": {
                                "fields": [
                                    {
                                        "name": "id"
                                    },
                                    {
                                        "name": "MEDV"
                                    }
                                ]
                            },
                            "data": []
                        },
                        "text/html": [
                            "<table>",
                            "<tr><th>id</th><th>MEDV</th></tr>",
                            "</table>"
                        ]
                    }
                },
                {
                    "output_type": "error",
                    "evalue": "Msg 39051, Level 16, State 11, Line 9\r\nError occurred during execution of the builtin function 'PREDICT' with HRESULT 0x80004005. Model is corrupt or invalid.",
                    "ename": "",
                    "traceback": []
                }
            ],
            "execution_count": 1
        }
    ]
}